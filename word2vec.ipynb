{
 "cells": [
  {
   "cell_type": "code",
   "execution_count": 6,
   "id": "66e34dac-c0eb-4c88-a60e-cc073229a1db",
   "metadata": {},
   "outputs": [
    {
     "ename": "ModuleNotFoundError",
     "evalue": "No module named 'pyspark'",
     "output_type": "error",
     "traceback": [
      "\u001b[0;31m---------------------------------------------------------------------------\u001b[0m",
      "\u001b[0;31mModuleNotFoundError\u001b[0m                       Traceback (most recent call last)",
      "Cell \u001b[0;32mIn [6], line 1\u001b[0m\n\u001b[0;32m----> 1\u001b[0m \u001b[38;5;28;01mfrom\u001b[39;00m \u001b[38;5;21;01mpyspark\u001b[39;00m\u001b[38;5;21;01m.\u001b[39;00m\u001b[38;5;21;01mml\u001b[39;00m\u001b[38;5;21;01m.\u001b[39;00m\u001b[38;5;21;01mfeature\u001b[39;00m \u001b[38;5;28;01mimport\u001b[39;00m Word2Vec\n\u001b[1;32m      2\u001b[0m \u001b[38;5;28;01mimport\u001b[39;00m \u001b[38;5;21;01mpandas\u001b[39;00m \u001b[38;5;28;01mas\u001b[39;00m \u001b[38;5;21;01mpd\u001b[39;00m\n",
      "\u001b[0;31mModuleNotFoundError\u001b[0m: No module named 'pyspark'"
     ]
    }
   ],
   "source": [
    "from pyspark.ml.feature import Word2Vec\n",
    "import pandas as pd"
   ]
  },
  {
   "cell_type": "code",
   "execution_count": 5,
   "id": "97096ef3-c066-4454-81a1-02ad3601fbea",
   "metadata": {},
   "outputs": [
    {
     "ename": "NameError",
     "evalue": "name 'Word2Vec' is not defined",
     "output_type": "error",
     "traceback": [
      "\u001b[0;31m---------------------------------------------------------------------------\u001b[0m",
      "\u001b[0;31mNameError\u001b[0m                                 Traceback (most recent call last)",
      "Cell \u001b[0;32mIn [5], line 1\u001b[0m\n\u001b[0;32m----> 1\u001b[0m word2vec \u001b[38;5;241m=\u001b[39m \u001b[43mWord2Vec\u001b[49m(vectorSize\u001b[38;5;241m=\u001b[39m\u001b[38;5;241m5\u001b[39m, seed\u001b[38;5;241m=\u001b[39m\u001b[38;5;241m42\u001b[39m, minCount\u001b[38;5;241m=\u001b[39m\u001b[38;5;241m0\u001b[39m, inputCol \u001b[38;5;241m=\u001b[39m \u001b[38;5;124m'\u001b[39m\u001b[38;5;124minput\u001b[39m\u001b[38;5;124m'\u001b[39m, outputCol \u001b[38;5;241m=\u001b[39m \u001b[38;5;124m'\u001b[39m\u001b[38;5;124moutput\u001b[39m\u001b[38;5;124m'\u001b[39m)\n",
      "\u001b[0;31mNameError\u001b[0m: name 'Word2Vec' is not defined"
     ]
    }
   ],
   "source": [
    "word2vec = Word2Vec(vectorSize=5, seed=42, minCount=0, inputCol = 'input', outputCol = 'output')"
   ]
  },
  {
   "cell_type": "code",
   "execution_count": null,
   "id": "2cc51ab9",
   "metadata": {},
   "outputs": [],
   "source": [
    "spark.createDataFrame("
   ]
  },
  {
   "cell_type": "code",
   "execution_count": 18,
   "id": "4187dab9-4f1c-44e2-a101-7a6b3306085a",
   "metadata": {},
   "outputs": [],
   "source": [
    "df = spark.createDataFrame([(\"I have a notebook\".split(\" \"),),\n",
    "                            (\"Don't need a pen\".split(\" \"),),\n",
    "                            (\"Do you have any class?\".split(\" \"),),\n",
    "                            (\"I need a book\".split(\" \"),),\n",
    "                            (\"What books do you read?\".split(\" \"),)],[\"input\"])"
   ]
  },
  {
   "cell_type": "code",
   "execution_count": 19,
   "id": "3777cae7-88c0-4415-a351-7cf9b12d58c7",
   "metadata": {},
   "outputs": [
    {
     "name": "stdout",
     "output_type": "stream",
     "text": [
      "+--------------------+\n",
      "|               input|\n",
      "+--------------------+\n",
      "|[I, have, a, note...|\n",
      "|[Don't, need, a, ...|\n",
      "|[Do, you, have, a...|\n",
      "|  [I, need, a, book]|\n",
      "|[What, books, do,...|\n",
      "+--------------------+\n",
      "\n"
     ]
    }
   ],
   "source": [
    "df.show()"
   ]
  },
  {
   "cell_type": "code",
   "execution_count": 20,
   "id": "e43cbd1c-57e1-4ccb-989e-af1b941c2080",
   "metadata": {},
   "outputs": [],
   "source": [
    "model = word2vec.fit(df)"
   ]
  },
  {
   "cell_type": "code",
   "execution_count": 22,
   "id": "d14911e7-d661-44a9-b458-90c734c69755",
   "metadata": {},
   "outputs": [
    {
     "data": {
      "text/plain": [
       "0"
      ]
     },
     "execution_count": 22,
     "metadata": {},
     "output_type": "execute_result"
    }
   ],
   "source": [
    "model.getMinCount()"
   ]
  },
  {
   "cell_type": "code",
   "execution_count": 23,
   "id": "134d64c6-0109-4114-8c12-2b52d9e6f01c",
   "metadata": {},
   "outputs": [
    {
     "name": "stdout",
     "output_type": "stream",
     "text": [
      "+--------+--------------------+\n",
      "|    word|              vector|\n",
      "+--------+--------------------+\n",
      "|     any|[-0.0095354979857...|\n",
      "|    have|[-0.0850833728909...|\n",
      "|notebook|[-0.0522005446255...|\n",
      "|      do|[0.01857463270425...|\n",
      "|   read?|[-0.0954124853014...|\n",
      "|    book|[-0.0716638937592...|\n",
      "|       a|[-0.0048692366108...|\n",
      "|     pen|[0.01286870613694...|\n",
      "|       I|[-0.0861286446452...|\n",
      "|     you|[0.03944409638643...|\n",
      "|    need|[0.05847284942865...|\n",
      "|    What|[0.07051099836826...|\n",
      "|  class?|[0.08501707017421...|\n",
      "|   books|[0.07735065370798...|\n",
      "|      Do|[0.05795655027031...|\n",
      "|   Don't|[-0.0955519750714...|\n",
      "+--------+--------------------+\n",
      "\n"
     ]
    },
    {
     "name": "stderr",
     "output_type": "stream",
     "text": [
      "/koko/system/spark-3.2.1-bin-hadoop3.2/python/pyspark/sql/context.py:125: FutureWarning: Deprecated in 3.0.0. Use SparkSession.builder.getOrCreate() instead.\n",
      "  warnings.warn(\n"
     ]
    }
   ],
   "source": [
    "model.getVectors().show()"
   ]
  },
  {
   "cell_type": "code",
   "execution_count": 31,
   "id": "9435c778-7d66-4284-b1f5-a6e4d51e95d2",
   "metadata": {},
   "outputs": [
    {
     "data": {
      "text/plain": [
       "pyspark.sql.dataframe.DataFrame"
      ]
     },
     "execution_count": 31,
     "metadata": {},
     "output_type": "execute_result"
    }
   ],
   "source": [
    "type(model.getVectors())"
   ]
  },
  {
   "cell_type": "code",
   "execution_count": 33,
   "id": "443a5b66-c8ac-4461-b2d3-28ee3ce4c045",
   "metadata": {},
   "outputs": [
    {
     "name": "stdout",
     "output_type": "stream",
     "text": [
      "+----+--------------------+\n",
      "|word|              vector|\n",
      "+----+--------------------+\n",
      "| any|[-0.0095354979857...|\n",
      "+----+--------------------+\n",
      "only showing top 1 row\n",
      "\n"
     ]
    }
   ],
   "source": [
    "model.getVectors().show(1)"
   ]
  },
  {
   "cell_type": "code",
   "execution_count": null,
   "id": "ca584eb6-eb91-474c-89ec-9f270997f582",
   "metadata": {},
   "outputs": [],
   "source": []
  }
 ],
 "metadata": {
  "kernelspec": {
   "display_name": "Python 3 (ipykernel)",
   "language": "python",
   "name": "python3"
  },
  "language_info": {
   "codemirror_mode": {
    "name": "ipython",
    "version": 3
   },
   "file_extension": ".py",
   "mimetype": "text/x-python",
   "name": "python",
   "nbconvert_exporter": "python",
   "pygments_lexer": "ipython3",
   "version": "3.10.7"
  }
 },
 "nbformat": 4,
 "nbformat_minor": 5
}
