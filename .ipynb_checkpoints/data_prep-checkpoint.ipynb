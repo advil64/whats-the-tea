{
 "cells": [
  {
   "cell_type": "code",
   "execution_count": 1,
   "id": "dec2c1d3-3754-4512-97a4-5fcf16bcd704",
   "metadata": {},
   "outputs": [
    {
     "name": "stdout",
     "output_type": "stream",
     "text": [
      "+--------------------+-------------------+------------+--------------------+--------------------+\n",
      "|             authors|             domain|publish_date|             summary|               title|\n",
      "+--------------------+-------------------+------------+--------------------+--------------------+\n",
      "| [Reuters Editorial]|        reuters.com|  04-11-2013|U.S. investment b...|DEALTALK-Banks fi...|\n",
      "|[Reuters Editoria...|        reuters.com|  04-11-2011|Mexican coffee pr...|Mexico coffee far...|\n",
      "| [Reuters Editorial]|        reuters.com|  03-27-2013|Oil companies are...|Oil industry to s...|\n",
      "|                  []|     sportsgrid.com|  07-23-2014|Adam Dunn … you a...|Fantasy Baseball:...|\n",
      "|                  []|    staugustine.com|  01-01-2014|» County’s annual...|Teacher of the ye...|\n",
      "|          [Sam Colt]|businessinsider.com|  06-20-2014|Dropcam will prob...|Google's Nest Is ...|\n",
      "|     [Robert Ferris]|businessinsider.com|  02-28-2013|Wild Insects need...|Insects Are Disap...|\n",
      "|[Fiona Macrae Sci...|    dailymail.co.uk|  12-17-2015|British scientist...|Allantoin in many...|\n",
      "|[Mail Today Repor...|    dailymail.co.uk|  05-23-2014|The Big Bang Theo...|BLOGS OF THE DAY:...|\n",
      "|[Daily Mail Repor...|    dailymail.co.uk|  12-22-2010|A nurse made the ...|An ear-ie discove...|\n",
      "|[Stephanie Linnin...|    dailymail.co.uk|  10-20-2014|Mother-of-three D...|Grandmother with ...|\n",
      "|[Anthony Joseph F...|    dailymail.co.uk|  09-08-2015|The Scots were ki...|14 men thrown off...|\n",
      "|[Daniel Peters Fo...|    dailymail.co.uk|  11-01-2015|He may not be com...|Australian rugby'...|\n",
      "|[Leith Huffadine,...|    dailymail.co.uk|  07-12-2016|The wreckage of t...|Photos show wreck...|\n",
      "|       [Pa Reporter]|    dailymail.co.uk|  10-24-2015|Inter Milan were ...|Palermo 1-1 Inter...|\n",
      "|[Press Associatio...|    dailymail.co.uk|  11-13-2016|18-year-old Aditi...|Aditi Ashok claim...|\n",
      "|[Ben Nagle For Ma...|    dailymail.co.uk|  05-16-2016|Tiger Woods grima...|Tiger Woods endur...|\n",
      "|[Daily Mail Repor...|    dailymail.co.uk|  10-14-2010|Danny Cipriani to...|Morning after the...|\n",
      "| [Press Association]|    dailymail.co.uk|  05-12-2017|Both sides edged ...|Manchester United...|\n",
      "|                  []|      heraldnet.com|  04-19-2014|DENVER — A colleg...|Deaths stoke worr...|\n",
      "+--------------------+-------------------+------------+--------------------+--------------------+\n",
      "only showing top 20 rows\n",
      "\n"
     ]
    }
   ],
   "source": [
    "df_truncated = spark.read.json('/common/users/shared/cs543_fall22_group3/realnews/realnews_truncated')\n",
    "df_truncated.show()"
   ]
  },
  {
   "cell_type": "code",
   "execution_count": null,
   "id": "83673d88-bb81-40db-a00e-aea329a2b9d6",
   "metadata": {},
   "outputs": [],
   "source": [
    "# starting stop words removal\n"
   ]
  }
 ],
 "metadata": {
  "kernelspec": {
   "display_name": "Spark 3 in Python 3",
   "language": "python",
   "name": "pyspark3"
  },
  "language_info": {
   "codemirror_mode": {
    "name": "ipython",
    "version": 3
   },
   "file_extension": ".py",
   "mimetype": "text/x-python",
   "name": "python",
   "nbconvert_exporter": "python",
   "pygments_lexer": "ipython3",
   "version": "3.9.5"
  }
 },
 "nbformat": 4,
 "nbformat_minor": 5
}
