{
 "cells": [
  {
   "cell_type": "code",
   "execution_count": 17,
   "id": "504a6b71-576f-4a0e-8cec-7b7b1e72cb35",
   "metadata": {},
   "outputs": [],
   "source": [
    "import pandas as pd\n",
    "import numpy as np\n",
    "import re\n",
    "import gensim\n",
    "import nltk\n",
    "from gensim.parsing.preprocessing import STOPWORDS\n",
    "from nltk.stem import WordNetLemmatizer"
   ]
  },
  {
   "cell_type": "code",
   "execution_count": 5,
   "id": "f118c83d-36b6-4a6f-9f93-1ed6cbf83882",
   "metadata": {},
   "outputs": [
    {
     "data": {
      "text/html": [
       "<div>\n",
       "<style scoped>\n",
       "    .dataframe tbody tr th:only-of-type {\n",
       "        vertical-align: middle;\n",
       "    }\n",
       "\n",
       "    .dataframe tbody tr th {\n",
       "        vertical-align: top;\n",
       "    }\n",
       "\n",
       "    .dataframe thead th {\n",
       "        text-align: right;\n",
       "    }\n",
       "</style>\n",
       "<table border=\"1\" class=\"dataframe\">\n",
       "  <thead>\n",
       "    <tr style=\"text-align: right;\">\n",
       "      <th></th>\n",
       "      <th>link</th>\n",
       "      <th>headline</th>\n",
       "      <th>category</th>\n",
       "      <th>short_description</th>\n",
       "      <th>authors</th>\n",
       "      <th>date</th>\n",
       "    </tr>\n",
       "  </thead>\n",
       "  <tbody>\n",
       "    <tr>\n",
       "      <th>0</th>\n",
       "      <td>https://www.huffpost.com/entry/covid-boosters-...</td>\n",
       "      <td>Over 4 Million Americans Roll Up Sleeves For O...</td>\n",
       "      <td>U.S. NEWS</td>\n",
       "      <td>Health experts said it is too early to predict...</td>\n",
       "      <td>Carla K. Johnson, AP</td>\n",
       "      <td>2022-09-23</td>\n",
       "    </tr>\n",
       "    <tr>\n",
       "      <th>1</th>\n",
       "      <td>https://www.huffpost.com/entry/american-airlin...</td>\n",
       "      <td>American Airlines Flyer Charged, Banned For Li...</td>\n",
       "      <td>U.S. NEWS</td>\n",
       "      <td>He was subdued by passengers and crew when he ...</td>\n",
       "      <td>Mary Papenfuss</td>\n",
       "      <td>2022-09-23</td>\n",
       "    </tr>\n",
       "    <tr>\n",
       "      <th>2</th>\n",
       "      <td>https://www.huffpost.com/entry/funniest-tweets...</td>\n",
       "      <td>23 Of The Funniest Tweets About Cats And Dogs ...</td>\n",
       "      <td>COMEDY</td>\n",
       "      <td>\"Until you have a dog you don't understand wha...</td>\n",
       "      <td>Elyse Wanshel</td>\n",
       "      <td>2022-09-23</td>\n",
       "    </tr>\n",
       "    <tr>\n",
       "      <th>3</th>\n",
       "      <td>https://www.huffpost.com/entry/funniest-parent...</td>\n",
       "      <td>The Funniest Tweets From Parents This Week (Se...</td>\n",
       "      <td>PARENTING</td>\n",
       "      <td>\"Accidentally put grown-up toothpaste on my to...</td>\n",
       "      <td>Caroline Bologna</td>\n",
       "      <td>2022-09-23</td>\n",
       "    </tr>\n",
       "    <tr>\n",
       "      <th>4</th>\n",
       "      <td>https://www.huffpost.com/entry/amy-cooper-lose...</td>\n",
       "      <td>Woman Who Called Cops On Black Bird-Watcher Lo...</td>\n",
       "      <td>U.S. NEWS</td>\n",
       "      <td>Amy Cooper accused investment firm Franklin Te...</td>\n",
       "      <td>Nina Golgowski</td>\n",
       "      <td>2022-09-22</td>\n",
       "    </tr>\n",
       "  </tbody>\n",
       "</table>\n",
       "</div>"
      ],
      "text/plain": [
       "                                                link  \\\n",
       "0  https://www.huffpost.com/entry/covid-boosters-...   \n",
       "1  https://www.huffpost.com/entry/american-airlin...   \n",
       "2  https://www.huffpost.com/entry/funniest-tweets...   \n",
       "3  https://www.huffpost.com/entry/funniest-parent...   \n",
       "4  https://www.huffpost.com/entry/amy-cooper-lose...   \n",
       "\n",
       "                                            headline   category  \\\n",
       "0  Over 4 Million Americans Roll Up Sleeves For O...  U.S. NEWS   \n",
       "1  American Airlines Flyer Charged, Banned For Li...  U.S. NEWS   \n",
       "2  23 Of The Funniest Tweets About Cats And Dogs ...     COMEDY   \n",
       "3  The Funniest Tweets From Parents This Week (Se...  PARENTING   \n",
       "4  Woman Who Called Cops On Black Bird-Watcher Lo...  U.S. NEWS   \n",
       "\n",
       "                                   short_description               authors  \\\n",
       "0  Health experts said it is too early to predict...  Carla K. Johnson, AP   \n",
       "1  He was subdued by passengers and crew when he ...        Mary Papenfuss   \n",
       "2  \"Until you have a dog you don't understand wha...         Elyse Wanshel   \n",
       "3  \"Accidentally put grown-up toothpaste on my to...      Caroline Bologna   \n",
       "4  Amy Cooper accused investment firm Franklin Te...        Nina Golgowski   \n",
       "\n",
       "        date  \n",
       "0 2022-09-23  \n",
       "1 2022-09-23  \n",
       "2 2022-09-23  \n",
       "3 2022-09-23  \n",
       "4 2022-09-22  "
      ]
     },
     "execution_count": 5,
     "metadata": {},
     "output_type": "execute_result"
    }
   ],
   "source": [
    "df = pd.read_json('input/News_Category_Dataset_v3.json', lines=True)\n",
    "df.head()"
   ]
  },
  {
   "cell_type": "code",
   "execution_count": 6,
   "id": "c3a4fae7-3997-451e-848d-ab3c476492b4",
   "metadata": {},
   "outputs": [
    {
     "name": "stdout",
     "output_type": "stream",
     "text": [
      "(209527, 6)\n",
      "Unique categories: 42\n",
      "-------------------------------------------------\n",
      "<class 'pandas.core.frame.DataFrame'>\n",
      "RangeIndex: 209527 entries, 0 to 209526\n",
      "Data columns (total 6 columns):\n",
      " #   Column             Non-Null Count   Dtype         \n",
      "---  ------             --------------   -----         \n",
      " 0   link               209527 non-null  object        \n",
      " 1   headline           209527 non-null  object        \n",
      " 2   category           209527 non-null  object        \n",
      " 3   short_description  209527 non-null  object        \n",
      " 4   authors            209527 non-null  object        \n",
      " 5   date               209527 non-null  datetime64[ns]\n",
      "dtypes: datetime64[ns](1), object(5)\n",
      "memory usage: 9.6+ MB\n"
     ]
    }
   ],
   "source": [
    "print(df.shape)\n",
    "print(\"Unique categories:\",df['category'].nunique())\n",
    "print(\"-------------------------------------------------\")\n",
    "# information about metadata\n",
    "df.info()"
   ]
  },
  {
   "cell_type": "code",
   "execution_count": 7,
   "id": "71456485-41fb-42ed-b1ee-805630912ed9",
   "metadata": {},
   "outputs": [
    {
     "data": {
      "text/html": [
       "<div>\n",
       "<style scoped>\n",
       "    .dataframe tbody tr th:only-of-type {\n",
       "        vertical-align: middle;\n",
       "    }\n",
       "\n",
       "    .dataframe tbody tr th {\n",
       "        vertical-align: top;\n",
       "    }\n",
       "\n",
       "    .dataframe thead th {\n",
       "        text-align: right;\n",
       "    }\n",
       "</style>\n",
       "<table border=\"1\" class=\"dataframe\">\n",
       "  <thead>\n",
       "    <tr style=\"text-align: right;\">\n",
       "      <th></th>\n",
       "      <th>headline</th>\n",
       "      <th>category</th>\n",
       "      <th>short_description</th>\n",
       "    </tr>\n",
       "  </thead>\n",
       "  <tbody>\n",
       "    <tr>\n",
       "      <th>0</th>\n",
       "      <td>Over 4 Million Americans Roll Up Sleeves For O...</td>\n",
       "      <td>U.S. NEWS</td>\n",
       "      <td>Health experts said it is too early to predict...</td>\n",
       "    </tr>\n",
       "    <tr>\n",
       "      <th>1</th>\n",
       "      <td>American Airlines Flyer Charged, Banned For Li...</td>\n",
       "      <td>U.S. NEWS</td>\n",
       "      <td>He was subdued by passengers and crew when he ...</td>\n",
       "    </tr>\n",
       "    <tr>\n",
       "      <th>2</th>\n",
       "      <td>23 Of The Funniest Tweets About Cats And Dogs ...</td>\n",
       "      <td>COMEDY</td>\n",
       "      <td>\"Until you have a dog you don't understand wha...</td>\n",
       "    </tr>\n",
       "    <tr>\n",
       "      <th>3</th>\n",
       "      <td>The Funniest Tweets From Parents This Week (Se...</td>\n",
       "      <td>PARENTING</td>\n",
       "      <td>\"Accidentally put grown-up toothpaste on my to...</td>\n",
       "    </tr>\n",
       "    <tr>\n",
       "      <th>4</th>\n",
       "      <td>Woman Who Called Cops On Black Bird-Watcher Lo...</td>\n",
       "      <td>U.S. NEWS</td>\n",
       "      <td>Amy Cooper accused investment firm Franklin Te...</td>\n",
       "    </tr>\n",
       "  </tbody>\n",
       "</table>\n",
       "</div>"
      ],
      "text/plain": [
       "                                            headline   category  \\\n",
       "0  Over 4 Million Americans Roll Up Sleeves For O...  U.S. NEWS   \n",
       "1  American Airlines Flyer Charged, Banned For Li...  U.S. NEWS   \n",
       "2  23 Of The Funniest Tweets About Cats And Dogs ...     COMEDY   \n",
       "3  The Funniest Tweets From Parents This Week (Se...  PARENTING   \n",
       "4  Woman Who Called Cops On Black Bird-Watcher Lo...  U.S. NEWS   \n",
       "\n",
       "                                   short_description  \n",
       "0  Health experts said it is too early to predict...  \n",
       "1  He was subdued by passengers and crew when he ...  \n",
       "2  \"Until you have a dog you don't understand wha...  \n",
       "3  \"Accidentally put grown-up toothpaste on my to...  \n",
       "4  Amy Cooper accused investment firm Franklin Te...  "
      ]
     },
     "execution_count": 7,
     "metadata": {},
     "output_type": "execute_result"
    }
   ],
   "source": [
    "new_df = df.drop(columns=['authors','link','date'])\n",
    "new_df.head()"
   ]
  },
  {
   "cell_type": "code",
   "execution_count": 9,
   "id": "3cdd9e65-5bec-4a82-85e6-234e8c038346",
   "metadata": {},
   "outputs": [
    {
     "data": {
      "text/html": [
       "<div>\n",
       "<style scoped>\n",
       "    .dataframe tbody tr th:only-of-type {\n",
       "        vertical-align: middle;\n",
       "    }\n",
       "\n",
       "    .dataframe tbody tr th {\n",
       "        vertical-align: top;\n",
       "    }\n",
       "\n",
       "    .dataframe thead th {\n",
       "        text-align: right;\n",
       "    }\n",
       "</style>\n",
       "<table border=\"1\" class=\"dataframe\">\n",
       "  <thead>\n",
       "    <tr style=\"text-align: right;\">\n",
       "      <th></th>\n",
       "      <th>category</th>\n",
       "      <th>length_of_news</th>\n",
       "      <th>len_news</th>\n",
       "    </tr>\n",
       "  </thead>\n",
       "  <tbody>\n",
       "    <tr>\n",
       "      <th>0</th>\n",
       "      <td>U.S. NEWS</td>\n",
       "      <td>Over 4 Million Americans Roll Up Sleeves For O...</td>\n",
       "      <td>230</td>\n",
       "    </tr>\n",
       "    <tr>\n",
       "      <th>1</th>\n",
       "      <td>U.S. NEWS</td>\n",
       "      <td>American Airlines Flyer Charged, Banned For Li...</td>\n",
       "      <td>248</td>\n",
       "    </tr>\n",
       "    <tr>\n",
       "      <th>2</th>\n",
       "      <td>COMEDY</td>\n",
       "      <td>23 Of The Funniest Tweets About Cats And Dogs ...</td>\n",
       "      <td>133</td>\n",
       "    </tr>\n",
       "    <tr>\n",
       "      <th>3</th>\n",
       "      <td>PARENTING</td>\n",
       "      <td>The Funniest Tweets From Parents This Week (Se...</td>\n",
       "      <td>215</td>\n",
       "    </tr>\n",
       "    <tr>\n",
       "      <th>4</th>\n",
       "      <td>U.S. NEWS</td>\n",
       "      <td>Woman Who Called Cops On Black Bird-Watcher Lo...</td>\n",
       "      <td>233</td>\n",
       "    </tr>\n",
       "  </tbody>\n",
       "</table>\n",
       "</div>"
      ],
      "text/plain": [
       "    category                                     length_of_news  len_news\n",
       "0  U.S. NEWS  Over 4 Million Americans Roll Up Sleeves For O...       230\n",
       "1  U.S. NEWS  American Airlines Flyer Charged, Banned For Li...       248\n",
       "2     COMEDY  23 Of The Funniest Tweets About Cats And Dogs ...       133\n",
       "3  PARENTING  The Funniest Tweets From Parents This Week (Se...       215\n",
       "4  U.S. NEWS  Woman Who Called Cops On Black Bird-Watcher Lo...       233"
      ]
     },
     "execution_count": 9,
     "metadata": {},
     "output_type": "execute_result"
    }
   ],
   "source": [
    "final_df = new_df.copy()\n",
    "final_df['length_of_news'] = final_df['headline'] + final_df['short_description']\n",
    "final_df.drop(['headline','short_description'], inplace=True, axis=1)\n",
    "final_df['len_news'] = final_df['length_of_news'].map(lambda x: len(x))\n",
    "final_df.head()"
   ]
  },
  {
   "cell_type": "code",
   "execution_count": 11,
   "id": "4ae11637-2e98-4ae9-9380-551c9161b9b9",
   "metadata": {},
   "outputs": [],
   "source": [
    "def datacleaning(text):\n",
    "    whitespace = re.compile(r\"\\s+\")\n",
    "    user = re.compile(r\"(?i)@[a-z0-9_]+\")\n",
    "    text = whitespace.sub(' ', text)\n",
    "    text = user.sub('', text)\n",
    "    text = re.sub(r\"\\[[^()]*\\]\",\"\", text)\n",
    "    text = re.sub(\"\\d+\", \"\", text)\n",
    "    text = re.sub(r'[^\\w\\s]','',text)\n",
    "    text = re.sub(r\"(?:@\\S*|#\\S*|http(?=.*://)\\S*)\", \"\", text)\n",
    "    text = text.lower()\n",
    "    \n",
    "    # removing stop-words\n",
    "    text = [word for word in text.split() if word not in list(STOPWORDS)]\n",
    "    \n",
    "    # word lemmatization\n",
    "    sentence = []\n",
    "    for word in text:\n",
    "        lemmatizer = WordNetLemmatizer()\n",
    "        sentence.append(lemmatizer.lemmatize(word,'v'))\n",
    "        \n",
    "    return ' '.join(sentence)     "
   ]
  },
  {
   "cell_type": "code",
   "execution_count": 18,
   "id": "3d58c0d8-42a1-4617-b788-729c82459ef3",
   "metadata": {},
   "outputs": [],
   "source": [
    "final_df['length_of_news'] = final_df['length_of_news'].apply(datacleaning)"
   ]
  },
  {
   "cell_type": "code",
   "execution_count": 21,
   "id": "e380d069-68f6-4b07-86ec-a1293b469b21",
   "metadata": {},
   "outputs": [],
   "source": [
    "samples = list(final_df['length_of_news'][:5].values)  # samples of first 5 documents of out dataset\n",
    "\n",
    "token_index = {}  # builds an index of tokens in the data\n",
    "for sample in samples:\n",
    "    for word in sample.split():\n",
    "        if word not in token_index:\n",
    "            token_index[word] = len(token_index) + 1 # assigning unique index to each unique words"
   ]
  },
  {
   "cell_type": "code",
   "execution_count": 30,
   "id": "5bebfce5-7060-47cb-bd14-fa4a07f394a9",
   "metadata": {},
   "outputs": [
    {
     "data": {
      "text/plain": [
       "array([[0., 1., 0., ..., 0., 0., 0.],\n",
       "       [0., 0., 1., ..., 0., 0., 0.],\n",
       "       [0., 0., 0., ..., 0., 0., 0.],\n",
       "       ...,\n",
       "       [0., 0., 0., ..., 0., 0., 0.],\n",
       "       [0., 1., 0., ..., 0., 0., 0.],\n",
       "       [0., 0., 0., ..., 0., 0., 0.]])"
      ]
     },
     "execution_count": 30,
     "metadata": {},
     "output_type": "execute_result"
    }
   ],
   "source": [
    "max_length = 15\n",
    "\n",
    "results = np.zeros(shape=(len(samples),max_length,max(token_index.values()) +1))\n",
    "for i, sample in enumerate(samples):\n",
    "    for j, word in list(enumerate(sample.split()))[:max_length]:\n",
    "        index = token_index.get(word)\n",
    "        results[i,j,index] = 1\n",
    "results[0]"
   ]
  },
  {
   "cell_type": "code",
   "execution_count": 34,
   "id": "390f9d88-1663-418e-a590-40790620179d",
   "metadata": {},
   "outputs": [
    {
     "name": "stdout",
     "output_type": "stream",
     "text": [
      "shape of input data:  (209527,)\n",
      "shape of target variable:  (209527,)\n"
     ]
    }
   ],
   "source": [
    "from sklearn.preprocessing import LabelEncoder\n",
    "X = final_df['length_of_news']\n",
    "encoder = LabelEncoder()\n",
    "y = encoder.fit_transform(final_df['category'])\n",
    "print(\"shape of input data: \", X.shape)\n",
    "print(\"shape of target variable: \", y.shape)"
   ]
  },
  {
   "cell_type": "code",
   "execution_count": 71,
   "id": "4fa3447c-7bda-48c6-8014-4d145c5c7d4b",
   "metadata": {},
   "outputs": [
    {
     "data": {
      "text/plain": [
       "array([21748,   897,   394,  2144,  3742, 57626,  1422,    75, 27104,\n",
       "        1702, 11728,  3742,  9130,   844,  1850,  1718,   169,   328,\n",
       "          57, 14161], dtype=int32)"
      ]
     },
     "execution_count": 71,
     "metadata": {},
     "output_type": "execute_result"
    }
   ],
   "source": [
    "train_padseq[0]"
   ]
  },
  {
   "cell_type": "code",
   "execution_count": 43,
   "id": "3d31d98a-445b-419d-bd00-8c0701842302",
   "metadata": {},
   "outputs": [
    {
     "name": "stdout",
     "output_type": "stream",
     "text": [
      "Length of word index: 190761\n"
     ]
    }
   ],
   "source": [
    "from sklearn.model_selection import train_test_split\n",
    "from keras.preprocessing.text import Tokenizer\n",
    "from tensorflow.keras.preprocessing.sequence import pad_sequences\n",
    "from tensorflow.keras.utils import to_categorical\n",
    "\n",
    "X_train, X_test, y_train, y_test = train_test_split(X, y, test_size=0.20)\n",
    "tokenizer = Tokenizer(num_words=100000, oov_token='<00V>') \n",
    "tokenizer.fit_on_texts(X_train) # build the word index\n",
    "# padding X_train text input data\n",
    "train_seq = tokenizer.texts_to_sequences(X_train) # converts strinfs into integer lists\n",
    "train_padseq = pad_sequences(train_seq, maxlen=20) # pads the integer lists to 2D integer tensor \n",
    "\n",
    "# padding X_test text input data\n",
    "test_seq = tokenizer.texts_to_sequences(X_test)\n",
    "test_padseq = pad_sequences(test_seq, maxlen=20)\n",
    "\n",
    "word_index = tokenizer.word_index\n",
    "max_words = 150000  # total number of words to consider in embedding layer\n",
    "total_words = len(word_index)\n",
    "maxlen = 130 # max length of sequence \n",
    "y_train = to_categorical(y_train, num_classes=42)\n",
    "y_test = to_categorical(y_test, num_classes=42)\n",
    "print(\"Length of word index:\", total_words)"
   ]
  },
  {
   "cell_type": "code",
   "execution_count": 94,
   "id": "16464449-bb5d-4264-9d40-acea9a9e84be",
   "metadata": {},
   "outputs": [
    {
     "name": "stdout",
     "output_type": "stream",
     "text": [
      "Model: \"sequential_19\"\n",
      "_________________________________________________________________\n",
      "Layer (type)                 Output Shape              Param #   \n",
      "=================================================================\n",
      "embedding_11 (Embedding)     (None, 20, 100)           19076100  \n",
      "_________________________________________________________________\n",
      "bidirectional_24 (Bidirectio (None, 20, 128)           21120     \n",
      "_________________________________________________________________\n",
      "bidirectional_25 (Bidirectio (None, 20, 128)           24704     \n",
      "_________________________________________________________________\n",
      "simple_rnn_33 (SimpleRNN)    (None, 64)                12352     \n",
      "_________________________________________________________________\n",
      "dropout_16 (Dropout)         (None, 64)                0         \n",
      "_________________________________________________________________\n",
      "dense_11 (Dense)             (None, 42)                2730      \n",
      "=================================================================\n",
      "Total params: 19,137,006\n",
      "Trainable params: 19,137,006\n",
      "Non-trainable params: 0\n",
      "_________________________________________________________________\n"
     ]
    }
   ],
   "source": [
    "from keras.models import Sequential\n",
    "from keras.layers import Embedding, Flatten, Dense, Dropout, Conv1D, SimpleRNN, Bidirectional, MaxPooling1D, GlobalMaxPool1D, LSTM, GRU\n",
    "\n",
    "model = Sequential()\n",
    "model.add(Embedding(total_words, 100, input_length=20))\n",
    "model.add(Bidirectional(SimpleRNN(64, dropout=0.1, recurrent_dropout=0.10, activation='tanh', return_sequences=True)))\n",
    "model.add(Bidirectional(SimpleRNN(64, dropout=0.1, recurrent_dropout=0.20, activation='tanh', return_sequences=True)))\n",
    "model.add(SimpleRNN(64, activation='tanh'))\n",
    "model.add(Dropout(0.2))\n",
    "model.add(Dense(42, activation='softmax'))\n",
    "model.summary()"
   ]
  },
  {
   "cell_type": "code",
   "execution_count": null,
   "id": "da1c187a-7c2b-437a-9859-5f4070155b51",
   "metadata": {},
   "outputs": [
    {
     "name": "stdout",
     "output_type": "stream",
     "text": [
      "Epoch 1/15\n",
      " 232/4191 [>.............................] - ETA: 12:31 - loss: 3.5124 - accuracy: 0.1250"
     ]
    }
   ],
   "source": [
    "from keras.callbacks import ModelCheckpoint, EarlyStopping\n",
    "\n",
    "model.compile(optimizer='adam',loss='categorical_crossentropy',metrics=['accuracy'])\n",
    "# SETUP A EARLY STOPPING CALL and model check point API\n",
    "earlystopping = EarlyStopping(monitor='accuracy',patience=5,verbose=1,mode='min')\n",
    "checkpointer = ModelCheckpoint(filepath='bestvalue',moniter='val_loss', verbose=0, save_best_only=True)\n",
    "callback_list = [checkpointer, earlystopping]\n",
    "\n",
    "# fit model to the data\n",
    "history = model.fit(train_padseq, y_train, epochs=15, validation_split=0.2, shuffle=True)\n",
    "\n",
    "# evalute the model\n",
    "test_loss, test_acc = model.evaluate(test_padseq, y_test, verbose=0)\n",
    "print(\"test loss and accuracy:\", test_loss, test_acc)"
   ]
  },
  {
   "cell_type": "code",
   "execution_count": 54,
   "id": "7e2b57de-a975-4297-9a22-695830b719fa",
   "metadata": {},
   "outputs": [
    {
     "name": "stdout",
     "output_type": "stream",
     "text": [
      "Model: \"sequential_4\"\n",
      "_________________________________________________________________\n",
      "Layer (type)                 Output Shape              Param #   \n",
      "=================================================================\n",
      "embedding_3 (Embedding)      (None, 130, 100)          19076100  \n",
      "_________________________________________________________________\n",
      "bidirectional_7 (Bidirection (None, 130, 128)          84480     \n",
      "_________________________________________________________________\n",
      "bidirectional_8 (Bidirection (None, 130, 128)          98816     \n",
      "_________________________________________________________________\n",
      "bidirectional_9 (Bidirection (None, 130, 128)          24704     \n",
      "_________________________________________________________________\n",
      "conv1d_1 (Conv1D)            (None, 128, 72)           27720     \n",
      "_________________________________________________________________\n",
      "max_pooling1d_1 (MaxPooling1 (None, 64, 72)            0         \n",
      "_________________________________________________________________\n",
      "simple_rnn_9 (SimpleRNN)     (None, 64, 64)            8768      \n",
      "_________________________________________________________________\n",
      "gru_1 (GRU)                  (None, 64)                24960     \n",
      "_________________________________________________________________\n",
      "dropout_3 (Dropout)          (None, 64)                0         \n",
      "_________________________________________________________________\n",
      "dense_3 (Dense)              (None, 42)                2730      \n",
      "=================================================================\n",
      "Total params: 19,348,278\n",
      "Trainable params: 19,348,278\n",
      "Non-trainable params: 0\n",
      "_________________________________________________________________\n"
     ]
    }
   ],
   "source": [
    "from keras.models import Sequential\n",
    "from keras.layers import Embedding, Flatten, Dense, Dropout, Conv1D, SimpleRNN, Bidirectional, MaxPooling1D, GlobalMaxPool1D, LSTM, GRU\n",
    "\n",
    "model2 = Sequential()\n",
    "model2.add(Embedding(total_words, 100, input_length=maxlen))\n",
    "model2.add(Bidirectional(LSTM(64, dropout=0.1, recurrent_dropout=0.10, activation='tanh', return_sequences=True)))\n",
    "model2.add(Bidirectional(LSTM(64, dropout=0.2, recurrent_dropout=0.20, activation='tanh', return_sequences=True)))\n",
    "model2.add(Bidirectional(SimpleRNN(64, dropout=0.2, recurrent_dropout=0.20, activation='tanh', return_sequences=True)))\n",
    "model2.add(Conv1D(72, 3, activation='relu'))\n",
    "model2.add(MaxPooling1D(2))\n",
    "model2.add(SimpleRNN(64, activation='tanh', dropout=0.2, recurrent_dropout=0.20, return_sequences=True))\n",
    "model2.add(GRU(64, recurrent_dropout=0.20, recurrent_regularizer='l1_l2'))\n",
    "model2.add(Dropout(0.2))\n",
    "model2.add(Dense(42, activation='softmax'))\n",
    "model2.summary()"
   ]
  },
  {
   "cell_type": "code",
   "execution_count": 55,
   "id": "76e763ff-8706-48e5-a382-baa6172d1571",
   "metadata": {},
   "outputs": [
    {
     "name": "stdout",
     "output_type": "stream",
     "text": [
      "Epoch 1/5\n",
      "WARNING:tensorflow:Model was constructed with shape (None, 130) for input KerasTensor(type_spec=TensorSpec(shape=(None, 130), dtype=tf.float32, name='embedding_3_input'), name='embedding_3_input', description=\"created by layer 'embedding_3_input'\"), but it was called on an input with incompatible shape (None, 20).\n",
      "WARNING:tensorflow:Model was constructed with shape (None, 130) for input KerasTensor(type_spec=TensorSpec(shape=(None, 130), dtype=tf.float32, name='embedding_3_input'), name='embedding_3_input', description=\"created by layer 'embedding_3_input'\"), but it was called on an input with incompatible shape (None, 20).\n",
      "1048/1048 [==============================] - ETA: 0s - loss: 3.9812 - accuracy: 0.2856WARNING:tensorflow:Model was constructed with shape (None, 130) for input KerasTensor(type_spec=TensorSpec(shape=(None, 130), dtype=tf.float32, name='embedding_3_input'), name='embedding_3_input', description=\"created by layer 'embedding_3_input'\"), but it was called on an input with incompatible shape (None, 20).\n",
      "1048/1048 [==============================] - 187s 157ms/step - loss: 3.9801 - accuracy: 0.2857 - val_loss: 2.1560 - val_accuracy: 0.4624\n",
      "Epoch 2/5\n",
      "1048/1048 [==============================] - 158s 151ms/step - loss: 2.0072 - accuracy: 0.4964 - val_loss: 1.9359 - val_accuracy: 0.5122\n",
      "Epoch 3/5\n",
      "1048/1048 [==============================] - 164s 156ms/step - loss: 1.7348 - accuracy: 0.5616 - val_loss: 1.8379 - val_accuracy: 0.5377\n",
      "Epoch 4/5\n",
      "1048/1048 [==============================] - 158s 151ms/step - loss: 1.5610 - accuracy: 0.6025 - val_loss: 1.8160 - val_accuracy: 0.5457\n",
      "Epoch 5/5\n",
      "1048/1048 [==============================] - 156s 149ms/step - loss: 1.4116 - accuracy: 0.6416 - val_loss: 1.8182 - val_accuracy: 0.5449\n",
      "test loss and accuracy: 1.799662470817566 0.5497781038284302\n"
     ]
    }
   ],
   "source": [
    "from keras.callbacks import ModelCheckpoint, EarlyStopping\n",
    "\n",
    "model2.compile(optimizer='rmsprop',loss='categorical_crossentropy',metrics=['accuracy'])\n",
    "# SETUP A EARLY STOPPING CALL and model check point API\n",
    "earlystopping = EarlyStopping(monitor='accuracy',patience=5,verbose=1,mode='min')\n",
    "checkpointer = ModelCheckpoint(filepath='bestvalue1',moniter='val_loss', verbose=0, save_best_only=True)\n",
    "callback_list = [checkpointer, earlystopping]\n",
    "\n",
    "# fit model to the data\n",
    "history2 = model2.fit(train_padseq, y_train, batch_size=128, epochs=5, validation_split=0.2,shuffle=True)\n",
    "\n",
    "# evalute the model\n",
    "test_loss2, test_acc2 = model2.evaluate(test_padseq, y_test, verbose=0)\n",
    "print(\"test loss and accuracy:\", test_loss2, test_acc2)"
   ]
  },
  {
   "cell_type": "code",
   "execution_count": 60,
   "id": "533bc3fd-98f4-4ab9-ad8d-0a879f7ad566",
   "metadata": {},
   "outputs": [],
   "source": [
    "import matplotlib.pyplot as plt\n",
    "\n",
    "def plot_loss_accuracy(history):\n",
    "    # create object of arrays of accuracy and loss\n",
    "    acc = history.history['accuracy']\n",
    "    val_acc = history.history['val_accuracy']\n",
    "    loss = history.history['loss']\n",
    "    val_loss = history.history['val_loss']\n",
    "    \n",
    "    # number of epochs in our model\n",
    "    epochs = range(1 ,len(acc) + 1)\n",
    "    \n",
    "    # call matplolib figure object and plot loss and accuracy curves\n",
    "    plt.figure(figsize=(15,6))\n",
    "    \n",
    "    plt.subplot(121)\n",
    "    plt.plot(epochs, acc, 'bo', label='Training acc')\n",
    "    plt.plot(epochs, val_acc, 'b', label='Validation acc')\n",
    "    plt.title(\"Training and validation accuracy\", fontsize=15)\n",
    "    plt.xlabel('epochs', fontsize=14)\n",
    "    plt.ylabel(\"accuracy\", fontsize=14)\n",
    "    plt.legend()\n",
    "    \n",
    "    plt.subplot(122)\n",
    "    plt.plot(epochs, loss, 'bo', label='Training loss')\n",
    "    plt.plot(epochs, val_loss, 'b', label='Validation loss')\n",
    "    plt.title(\"Training and validation loss\", fontsize=15)\n",
    "    plt.xlabel('epochs', fontsize=14)\n",
    "    plt.ylabel(\"loss\", fontsize=14)\n",
    "    plt.legend()\n",
    "    \n",
    "    plt.show()"
   ]
  },
  {
   "cell_type": "code",
   "execution_count": 61,
   "id": "63b40278-d8de-498d-9165-8c37aa485e8c",
   "metadata": {},
   "outputs": [
    {
     "data": {
      "image/png": "[encoded data removed]",
      "text/plain": [
       "<Figure size 1080x432 with 2 Axes>"
      ]
     },
     "metadata": {
      "needs_background": "light"
     },
     "output_type": "display_data"
    }
   ],
   "source": [
    "plot_loss_accuracy(history2)"
   ]
  }
 ],
 "metadata": {
  "kernelspec": {
   "display_name": "Python 3",
   "language": "python",
   "name": "python3"
  },
  "language_info": {
   "codemirror_mode": {
    "name": "ipython",
    "version": 3
   },
   "file_extension": ".py",
   "mimetype": "text/x-python",
   "name": "python",
   "nbconvert_exporter": "python",
   "pygments_lexer": "ipython3",
   "version": "3.9.5"
  }
 },
 "nbformat": 4,
 "nbformat_minor": 5
}
