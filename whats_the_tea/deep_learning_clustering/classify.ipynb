{
 "cells": [
  {
   "cell_type": "code",
   "execution_count": 1,
   "id": "63b05bb9",
   "metadata": {},
   "outputs": [
    {
     "name": "stderr",
     "output_type": "stream",
     "text": [
      "2022-12-07 20:41:51.490975: I tensorflow/core/platform/cpu_feature_guard.cc:193] This TensorFlow binary is optimized with oneAPI Deep Neural Network Library (oneDNN) to use the following CPU instructions in performance-critical operations:  AVX2 FMA\n",
      "To enable them in other operations, rebuild TensorFlow with the appropriate compiler flags.\n",
      "2022-12-07 20:41:53.353566: W tensorflow/compiler/xla/stream_executor/platform/default/dso_loader.cc:64] Could not load dynamic library 'libnvinfer.so.7'; dlerror: libnvinfer.so.7: cannot open shared object file: No such file or directory\n",
      "2022-12-07 20:41:53.353634: W tensorflow/compiler/xla/stream_executor/platform/default/dso_loader.cc:64] Could not load dynamic library 'libnvinfer_plugin.so.7'; dlerror: libnvinfer_plugin.so.7: cannot open shared object file: No such file or directory\n",
      "2022-12-07 20:41:53.353641: W tensorflow/compiler/tf2tensorrt/utils/py_utils.cc:38] TF-TRT Warning: Cannot dlopen some TensorRT libraries. If you would like to use Nvidia GPU with TensorRT, please make sure the missing libraries mentioned above are installed properly.\n",
      "2022-12-07 20:41:56.564563: I tensorflow/compiler/xla/stream_executor/cuda/cuda_gpu_executor.cc:981] successful NUMA node read from SysFS had negative value (-1), but there must be at least one NUMA node, so returning NUMA node zero\n",
      "2022-12-07 20:41:56.565201: I tensorflow/compiler/xla/stream_executor/cuda/cuda_gpu_executor.cc:981] successful NUMA node read from SysFS had negative value (-1), but there must be at least one NUMA node, so returning NUMA node zero\n",
      "2022-12-07 20:41:56.565534: I tensorflow/compiler/xla/stream_executor/cuda/cuda_gpu_executor.cc:981] successful NUMA node read from SysFS had negative value (-1), but there must be at least one NUMA node, so returning NUMA node zero\n"
     ]
    }
   ],
   "source": [
    "from model import load_model\n",
    "from pyspark.sql import SparkSession\n",
    "from sklearn.preprocessing import LabelEncoder\n",
    "from torch.utils.data import DataLoader\n",
    "from torchtext.data.functional import to_map_style_dataset\n",
    "from tqdm.auto import tqdm\n",
    "import findspark\n",
    "import pandas as pd\n",
    "import spacy\n",
    "import torch\n",
    "import torch.nn as nn\n",
    "\n",
    "tqdm.pandas()\n",
    "encoder = LabelEncoder()\n",
    "\n",
    "nlp = spacy.load('en_core_web_lg')"
   ]
  },
  {
   "cell_type": "code",
   "execution_count": 2,
   "id": "527ea27d",
   "metadata": {
    "jupyter": {
     "source_hidden": true
    },
    "tags": []
   },
   "outputs": [
    {
     "name": "stderr",
     "output_type": "stream",
     "text": [
      "WARNING: An illegal reflective access operation has occurred\n",
      "WARNING: Illegal reflective access by org.apache.spark.unsafe.Platform (file:/koko/system/spark-3.2.1-bin-hadoop3.2/jars/spark-unsafe_2.12-3.2.1.jar) to constructor java.nio.DirectByteBuffer(long,int)\n",
      "WARNING: Please consider reporting this to the maintainers of org.apache.spark.unsafe.Platform\n",
      "WARNING: Use --illegal-access=warn to enable warnings of further illegal reflective access operations\n",
      "WARNING: All illegal access operations will be denied in a future release\n",
      "Using Spark's default log4j profile: org/apache/spark/log4j-defaults.properties\n",
      "Setting default log level to \"WARN\".\n",
      "To adjust logging level use sc.setLogLevel(newLevel). For SparkR, use setLogLevel(newLevel).\n",
      "22/12/07 20:42:15 WARN NativeCodeLoader: Unable to load native-hadoop library for your platform... using builtin-java classes where applicable\n"
     ]
    }
   ],
   "source": [
    "findspark.init()\n",
    "spark = SparkSession.builder \\\n",
    "    .master('local[*]') \\\n",
    "    .appName('word2vec') \\\n",
    "    .config('spark.driver.maxResultSize', '8g') \\\n",
    "    .getOrCreate()"
   ]
  },
  {
   "cell_type": "code",
   "execution_count": 3,
   "id": "425d41c9",
   "metadata": {},
   "outputs": [
    {
     "name": "stdout",
     "output_type": "stream",
     "text": [
      "Good to go!\n"
     ]
    }
   ],
   "source": [
    "device = torch.device('cuda' if torch.cuda.is_available() else 'cpu')\n",
    "print(f'Using device: {device}')"
   ]
  },
  {
   "cell_type": "code",
   "execution_count": 4,
   "id": "f3dd0174-4210-42a3-b2e0-baed15b507cd",
   "metadata": {},
   "outputs": [
    {
     "name": "stderr",
     "output_type": "stream",
     "text": [
      "                                                                                \r"
     ]
    }
   ],
   "source": [
    "df = spark.read.json('/common/users/shared/cs543_fall22_group3/combined/combined_raw')"
   ]
  },
  {
   "cell_type": "code",
   "execution_count": 5,
   "id": "24f45606",
   "metadata": {},
   "outputs": [],
   "source": [
    "selected = pd.DataFrame(df.take(640), columns=['text'])\n",
    "selected['vector'] = selected['text'].progress_apply(lambda x: nlp(x).vector)"
   ]
  },
  {
   "cell_type": "code",
   "execution_count": 10,
   "id": "5e1cf57c",
   "metadata": {},
   "outputs": [],
   "source": [
    "def collate_batch(batch):\n",
    "    embedding_list = [torch.tensor(_embedding, dtype=torch.float32) for _embedding in batch]\n",
    "    embedding_list = torch.stack(embedding_list)\n",
    "\n",
    "    return embedding_list.to(device)"
   ]
  },
  {
   "cell_type": "code",
   "execution_count": 18,
   "id": "d0344b4e-f741-4426-883c-21089c6829ea",
   "metadata": {},
   "outputs": [
    {
     "data": {
      "text/plain": [
       "TextClassificationModel(\n",
       "  (conv): Conv1d(1, 64, kernel_size=(3,), stride=(1,))\n",
       "  (max_pool): MaxPool1d(kernel_size=3, stride=1, padding=0, dilation=1, ceil_mode=False)\n",
       "  (fc): Linear(in_features=18944, out_features=42, bias=True)\n",
       "  (dropout): Dropout(p=0.25, inplace=False)\n",
       ")"
      ]
     },
     "execution_count": 18,
     "metadata": {},
     "output_type": "execute_result"
    }
   ],
   "source": [
    "model = load_model('/common/users/shared/cs543_fall22_group3/models/class_model.pt')\n",
    "model"
   ]
  },
  {
   "cell_type": "code",
   "execution_count": 15,
   "id": "2a13e757-68b4-4809-9801-dc361bc545ea",
   "metadata": {},
   "outputs": [],
   "source": [
    "def predict(dataloader):\n",
    "    model.eval()\n",
    "    pred = []\n",
    "\n",
    "    with torch.no_grad():\n",
    "        for idx, vector in enumerate(dataloader):\n",
    "            predicted_label = model(vector)\n",
    "            pred.extend(predicted_label.argmax(1).cpu().detach().numpy())\n",
    "\n",
    "    return pred"
   ]
  },
  {
   "cell_type": "code",
   "execution_count": 16,
   "id": "2066f041",
   "metadata": {},
   "outputs": [],
   "source": [
    "classify_dataset = to_map_style_dataset(selected['vector'])\n",
    "test_dataloader = DataLoader(classify_dataset, batch_size=64, shuffle=True, collate_fn=collate_batch)"
   ]
  },
  {
   "cell_type": "code",
   "execution_count": 19,
   "id": "f0747d43",
   "metadata": {},
   "outputs": [],
   "source": [
    "pred = predict(test_dataloader)\n",
    "selected['predictions'] = pred"
   ]
  },
  {
   "cell_type": "code",
   "execution_count": 24,
   "id": "34b5e65b",
   "metadata": {},
   "outputs": [],
   "source": [
    "category_dict = {\n",
    "    0: 'ARTS',\n",
    "    1: 'ARTS & CULTURE',\n",
    "    2: 'BLACK VOICES',\n",
    "    3: 'BUSINESS',\n",
    "    4: 'COLLEGE',\n",
    "    5: 'COMEDY',\n",
    "    6: 'CRIME',\n",
    "    7: 'CULTURE & ARTS',\n",
    "    8: 'DIVORCE',\n",
    "    9: 'EDUCATION',\n",
    "    10: 'ENTERTAINMENT',\n",
    "    11: 'ENVIRONMENT',\n",
    "    12: 'FIFTY',\n",
    "    13: 'FOOD & DRINK',\n",
    "    14: 'GOOD NEWS',\n",
    "    15: 'GREEN',\n",
    "    16: 'HEALTHY LIVING',\n",
    "    17: 'HOME & LIVING',\n",
    "    18: 'IMPACT',\n",
    "    19: 'LATINO VOICES',\n",
    "    20: 'MEDIA',\n",
    "    21: 'MONEY',\n",
    "    22: 'PARENTING',\n",
    "    23: 'PARENTS',\n",
    "    24: 'POLITICS',\n",
    "    25: 'QUEER VOICES',\n",
    "    26: 'RELIGION',\n",
    "    27: 'SCIENCE',\n",
    "    28: 'SPORTS',\n",
    "    29: 'STYLE',\n",
    "    30: 'STYLE & BEAUTY',\n",
    "    31: 'TASTE',\n",
    "    32: 'TECH',\n",
    "    33: 'THE WORLDPOST',\n",
    "    34: 'TRAVEL',\n",
    "    35: 'U.S. NEWS',\n",
    "    36: 'WEDDINGS',\n",
    "    37: 'WEIRD NEWS',\n",
    "    38: 'WELLNESS',\n",
    "    39: 'WOMEN',\n",
    "    40: 'WORLD NEWS',\n",
    "    41: 'WORLDPOST'\n",
    "}"
   ]
  },
  {
   "cell_type": "code",
   "execution_count": 26,
   "id": "977737e9",
   "metadata": {},
   "outputs": [],
   "source": [
    "selected['prediction_label'] = selected['predictions'].apply(lambda x: category_dict[x])\n",
    "selected.head()"
   ]
  }
 ],
 "metadata": {
  "kernelspec": {
   "display_name": "Python 3.8.10 64-bit",
   "language": "python",
   "name": "python3"
  },
  "language_info": {
   "codemirror_mode": {
    "name": "ipython",
    "version": 3
   },
   "file_extension": ".py",
   "mimetype": "text/x-python",
   "name": "python",
   "nbconvert_exporter": "python",
   "pygments_lexer": "ipython3",
   "version": "3.8.10"
  },
  "vscode": {
   "interpreter": {
    "hash": "916dbcbb3f70747c44a77c7bcd40155683ae19c65e1c03b4aa3499c5328201f1"
   }
  }
 },
 "nbformat": 4,
 "nbformat_minor": 5
}
