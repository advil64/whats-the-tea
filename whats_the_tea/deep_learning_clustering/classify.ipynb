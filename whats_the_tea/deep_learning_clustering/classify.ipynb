{
 "cells": [
  {
   "cell_type": "code",
   "execution_count": 1,
   "id": "63b05bb9",
   "metadata": {},
   "outputs": [
    {
     "name": "stderr",
     "output_type": "stream",
     "text": [
      "2022-12-07 20:41:51.490975: I tensorflow/core/platform/cpu_feature_guard.cc:193] This TensorFlow binary is optimized with oneAPI Deep Neural Network Library (oneDNN) to use the following CPU instructions in performance-critical operations:  AVX2 FMA\n",
      "To enable them in other operations, rebuild TensorFlow with the appropriate compiler flags.\n",
      "2022-12-07 20:41:53.353566: W tensorflow/compiler/xla/stream_executor/platform/default/dso_loader.cc:64] Could not load dynamic library 'libnvinfer.so.7'; dlerror: libnvinfer.so.7: cannot open shared object file: No such file or directory\n",
      "2022-12-07 20:41:53.353634: W tensorflow/compiler/xla/stream_executor/platform/default/dso_loader.cc:64] Could not load dynamic library 'libnvinfer_plugin.so.7'; dlerror: libnvinfer_plugin.so.7: cannot open shared object file: No such file or directory\n",
      "2022-12-07 20:41:53.353641: W tensorflow/compiler/tf2tensorrt/utils/py_utils.cc:38] TF-TRT Warning: Cannot dlopen some TensorRT libraries. If you would like to use Nvidia GPU with TensorRT, please make sure the missing libraries mentioned above are installed properly.\n",
      "2022-12-07 20:41:56.564563: I tensorflow/compiler/xla/stream_executor/cuda/cuda_gpu_executor.cc:981] successful NUMA node read from SysFS had negative value (-1), but there must be at least one NUMA node, so returning NUMA node zero\n",
      "2022-12-07 20:41:56.565201: I tensorflow/compiler/xla/stream_executor/cuda/cuda_gpu_executor.cc:981] successful NUMA node read from SysFS had negative value (-1), but there must be at least one NUMA node, so returning NUMA node zero\n",
      "2022-12-07 20:41:56.565534: I tensorflow/compiler/xla/stream_executor/cuda/cuda_gpu_executor.cc:981] successful NUMA node read from SysFS had negative value (-1), but there must be at least one NUMA node, so returning NUMA node zero\n"
     ]
    }
   ],
   "source": [
    "import findspark\n",
    "findspark.init()\n",
    "\n",
    "from pyspark.ml.feature import Word2Vec\n",
    "from pyspark import SparkConf, SparkContext\n",
    "from pyspark.sql import SQLContext\n",
    "\n",
    "from pyspark import SparkContext\n",
    "from pyspark.streaming import StreamingContext #Import streaming context\n",
    "from pyspark.sql import SparkSession\n",
    "\n",
    "import spacy\n",
    "from pyspark.sql import functions as F\n",
    "from pyspark.ml.functions import array_to_vector\n",
    "\n",
    "import numpy as np\n",
    "import spacy\n",
    "\n",
    "import pandas as pd\n",
    "import numpy as np\n",
    "import torch.nn.functional as F\n",
    "import torch.nn as nn\n",
    "import torch\n",
    "import spacy\n",
    "import math\n",
    "\n",
    "from sklearn.preprocessing import LabelEncoder\n",
    "from sklearn.model_selection import train_test_split\n",
    "from torch.utils.data import Dataset\n",
    "from tqdm.auto import tqdm\n",
    "from torch.utils.data import DataLoader\n",
    "from torch import nn\n",
    "\n",
    "tqdm.pandas()\n",
    "encoder = LabelEncoder()\n",
    "\n",
    "nlp = spacy.load('en_core_web_lg')"
   ]
  },
  {
   "cell_type": "code",
   "execution_count": 2,
   "id": "527ea27d",
   "metadata": {
    "jupyter": {
     "source_hidden": true
    },
    "tags": []
   },
   "outputs": [
    {
     "name": "stderr",
     "output_type": "stream",
     "text": [
      "WARNING: An illegal reflective access operation has occurred\n",
      "WARNING: Illegal reflective access by org.apache.spark.unsafe.Platform (file:/koko/system/spark-3.2.1-bin-hadoop3.2/jars/spark-unsafe_2.12-3.2.1.jar) to constructor java.nio.DirectByteBuffer(long,int)\n",
      "WARNING: Please consider reporting this to the maintainers of org.apache.spark.unsafe.Platform\n",
      "WARNING: Use --illegal-access=warn to enable warnings of further illegal reflective access operations\n",
      "WARNING: All illegal access operations will be denied in a future release\n",
      "Using Spark's default log4j profile: org/apache/spark/log4j-defaults.properties\n",
      "Setting default log level to \"WARN\".\n",
      "To adjust logging level use sc.setLogLevel(newLevel). For SparkR, use setLogLevel(newLevel).\n",
      "22/12/07 20:42:15 WARN NativeCodeLoader: Unable to load native-hadoop library for your platform... using builtin-java classes where applicable\n"
     ]
    }
   ],
   "source": [
    "spark = SparkSession.builder\\\n",
    "    .master('local[*]')\\\n",
    "    .appName('explore')\\\n",
    "    .getOrCreate()\n",
    "sc = spark.sparkContext._conf.setAll([('spark.driver.maxResultSize', '8g')])"
   ]
  },
  {
   "cell_type": "code",
   "execution_count": 3,
   "id": "425d41c9",
   "metadata": {},
   "outputs": [
    {
     "name": "stdout",
     "output_type": "stream",
     "text": [
      "Good to go!\n"
     ]
    }
   ],
   "source": [
    "if torch.cuda.is_available():\n",
    "  print('Good to go!')\n",
    "else:\n",
    "  print('Please set GPU via Edit -> Notebook Settings.')\n",
    "device = torch.device('cuda:0')"
   ]
  },
  {
   "cell_type": "code",
   "execution_count": 4,
   "id": "f3dd0174-4210-42a3-b2e0-baed15b507cd",
   "metadata": {},
   "outputs": [
    {
     "name": "stderr",
     "output_type": "stream",
     "text": [
      "                                                                                \r"
     ]
    }
   ],
   "source": [
    "df = spark.read.json('/common/users/shared/cs543_fall22_group3/combined/combined_raw')"
   ]
  },
  {
   "cell_type": "code",
   "execution_count": 5,
   "id": "24f45606",
   "metadata": {},
   "outputs": [],
   "source": [
    "selected = pd.DataFrame(df.take(640))"
   ]
  },
  {
   "cell_type": "code",
   "execution_count": 6,
   "id": "ad344edd",
   "metadata": {},
   "outputs": [],
   "source": [
    "selected.columns = ['text']"
   ]
  },
  {
   "cell_type": "code",
   "execution_count": 7,
   "id": "43d2c2bc",
   "metadata": {},
   "outputs": [
    {
     "name": "stderr",
     "output_type": "stream",
     "text": [
      "100%|██████████| 640/640 [00:03<00:00, 189.13it/s]\n"
     ]
    }
   ],
   "source": [
    "selected['vector'] = selected['text'].progress_apply(lambda x: nlp(x).vector)"
   ]
  },
  {
   "cell_type": "code",
   "execution_count": 10,
   "id": "5e1cf57c",
   "metadata": {},
   "outputs": [],
   "source": [
    "# function to create batches of our data\n",
    "def collate_batch(batch):\n",
    "    embedding_list = []\n",
    "    \n",
    "    for (_embedding) in batch:\n",
    "        embedding = torch.tensor(_embedding, dtype=torch.float32)\n",
    "        embedding_list.append(embedding)\n",
    "\n",
    "    embedding_list = torch.stack(embedding_list)\n",
    "    return embedding_list.to(device)"
   ]
  },
  {
   "cell_type": "code",
   "execution_count": 11,
   "id": "3dac18c9-e4b2-46f9-95d8-be7a3be4846d",
   "metadata": {},
   "outputs": [],
   "source": [
    "class TextClassificationModel(nn.Module):\n",
    "\n",
    "    def __init__(self, num_class, embed_dim=300, vocab_size=45, pad_index=0,\n",
    "                 stride=1, kernel_size=3, conv_out_size=64, dropout_rate=0.25):\n",
    "        super(TextClassificationModel, self).__init__()\n",
    "\n",
    "        # Embedding layer parameters\n",
    "        self.embed_size = embed_dim\n",
    "        self.vocab_size = vocab_size\n",
    "        self.pad_index = pad_index\n",
    "       \n",
    "        # Conv layer parameters\n",
    "        self.stride = stride\n",
    "        self.kernel_size = kernel_size\n",
    "        self.conv_out_size = conv_out_size\n",
    "       \n",
    "        # Misc\n",
    "        self.dropout_rate = dropout_rate\n",
    "        \n",
    "        self.embed_size = 1\n",
    "        # Layers\n",
    "        self.conv = torch.nn.Conv1d(self.embed_size, self.conv_out_size, self.kernel_size, self.stride)\n",
    "        self.hidden_act = torch.relu\n",
    "        self.max_pool = torch.nn.MaxPool1d(self.kernel_size, self.stride)\n",
    "       \n",
    "        self.flatten = lambda x: x.view(x.shape[0], x.shape[1]*x.shape[2])\n",
    "       \n",
    "        self.fc = torch.nn.Linear(self._linear_layer_in_size(), num_class)\n",
    "\n",
    "        if self.dropout_rate:\n",
    "            self.dropout = torch.nn.Dropout(self.dropout_rate)\n",
    "\n",
    "    def _linear_layer_in_size(self):\n",
    "        out_conv_1 = ((self.embed_size - 1 * (self.kernel_size - 1) - 1) / self.stride) + 1\n",
    "        out_conv_1 = math.floor(out_conv_1)\n",
    "        out_pool_1 = ((out_conv_1 - 1 * (self.kernel_size - 1) - 1) / self.stride) + 1\n",
    "        out_pool_1 = math.floor(out_pool_1)\n",
    "                           \n",
    "        # return out_pool_1*self.conv_out_size\n",
    "        return 18944\n",
    "\n",
    "    def forward(self, x):\n",
    "        # print(x.shape)\n",
    "\n",
    "        # x = torch.reshape(x. (x.shape[0],)\n",
    "\n",
    "        x = torch.unsqueeze(x, 1)\n",
    "        # x = torch.transpose(x, 1, 2) # (batch, 1, 300)\n",
    "\n",
    "        x = self.conv(x)\n",
    "        # print(x.shape)\n",
    "\n",
    "        x = self.hidden_act(x)\n",
    "        # print(x.shape)\n",
    "\n",
    "        x = self.max_pool(x)\n",
    "        # print(x.shape)\n",
    "\n",
    "        x = self.flatten(x)\n",
    "        # print(x.shape)\n",
    "\n",
    "        if self.dropout_rate:\n",
    "            x = self.dropout(x)\n",
    "\n",
    "        x = self.fc(x)\n",
    "\n",
    "        return x"
   ]
  },
  {
   "cell_type": "code",
   "execution_count": 18,
   "id": "d0344b4e-f741-4426-883c-21089c6829ea",
   "metadata": {},
   "outputs": [
    {
     "data": {
      "text/plain": [
       "TextClassificationModel(\n",
       "  (conv): Conv1d(1, 64, kernel_size=(3,), stride=(1,))\n",
       "  (max_pool): MaxPool1d(kernel_size=3, stride=1, padding=0, dilation=1, ceil_mode=False)\n",
       "  (fc): Linear(in_features=18944, out_features=42, bias=True)\n",
       "  (dropout): Dropout(p=0.25, inplace=False)\n",
       ")"
      ]
     },
     "execution_count": 18,
     "metadata": {},
     "output_type": "execute_result"
    }
   ],
   "source": [
    "import torch\n",
    "import math\n",
    "m = TextClassificationModel(42)\n",
    "m.load_state_dict(torch.load('/common/users/shared/cs543_fall22_group3/models/class_model.pt'))\n",
    "m.to(torch.device(device))"
   ]
  },
  {
   "cell_type": "code",
   "execution_count": 15,
   "id": "2a13e757-68b4-4809-9801-dc361bc545ea",
   "metadata": {},
   "outputs": [],
   "source": [
    "def predict(dataloader):\n",
    "    m.eval()\n",
    "    pred = []\n",
    "\n",
    "    with torch.no_grad():\n",
    "        for idx, vector in enumerate(dataloader):\n",
    "            predicted_label = m(vector)\n",
    "            pred = pred + list(predicted_label.argmax(1).cpu().detach().numpy())\n",
    "\n",
    "    return pred"
   ]
  },
  {
   "cell_type": "code",
   "execution_count": 16,
   "id": "2066f041",
   "metadata": {},
   "outputs": [],
   "source": [
    "from torchtext.data.functional import to_map_style_dataset\n",
    "\n",
    "classify_dataset = to_map_style_dataset(selected['vector'])\n",
    "\n",
    "test_dataloader = DataLoader(classify_dataset, batch_size=64, shuffle=True, collate_fn=collate_batch)"
   ]
  },
  {
   "cell_type": "code",
   "execution_count": 19,
   "id": "f0747d43",
   "metadata": {},
   "outputs": [],
   "source": [
    "pred = predict(test_dataloader)"
   ]
  },
  {
   "cell_type": "code",
   "execution_count": 22,
   "id": "915fca28",
   "metadata": {},
   "outputs": [],
   "source": [
    "selected['predictions'] = pred"
   ]
  },
  {
   "cell_type": "code",
   "execution_count": 24,
   "id": "34b5e65b",
   "metadata": {},
   "outputs": [],
   "source": [
    "category_dict = {\n",
    "0: 'ARTS',\n",
    "1: 'ARTS & CULTURE',\n",
    "2: 'BLACK VOICES',\n",
    "3: 'BUSINESS',\n",
    "4: 'COLLEGE',\n",
    "5: 'COMEDY',\n",
    "6: 'CRIME',\n",
    "7: 'CULTURE & ARTS',\n",
    "8: 'DIVORCE',\n",
    "9: 'EDUCATION',\n",
    "10: 'ENTERTAINMENT',\n",
    "11: 'ENVIRONMENT',\n",
    "12: 'FIFTY',\n",
    "13: 'FOOD & DRINK',\n",
    "14: 'GOOD NEWS',\n",
    "15: 'GREEN',\n",
    "16: 'HEALTHY LIVING',\n",
    "17: 'HOME & LIVING',\n",
    "18: 'IMPACT',\n",
    "19: 'LATINO VOICES',\n",
    "20: 'MEDIA',\n",
    "21: 'MONEY',\n",
    "22: 'PARENTING',\n",
    "23: 'PARENTS',\n",
    "24: 'POLITICS',\n",
    "25: 'QUEER VOICES',\n",
    "26: 'RELIGION',\n",
    "27: 'SCIENCE',\n",
    "28: 'SPORTS',\n",
    "29: 'STYLE',\n",
    "30: 'STYLE & BEAUTY',\n",
    "31: 'TASTE',\n",
    "32: 'TECH',\n",
    "33: 'THE WORLDPOST',\n",
    "34: 'TRAVEL',\n",
    "35: 'U.S. NEWS',\n",
    "36: 'WEDDINGS',\n",
    "37: 'WEIRD NEWS',\n",
    "38: 'WELLNESS',\n",
    "39: 'WOMEN',\n",
    "40: 'WORLD NEWS',\n",
    "41: 'WORLDPOST'}"
   ]
  },
  {
   "cell_type": "code",
   "execution_count": 26,
   "id": "977737e9",
   "metadata": {},
   "outputs": [],
   "source": [
    "selected['prediction_label'] = selected['predictions'].apply(lambda x: category_dict[x])"
   ]
  },
  {
   "cell_type": "code",
   "execution_count": 27,
   "id": "79ad2505",
   "metadata": {},
   "outputs": [
    {
     "data": {
      "text/html": [
       "<div>\n",
       "<style scoped>\n",
       "    .dataframe tbody tr th:only-of-type {\n",
       "        vertical-align: middle;\n",
       "    }\n",
       "\n",
       "    .dataframe tbody tr th {\n",
       "        vertical-align: top;\n",
       "    }\n",
       "\n",
       "    .dataframe thead th {\n",
       "        text-align: right;\n",
       "    }\n",
       "</style>\n",
       "<table border=\"1\" class=\"dataframe\">\n",
       "  <thead>\n",
       "    <tr style=\"text-align: right;\">\n",
       "      <th></th>\n",
       "      <th>text</th>\n",
       "      <th>vector</th>\n",
       "      <th>predictions</th>\n",
       "      <th>prediction_label</th>\n",
       "    </tr>\n",
       "  </thead>\n",
       "  <tbody>\n",
       "    <tr>\n",
       "      <th>0</th>\n",
       "      <td>University of Hyderabad start-up develops stem...</td>\n",
       "      <td>[-2.339089, -0.285064, -0.20233802, 3.4956944,...</td>\n",
       "      <td>34</td>\n",
       "      <td>TRAVEL</td>\n",
       "    </tr>\n",
       "    <tr>\n",
       "      <th>1</th>\n",
       "      <td>K Chandrasekhar Rao not for poor: Andhra Prade...</td>\n",
       "      <td>[-1.5490905, 1.7642515, 1.1541762, -0.8794538,...</td>\n",
       "      <td>40</td>\n",
       "      <td>WORLD NEWS</td>\n",
       "    </tr>\n",
       "    <tr>\n",
       "      <th>2</th>\n",
       "      <td>Temple town Palitana gets 100-bed isolation fa...</td>\n",
       "      <td>[-0.99294555, 0.19115537, -1.6017834, 1.909956...</td>\n",
       "      <td>17</td>\n",
       "      <td>HOME &amp; LIVING</td>\n",
       "    </tr>\n",
       "    <tr>\n",
       "      <th>3</th>\n",
       "      <td>UDF candidate C Raghunath asks KPCC chief to quit</td>\n",
       "      <td>[-0.17553778, 2.8221998, 0.65723646, -0.678131...</td>\n",
       "      <td>24</td>\n",
       "      <td>POLITICS</td>\n",
       "    </tr>\n",
       "    <tr>\n",
       "      <th>4</th>\n",
       "      <td>Greater Hyderabad Municipal Corporation begins...</td>\n",
       "      <td>[-0.97658616, -1.1106362, 0.4652062, 0.1107862...</td>\n",
       "      <td>24</td>\n",
       "      <td>POLITICS</td>\n",
       "    </tr>\n",
       "  </tbody>\n",
       "</table>\n",
       "</div>"
      ],
      "text/plain": [
       "                                                text  \\\n",
       "0  University of Hyderabad start-up develops stem...   \n",
       "1  K Chandrasekhar Rao not for poor: Andhra Prade...   \n",
       "2  Temple town Palitana gets 100-bed isolation fa...   \n",
       "3  UDF candidate C Raghunath asks KPCC chief to quit   \n",
       "4  Greater Hyderabad Municipal Corporation begins...   \n",
       "\n",
       "                                              vector  predictions  \\\n",
       "0  [-2.339089, -0.285064, -0.20233802, 3.4956944,...           34   \n",
       "1  [-1.5490905, 1.7642515, 1.1541762, -0.8794538,...           40   \n",
       "2  [-0.99294555, 0.19115537, -1.6017834, 1.909956...           17   \n",
       "3  [-0.17553778, 2.8221998, 0.65723646, -0.678131...           24   \n",
       "4  [-0.97658616, -1.1106362, 0.4652062, 0.1107862...           24   \n",
       "\n",
       "  prediction_label  \n",
       "0           TRAVEL  \n",
       "1       WORLD NEWS  \n",
       "2    HOME & LIVING  \n",
       "3         POLITICS  \n",
       "4         POLITICS  "
      ]
     },
     "execution_count": 27,
     "metadata": {},
     "output_type": "execute_result"
    }
   ],
   "source": [
    "selected.head()"
   ]
  }
 ],
 "metadata": {
  "kernelspec": {
   "display_name": "Python 3.8.10 64-bit",
   "language": "python",
   "name": "python3"
  },
  "language_info": {
   "codemirror_mode": {
    "name": "ipython",
    "version": 3
   },
   "file_extension": ".py",
   "mimetype": "text/x-python",
   "name": "python",
   "nbconvert_exporter": "python",
   "pygments_lexer": "ipython3",
   "version": "3.8.10"
  },
  "vscode": {
   "interpreter": {
    "hash": "916dbcbb3f70747c44a77c7bcd40155683ae19c65e1c03b4aa3499c5328201f1"
   }
  }
 },
 "nbformat": 4,
 "nbformat_minor": 5
}
