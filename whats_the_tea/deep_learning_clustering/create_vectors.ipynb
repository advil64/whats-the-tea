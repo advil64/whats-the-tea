{
 "cells": [
  {
   "cell_type": "code",
   "execution_count": 3,
   "metadata": {},
   "outputs": [],
   "source": [
    "from pyspark.sql import functions as F\n",
    "import spacy\n",
    "\n",
    "nlp = spacy.load('en_core_web_lg')"
   ]
  },
  {
   "cell_type": "code",
   "execution_count": 1,
   "metadata": {},
   "outputs": [
    {
     "name": "stdout",
     "output_type": "stream",
     "text": [
      "+--------------------+\n",
      "|       selected_text|\n",
      "+--------------------+\n",
      "|University of Hyd...|\n",
      "|K Chandrasekhar R...|\n",
      "|Temple town Palit...|\n",
      "|UDF candidate C R...|\n",
      "|Greater Hyderabad...|\n",
      "|Corporator; other...|\n",
      "|8 lions in Hydera...|\n",
      "|19% brought dead;...|\n",
      "|Telangana: 'All I...|\n",
      "|Left to own devic...|\n",
      "|Telangana: Daily ...|\n",
      "|Cases dip for 2nd...|\n",
      "|Kerala assembly e...|\n",
      "|High court notice...|\n",
      "|India and Europe ...|\n",
      "|Heavy rains lash ...|\n",
      "|Priest attempts s...|\n",
      "|Deputy speaker as...|\n",
      "|Rain; hail hit ke...|\n",
      "|Mumbai: CBI probe...|\n",
      "+--------------------+\n",
      "only showing top 20 rows\n",
      "\n"
     ]
    }
   ],
   "source": [
    "processed_df = spark.read.json('/common/users/shared/cs543_fall22_group3/combined/combined_raw')\n",
    "processed_df.show()"
   ]
  },
  {
   "cell_type": "code",
   "execution_count": null,
   "metadata": {},
   "outputs": [],
   "source": [
    "processed_df.count()"
   ]
  },
  {
   "cell_type": "code",
   "execution_count": null,
   "metadata": {},
   "outputs": [],
   "source": [
    "@F.udf\n",
    "def vectorize(text):\n",
    "    return nlp(str(text)).vector\n",
    "\n",
    "processed_df = processed_df.withColumn('vector', vectorize(F.col('selected_text')))"
   ]
  },
  {
   "cell_type": "code",
   "execution_count": null,
   "metadata": {},
   "outputs": [],
   "source": [
    "processed_df.write.mode('Overwrite').json('/common/users/shared/cs543_fall22_group3/combined/deep_vectors')"
   ]
  }
 ],
 "metadata": {
  "kernelspec": {
   "display_name": "Python 3.8.10 64-bit",
   "language": "python",
   "name": "python3"
  },
  "language_info": {
   "codemirror_mode": {
    "name": "ipython",
    "version": 3
   },
   "file_extension": ".py",
   "mimetype": "text/x-python",
   "name": "python",
   "nbconvert_exporter": "python",
   "pygments_lexer": "ipython3",
   "version": "3.8.10"
  },
  "vscode": {
   "interpreter": {
    "hash": "916dbcbb3f70747c44a77c7bcd40155683ae19c65e1c03b4aa3499c5328201f1"
   }
  }
 },
 "nbformat": 4,
 "nbformat_minor": 4
}
