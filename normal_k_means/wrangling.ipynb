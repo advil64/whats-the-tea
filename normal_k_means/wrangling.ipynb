{
 "cells": [
  {
   "cell_type": "code",
   "execution_count": 1,
   "metadata": {},
   "outputs": [],
   "source": [
    "from pyspark.sql.functions import coalesce\n",
    "from pyspark.sql import SparkSession"
   ]
  },
  {
   "cell_type": "code",
   "execution_count": 2,
   "metadata": {},
   "outputs": [],
   "source": [
    "realnews_df = spark.read.json(\"/common/users/ac1771/realnews/realnews.jsonl\")"
   ]
  },
  {
   "cell_type": "code",
   "execution_count": 3,
   "metadata": {},
   "outputs": [],
   "source": [
    "uci_df = spark.read.csv(\"/common/users/shared/cs543_fall22_group3/news-aggregator-dataset/uci-news-aggregator.csv\", header=True)\n",
    "abc_news_df = spark.read.csv(\"/common/users/shared/cs543_fall22_group3/a-million-news-headlines/abcnews-date-text.csv\", header=True)\n",
    "all_the_news_df = spark.read.csv(\"/common/users/shared/cs543_fall22_group3/all-the-news-2/all-the-news-2-1.csv\", header=True)\n",
    "india_df = spark.read.csv(\"/common/users/shared/cs543_fall22_group3/india-headlines-news-dataset/india-news-headlines.csv\", header=True)\n",
    "news_cat = spark.read.json(\"/common/users/shared/cs543_fall22_group3/news-category-dataset/News_Category_Dataset_v3.json\")"
   ]
  },
  {
   "cell_type": "code",
   "execution_count": 4,
   "metadata": {},
   "outputs": [
    {
     "name": "stdout",
     "output_type": "stream",
     "text": [
      "42183620\n"
     ]
    }
   ],
   "source": [
    "print(realnews_df.count() + uci_df.count() + abc_news_df.count() + all_the_news_df.count() + india_df.count() + news_cat.count())"
   ]
  },
  {
   "cell_type": "code",
   "execution_count": 6,
   "metadata": {},
   "outputs": [
    {
     "name": "stdout",
     "output_type": "stream",
     "text": [
      "+--------------------+--------------+----------+--------------------+--------------------+--------------------+\n",
      "|             authors|      category|      date|            headline|                link|   short_description|\n",
      "+--------------------+--------------+----------+--------------------+--------------------+--------------------+\n",
      "|Carla K. Johnson, AP|     U.S. NEWS|2022-09-23|Over 4 Million Am...|https://www.huffp...|Health experts sa...|\n",
      "|      Mary Papenfuss|     U.S. NEWS|2022-09-23|American Airlines...|https://www.huffp...|He was subdued by...|\n",
      "|       Elyse Wanshel|        COMEDY|2022-09-23|23 Of The Funnies...|https://www.huffp...|\"Until you have a...|\n",
      "|    Caroline Bologna|     PARENTING|2022-09-23|The Funniest Twee...|https://www.huffp...|\"Accidentally put...|\n",
      "|      Nina Golgowski|     U.S. NEWS|2022-09-22|Woman Who Called ...|https://www.huffp...|Amy Cooper accuse...|\n",
      "|                    |     U.S. NEWS|2022-09-22|Cleaner Was Dead ...|https://www.huffp...|The 63-year-old w...|\n",
      "|       Elyse Wanshel|     U.S. NEWS|2022-09-22|Reporter Gets Ado...|https://www.huffp...|\"Who's that behin...|\n",
      "|     DÁNICA COTO, AP|    WORLD NEWS|2022-09-22|Puerto Ricans Des...|https://www.huffp...|More than half a ...|\n",
      "|         Marina Fang|CULTURE & ARTS|2022-09-22|How A New Documen...|https://www.huffp...|In \"Mija,\" direct...|\n",
      "|   Aamer Madhani, AP|    WORLD NEWS|2022-09-21|Biden At UN To Ca...|https://www.huffp...|White House offic...|\n",
      "|   GRAHAM DUNBAR, AP|    WORLD NEWS|2022-09-21|World Cup Captain...|https://www.huffp...|FIFA has come und...|\n",
      "|  Mari Yamaguchi, AP|    WORLD NEWS|2022-09-21|Man Sets Himself ...|https://www.huffp...|The incident unde...|\n",
      "|     Dánica Coto, AP|    WORLD NEWS|2022-09-21|Fiona Threatens T...|https://www.huffp...|Hurricane Fiona l...|\n",
      "|        Ben Blanchet|          TECH|2022-09-21|Twitch Bans Gambl...|https://www.huffp...|One man's claims ...|\n",
      "|Eric Tucker and M...|     U.S. NEWS|2022-09-21|Virginia Thomas A...|https://www.huffp...|Conservative acti...|\n",
      "|   Marco Margaritoff|    WORLD NEWS|2022-09-20|Russian Cosmonaut...|https://www.huffp...|Polyakov's record...|\n",
      "|Marina Fang and C...|CULTURE & ARTS|2022-09-20|'Reboot' Is A Cle...|https://www.huffp...|Starring Keegan-M...|\n",
      "|     Beth Harris, AP|        SPORTS|2022-09-20|Maury Wills, Base...|https://www.huffp...|Maury Wills, who ...|\n",
      "|    Jon Gambrell, AP|    WORLD NEWS|2022-09-20|4 Russian-Control...|https://www.huffp...|The concerted and...|\n",
      "|     Dánica Coto, AP|    WORLD NEWS|2022-09-20|Fiona Barrels Tow...|https://www.huffp...|The Turks and Cai...|\n",
      "+--------------------+--------------+----------+--------------------+--------------------+--------------------+\n",
      "only showing top 20 rows\n",
      "\n"
     ]
    }
   ],
   "source": [
    "news_cat.show()"
   ]
  },
  {
   "cell_type": "code",
   "execution_count": 8,
   "metadata": {},
   "outputs": [],
   "source": [
    "news_cat = news_cat.select(\"*\", coalesce(news_cat[\"short_description\"], news_cat[\"headline\"]).alias(\"selected_text\"))\n",
    "news_cat = news_cat.select(\"selected_text\")"
   ]
  },
  {
   "cell_type": "code",
   "execution_count": 9,
   "metadata": {},
   "outputs": [],
   "source": [
    "realnews_df = realnews_df.select(\"*\", coalesce(realnews_df[\"summary\"], realnews_df[\"title\"]).alias(\"selected_text\"))\n",
    "realnews_df = realnews_df.select(\"selected_text\")"
   ]
  },
  {
   "cell_type": "code",
   "execution_count": 13,
   "metadata": {},
   "outputs": [
    {
     "name": "stdout",
     "output_type": "stream",
     "text": [
      "+--------------------+--------------------+----------+----------------+--------------------+--------------------+--------------------+--------------------+--------------------+--------------------+\n",
      "|                date|                year|     month|             day|              author|               title|             article|                 url|             section|         publication|\n",
      "+--------------------+--------------------+----------+----------------+--------------------+--------------------+--------------------+--------------------+--------------------+--------------------+\n",
      "| 2016-12-09 18:31:00|                2016|      12.0|               9|         Lee Drutman|We should take co...|\"This post is par...|             however| several critics ...|         for example|\n",
      "| 2016-10-07 21:26:46|                2016|      10.0|               7|         Scott Davis|Colts GM Ryan Gri...| The Indianapolis...|                null|                null|                null|\n",
      "|The highest-paid ...|https://www.busin...|      null|Business Insider|                null|                null|                null|                null|                null|                null|\n",
      "| 2018-01-26 00:00:00|                2018|       1.0|              26|                null|Trump denies repo...|DAVOS, Switzerlan...|https://www.reute...|               Davos|             Reuters|\n",
      "| 2019-06-27 00:00:00|                2019|       6.0|              27|                null|France's Sarkozy ...|PARIS (Reuters) -...|https://www.reute...|          World News|             Reuters|\n",
      "| 2016-01-27 00:00:00|                2016|       1.0|              27|                null|Paris Hilton: Wom...|\"Paris Hilton arr...|https://www.tmz.c...|                null|                 TMZ|\n",
      "| 2019-06-17 00:00:00|                2019|       6.0|              17|                null|ECB's Coeure: If ...|BERLIN, June 17 (...|                null|                null|                null|\n",
      "|Editing by Tassil...|https://www.reute...|Financials|         Reuters|                null|                null|                null|                null|                null|                null|\n",
      "| 2019-06-23 00:00:00|                2019|       6.0|              23|                null|Venezuela detains...|CARACAS (Reuters)...|https://www.reute...|          World News|             Reuters|\n",
      "| 2018-05-02 17:09:00|                2018|       5.0|               2|   Caroline Williams|You Can Trick You...|\"If only every da...|\"\" DeGutis says. ...| paying attention...| it makes it easi...|\n",
      "| 2016-05-18 13:00:06|                2016|       5.0|              18|         Mark Bergen|How to watch the ...|Google I/O, the c...|https://www.vox.c...|                null|                 Vox|\n",
      "| 2017-03-02 00:00:00|                2017|       3.0|               2|            Tim Hume|China is dismissi...|China is dismissi...|https://news.vice...|                null|           Vice News|\n",
      "| 2019-05-22 20:10:00|                2019|       5.0|              22|       Emily Stewart|“Elizabeth Warren...|Elizabeth Warren ...|https://www.vox.c...|                null|                 Vox|\n",
      "| 2019-06-23 00:00:00|                2019|       6.0|              23|Jessica DiNapoli,...|Hudson's Bay's ch...|(Reuters) - The s...|https://www.reute...|       Business News|             Reuters|\n",
      "| 2018-11-05 00:00:00|                2018|      11.0|               5|                null|Joakim Noah's Vic...|Joakim Noah's ﻿mo...|https://www.tmz.c...|                null|                 TMZ|\n",
      "| 2019-05-10 00:00:00|                2019|       5.0|              10|                null|Jermaine Jackson ...|\"Jermaine Jackson...|\"\" \"\"Thriller\"\" a...| and the 2 will f...| Quincy isn't say...|\n",
      "| 2019-03-28 00:00:00|                2019|       3.0|              28|                null|UK PM May presses...|LONDON (Reuters) ...|https://www.reute...|          World News|             Reuters|\n",
      "| 2016-09-08 15:40:02|                2016|       9.0|               8|          Jeff Stein|Nancy Pelosi says...|\"Nancy Pelosi is ...|\"\" Skelley says. ...|           of course| but it begins lo...|\n",
      "| 2017-01-11 23:10:01|                2017|       1.0|              11|        Libby Nelson|The government of...|The nonpartisan d...|https://www.vox.c...|                null|                 Vox|\n",
      "| 2019-01-26 17:30:00|                2019|       1.0|              26|         Kurt Wagner|Mark Zuckerberg’s...|The threat of gov...|https://www.vox.c...|                null|                 Vox|\n",
      "+--------------------+--------------------+----------+----------------+--------------------+--------------------+--------------------+--------------------+--------------------+--------------------+\n",
      "only showing top 20 rows\n",
      "\n"
     ]
    }
   ],
   "source": [
    "all_the_news_df.show()"
   ]
  },
  {
   "cell_type": "code",
   "execution_count": 14,
   "metadata": {},
   "outputs": [],
   "source": [
    "uci_df = uci_df.select(\"TITLE\").withColumnRenamed(\"TIMESTAMP\",\"publish_date\").withColumnRenamed(\"TITLE\", \"selected_text\")\n",
    "abc_news_df = abc_news_df.select(\"headline_text\").withColumnRenamed(\"headline_text\", \"selected_text\")\n",
    "india_df = india_df.select(\"headline_text\").withColumnRenamed(\"headline_text\", \"selected_text\")\n",
    "all_the_news_df = all_the_news_df.select(\"title\").withColumnRenamed(\"title\", \"selected_text\")"
   ]
  },
  {
   "cell_type": "code",
   "execution_count": 15,
   "metadata": {},
   "outputs": [],
   "source": [
    "combined_df = realnews_df.unionByName(uci_df).unionByName(abc_news_df).unionByName(india_df).unionByName(all_the_news_df).unionByName(news_cat)"
   ]
  },
  {
   "cell_type": "code",
   "execution_count": 17,
   "metadata": {},
   "outputs": [
    {
     "name": "stdout",
     "output_type": "stream",
     "text": [
      "+--------------------+\n",
      "|       selected_text|\n",
      "+--------------------+\n",
      "|Pretzel sticks, p...|\n",
      "|We Catholics have...|\n",
      "|A woman who alleg...|\n",
      "|It’s a huge bonus...|\n",
      "|Little lad, two, ...|\n",
      "|The five highest ...|\n",
      "|If Vegas had hand...|\n",
      "|Ed Gillespie is t...|\n",
      "|Migrants fleeing ...|\n",
      "|Somewhere in the ...|\n",
      "|Minute-by-minute ...|\n",
      "|GOP candidates ba...|\n",
      "|Moussa Abu Marzou...|\n",
      "|Los Angeles-based...|\n",
      "|A jug containing ...|\n",
      "|Pregnant Cheryl g...|\n",
      "|Nicole Richie is ...|\n",
      "|Colorado's Denver...|\n",
      "|Brition Alexandra...|\n",
      "|The number of wet...|\n",
      "+--------------------+\n",
      "only showing top 20 rows\n",
      "\n"
     ]
    }
   ],
   "source": [
    "# print('Total Row Count: {}'.format(combined_df.count()))\n",
    "combined_df.show()"
   ]
  },
  {
   "cell_type": "code",
   "execution_count": 18,
   "metadata": {},
   "outputs": [],
   "source": [
    "combined_df.write.mode(\"Overwrite\").json('/common/users/shared/cs543_fall22_group3/combined/combined_raw')"
   ]
  }
 ],
 "metadata": {
  "kernelspec": {
   "display_name": "Spark 3 in Python 3",
   "language": "python",
   "name": "pyspark3"
  },
  "language_info": {
   "codemirror_mode": {
    "name": "ipython",
    "version": 3
   },
   "file_extension": ".py",
   "mimetype": "text/x-python",
   "name": "python",
   "nbconvert_exporter": "python",
   "pygments_lexer": "ipython3",
   "version": "3.9.5"
  }
 },
 "nbformat": 4,
 "nbformat_minor": 4
}
