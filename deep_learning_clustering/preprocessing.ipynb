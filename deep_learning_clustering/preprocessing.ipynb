{
 "cells": [
  {
   "cell_type": "code",
   "execution_count": 1,
   "id": "a589af87-7815-4ed0-be35-9a2101b36fea",
   "metadata": {},
   "outputs": [],
   "source": [
    "from pyspark.sql.functions import udf\n",
    "import spacy\n",
    "import string\n",
    "\n",
    "nlp = spacy.load('en_core_web_lg')"
   ]
  },
  {
   "cell_type": "code",
   "execution_count": 2,
   "id": "35019340",
   "metadata": {},
   "outputs": [],
   "source": [
    "ROOT = '../datasets/combined'"
   ]
  },
  {
   "cell_type": "code",
   "execution_count": 3,
   "id": "dec2c1d3-3754-4512-97a4-5fcf16bcd704",
   "metadata": {},
   "outputs": [
    {
     "name": "stdout",
     "output_type": "stream",
     "text": [
      "+--------------------+\n",
      "|             article|\n",
      "+--------------------+\n",
      "|U.S. investment b...|\n",
      "|Mexican coffee pr...|\n",
      "|Oil companies are...|\n",
      "|Adam Dunn … you a...|\n",
      "|The surprising re...|\n",
      "|» County’s annual...|\n",
      "|Dropcam will prob...|\n",
      "|Wild Insects need...|\n",
      "|British scientist...|\n",
      "|The Big Bang Theo...|\n",
      "|A nurse made the ...|\n",
      "|Mother-of-three D...|\n",
      "|The Scots were ki...|\n",
      "|He may not be com...|\n",
      "|The wreckage of t...|\n",
      "|Inter Milan were ...|\n",
      "|18-year-old Aditi...|\n",
      "|Tiger Woods grima...|\n",
      "|Danny Cipriani to...|\n",
      "|US jobs numbers a...|\n",
      "+--------------------+\n",
      "only showing top 20 rows\n",
      "\n"
     ]
    }
   ],
   "source": [
    "raw_df = spark.read.json(f'{ROOT}/combined_raw')\n",
    "raw_df.show()"
   ]
  },
  {
   "cell_type": "code",
   "execution_count": 4,
   "id": "07432468-8fc8-4f74-8617-affd9373d512",
   "metadata": {},
   "outputs": [
    {
     "data": {
      "text/plain": [
       "40954102"
      ]
     },
     "execution_count": 4,
     "metadata": {},
     "output_type": "execute_result"
    }
   ],
   "source": [
    "raw_df.count()"
   ]
  },
  {
   "cell_type": "code",
   "execution_count": 5,
   "id": "bfe74b38-2351-4a9d-bec5-493a3f23846d",
   "metadata": {},
   "outputs": [],
   "source": [
    "def preprocess_text(text):\n",
    "    # Convert text to lowercase\n",
    "    text = text.lower()\n",
    "    \n",
    "    # Remove stopwords and short words with spaCy\n",
    "    doc = nlp(text)\n",
    "    text = ' '.join([token.text for token in doc if not token.is_stop and len(token.text) > 2])\n",
    "    \n",
    "    # Remove punctuation\n",
    "    text = ''.join([char for char in text if char not in string.punctuation])\n",
    "    \n",
    "    # Apply spaCy's language model to generate text embeddings\n",
    "    doc = nlp(text)\n",
    "    embeddings = doc.vector.tolist()\n",
    "    \n",
    "    return embeddings"
   ]
  },
  {
   "cell_type": "code",
   "execution_count": 6,
   "id": "0ed4cf68-c150-4693-ac40-5b5955ef14e1",
   "metadata": {},
   "outputs": [
    {
     "name": "stdout",
     "output_type": "stream",
     "text": [
      "+--------------------+\n",
      "|             article|\n",
      "+--------------------+\n",
      "|[-0.1344387233257...|\n",
      "|[-0.6017873287200...|\n",
      "|[0.03559869527816...|\n",
      "|[-0.3951138556003...|\n",
      "|[0.41297334432601...|\n",
      "|[-1.9053480625152...|\n",
      "|[1.11993110179901...|\n",
      "|[0.36661779880523...|\n",
      "|[-0.1308644264936...|\n",
      "|[0.72363460063934...|\n",
      "|[-0.1466323137283...|\n",
      "|[-0.5513845086097...|\n",
      "|[-0.7763857841491...|\n",
      "|[-0.5878886580467...|\n",
      "|[-0.2158189564943...|\n",
      "|[-1.8650419712066...|\n",
      "|[-0.8801572918891...|\n",
      "|[-0.8520722985267...|\n",
      "|[-0.1342076659202...|\n",
      "|[-0.2789138257503...|\n",
      "+--------------------+\n",
      "only showing top 20 rows\n",
      "\n"
     ]
    }
   ],
   "source": [
    "preprocess_udf = udf(preprocess_text)\n",
    "processed_df = raw_df.withColumn('article', preprocess_udf(raw_df['article']))\n",
    "processed_df.show()"
   ]
  },
  {
   "cell_type": "code",
   "execution_count": 7,
   "id": "feaf4a1e-194d-4e6f-827f-4f97ca535e25",
   "metadata": {
    "tags": []
   },
   "outputs": [],
   "source": [
    "processed_df.write.mode('overwrite').json(f'{ROOT}/combined_processed_spacy')"
   ]
  }
 ],
 "metadata": {
  "kernelspec": {
   "display_name": "Spark 3 in Python 3",
   "language": "python",
   "name": "pyspark3"
  },
  "language_info": {
   "codemirror_mode": {
    "name": "ipython",
    "version": 3
   },
   "file_extension": ".py",
   "mimetype": "text/x-python",
   "name": "python",
   "nbconvert_exporter": "python",
   "pygments_lexer": "ipython3",
   "version": "3.9.5"
  }
 },
 "nbformat": 4,
 "nbformat_minor": 5
}
