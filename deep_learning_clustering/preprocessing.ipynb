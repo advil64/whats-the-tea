{
 "cells": [
  {
   "cell_type": "code",
   "execution_count": 1,
   "id": "a589af87-7815-4ed0-be35-9a2101b36fea",
   "metadata": {},
   "outputs": [],
   "source": [
    "from pyspark.sql.functions import udf\n",
    "import spacy\n",
    "import string\n",
    "\n",
    "nlp = spacy.load('en_core_web_lg')"
   ]
  },
  {
   "cell_type": "code",
   "execution_count": null,
   "id": "35019340",
   "metadata": {},
   "outputs": [],
   "source": [
    "ROOT = '../dataset/combined'"
   ]
  },
  {
   "cell_type": "code",
   "execution_count": 2,
   "id": "dec2c1d3-3754-4512-97a4-5fcf16bcd704",
   "metadata": {},
   "outputs": [
    {
     "name": "stdout",
     "output_type": "stream",
     "text": [
      "+--------------------+\n",
      "|             article|\n",
      "+--------------------+\n",
      "|U.S. investment b...|\n",
      "|Mexican coffee pr...|\n",
      "|Oil companies are...|\n",
      "|Adam Dunn … you a...|\n",
      "|The surprising re...|\n",
      "|» County’s annual...|\n",
      "|Dropcam will prob...|\n",
      "|Wild Insects need...|\n",
      "|British scientist...|\n",
      "|The Big Bang Theo...|\n",
      "|A nurse made the ...|\n",
      "|Mother-of-three D...|\n",
      "|The Scots were ki...|\n",
      "|He may not be com...|\n",
      "|The wreckage of t...|\n",
      "|Inter Milan were ...|\n",
      "|18-year-old Aditi...|\n",
      "|Tiger Woods grima...|\n",
      "|Danny Cipriani to...|\n",
      "|US jobs numbers a...|\n",
      "+--------------------+\n",
      "only showing top 20 rows\n",
      "\n"
     ]
    }
   ],
   "source": [
    "raw_df = spark.read.json(f'{ROOT}/combined_raw')\n",
    "raw_df.show()"
   ]
  },
  {
   "cell_type": "code",
   "execution_count": 3,
   "id": "07432468-8fc8-4f74-8617-affd9373d512",
   "metadata": {},
   "outputs": [
    {
     "data": {
      "text/plain": [
       "40954102"
      ]
     },
     "execution_count": 3,
     "metadata": {},
     "output_type": "execute_result"
    }
   ],
   "source": [
    "raw_df.count()"
   ]
  },
  {
   "cell_type": "code",
   "execution_count": 4,
   "id": "bfe74b38-2351-4a9d-bec5-493a3f23846d",
   "metadata": {},
   "outputs": [],
   "source": [
    "def preprocess_text(text):\n",
    "    # Convert text to lowercase\n",
    "    text = text.lower()\n",
    "    \n",
    "    # Remove stopwords and short words with spaCy\n",
    "    doc = nlp(text)\n",
    "    text = ' '.join([token.text for token in doc if not token.is_stop and len(token.text) > 2])\n",
    "    \n",
    "    # Remove punctuation\n",
    "    text = ''.join([char for char in text if char not in string.punctuation])\n",
    "    \n",
    "    # Apply spaCy's language model to generate text embeddings\n",
    "    doc = nlp(text)\n",
    "    embeddings = doc.vector.tolist()\n",
    "    \n",
    "    return embeddings"
   ]
  },
  {
   "cell_type": "code",
   "execution_count": 5,
   "id": "0ed4cf68-c150-4693-ac40-5b5955ef14e1",
   "metadata": {},
   "outputs": [
    {
     "name": "stdout",
     "output_type": "stream",
     "text": [
      "+--------------------+\n",
      "|             article|\n",
      "+--------------------+\n",
      "|[-0.1075509786605...|\n",
      "|[-0.4619120657444...|\n",
      "|[0.03337377682328...|\n",
      "|[-0.2698644399642...|\n",
      "|[0.41297334432601...|\n",
      "|[-1.0883550643920...|\n",
      "|[0.91630727052688...|\n",
      "|[0.30551484227180...|\n",
      "|[-0.1121695041656...|\n",
      "|[0.72363460063934...|\n",
      "|[-0.1270813345909...|\n",
      "|[-0.4511327743530...|\n",
      "|[-0.6705150008201...|\n",
      "|[-0.5344442725181...|\n",
      "|[-0.2508292496204...|\n",
      "|[-1.3492286205291...|\n",
      "|[-0.9457947611808...|\n",
      "|[-0.6164143085479...|\n",
      "|[-0.2500665485858...|\n",
      "|[-0.2789138257503...|\n",
      "+--------------------+\n",
      "only showing top 20 rows\n",
      "\n"
     ]
    }
   ],
   "source": [
    "preprocess_udf = udf(preprocess_text)\n",
    "processed_df = raw_df.withColumn('article', preprocess_udf(raw_df['article']))\n",
    "processed_df.show()"
   ]
  },
  {
   "cell_type": "code",
   "execution_count": null,
   "id": "72f9886e-6a4d-4f42-872b-d5e43f7b764b",
   "metadata": {},
   "outputs": [],
   "source": [
    "processed_df.write.mode('overwrite').json(f'{ROOT}/combined_processed_spacy')"
   ]
  }
 ],
 "metadata": {
  "kernelspec": {
   "display_name": "venv",
   "language": "python",
   "name": "python3"
  },
  "language_info": {
   "codemirror_mode": {
    "name": "ipython",
    "version": 3
   },
   "file_extension": ".py",
   "mimetype": "text/x-python",
   "name": "python",
   "nbconvert_exporter": "python",
   "pygments_lexer": "ipython3",
   "version": "3.10.7"
  }
 },
 "nbformat": 4,
 "nbformat_minor": 5
}
