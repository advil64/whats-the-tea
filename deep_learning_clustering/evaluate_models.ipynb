{
 "cells": [
  {
   "cell_type": "code",
   "execution_count": 1,
   "metadata": {},
   "outputs": [],
   "source": [
    "from model import Classifier\n",
    "from sklearn.model_selection import train_test_split\n",
    "import json\n",
    "import numpy as np\n",
    "import pandas as pd\n",
    "import torch\n",
    "import torch.nn as nn"
   ]
  },
  {
   "cell_type": "code",
   "execution_count": 2,
   "metadata": {},
   "outputs": [
    {
     "name": "stdout",
     "output_type": "stream",
     "text": [
      "Using device: cpu\n"
     ]
    }
   ],
   "source": [
    "device = torch.device('cuda' if torch.cuda.is_available() else 'cpu')\n",
    "\n",
    "print(f'Using device: {device}')"
   ]
  },
  {
   "cell_type": "code",
   "execution_count": 3,
   "metadata": {},
   "outputs": [],
   "source": [
    "with open('topics.json') as f:\n",
    "    topics = json.load(f)"
   ]
  },
  {
   "cell_type": "code",
   "execution_count": 4,
   "metadata": {},
   "outputs": [
    {
     "data": {
      "text/html": [
       "<div>\n",
       "<style scoped>\n",
       "    .dataframe tbody tr th:only-of-type {\n",
       "        vertical-align: middle;\n",
       "    }\n",
       "\n",
       "    .dataframe tbody tr th {\n",
       "        vertical-align: top;\n",
       "    }\n",
       "\n",
       "    .dataframe thead th {\n",
       "        text-align: right;\n",
       "    }\n",
       "</style>\n",
       "<table border=\"1\" class=\"dataframe\">\n",
       "  <thead>\n",
       "    <tr style=\"text-align: right;\">\n",
       "      <th></th>\n",
       "      <th>article_embedding</th>\n",
       "      <th>topic</th>\n",
       "    </tr>\n",
       "  </thead>\n",
       "  <tbody>\n",
       "    <tr>\n",
       "      <th>0</th>\n",
       "      <td>[-1.77190983e+00  7.77235508e-01 -1.44897866e+...</td>\n",
       "      <td>U.S. NEWS</td>\n",
       "    </tr>\n",
       "    <tr>\n",
       "      <th>1</th>\n",
       "      <td>[-2.6128807   0.3425455  -1.8239442   0.828039...</td>\n",
       "      <td>U.S. NEWS</td>\n",
       "    </tr>\n",
       "    <tr>\n",
       "      <th>2</th>\n",
       "      <td>[-1.2731742e+00  1.0092950e+00 -1.7676051e+00 ...</td>\n",
       "      <td>COMEDY</td>\n",
       "    </tr>\n",
       "    <tr>\n",
       "      <th>3</th>\n",
       "      <td>[-9.87586260e-01  5.54175138e-01 -1.56290960e+...</td>\n",
       "      <td>PARENTING</td>\n",
       "    </tr>\n",
       "    <tr>\n",
       "      <th>4</th>\n",
       "      <td>[-2.36455750e+00 -3.52101356e-01 -1.48058534e+...</td>\n",
       "      <td>U.S. NEWS</td>\n",
       "    </tr>\n",
       "  </tbody>\n",
       "</table>\n",
       "</div>"
      ],
      "text/plain": [
       "                                   article_embedding      topic\n",
       "0  [-1.77190983e+00  7.77235508e-01 -1.44897866e+...  U.S. NEWS\n",
       "1  [-2.6128807   0.3425455  -1.8239442   0.828039...  U.S. NEWS\n",
       "2  [-1.2731742e+00  1.0092950e+00 -1.7676051e+00 ...     COMEDY\n",
       "3  [-9.87586260e-01  5.54175138e-01 -1.56290960e+...  PARENTING\n",
       "4  [-2.36455750e+00 -3.52101356e-01 -1.48058534e+...  U.S. NEWS"
      ]
     },
     "execution_count": 4,
     "metadata": {},
     "output_type": "execute_result"
    }
   ],
   "source": [
    "df = pd.read_json('../datasets/combined/combined_processed_spacy.json')\n",
    "df.head()"
   ]
  },
  {
   "cell_type": "code",
   "execution_count": 5,
   "metadata": {},
   "outputs": [],
   "source": [
    "def vector_to_tensor(vector):\n",
    "    cleaned_vector = vector.replace('\\n', '').replace('[', '').replace(']', '').replace('  ', ' ')\n",
    "    \n",
    "    return torch.tensor(np.fromstring(cleaned_vector, dtype=np.float32, sep=' '))\n"
   ]
  },
  {
   "cell_type": "code",
   "execution_count": 6,
   "metadata": {},
   "outputs": [],
   "source": [
    "df['article_embedding'] = df['article_embedding'].apply(vector_to_tensor)\n",
    "df['topic'] = df['topic'].apply(lambda x: topics.index(x))"
   ]
  },
  {
   "cell_type": "code",
   "execution_count": 7,
   "metadata": {},
   "outputs": [],
   "source": [
    "X = torch.stack(df['article_embedding'].values.tolist()).unsqueeze(1)\n",
    "y = torch.tensor(df['topic'].values)\n",
    "\n",
    "X_train, X_test, y_train, y_test = train_test_split(X, y, test_size=0.1, random_state=42)\n",
    "X_train, X_val, y_train, y_val = train_test_split(X_train, y_train, test_size=0.1, random_state=42)"
   ]
  },
  {
   "cell_type": "code",
   "execution_count": 8,
   "metadata": {},
   "outputs": [
    {
     "name": "stdout",
     "output_type": "stream",
     "text": [
      "Epoch 1/20 | Loss: 2.6637 | Accuracy: 30.55%\n",
      "Epoch 2/20 | Loss: 1.8554 | Accuracy: 37.72%\n",
      "Epoch 3/20 | Loss: 2.2456 | Accuracy: 39.87%\n",
      "Epoch 4/20 | Loss: 2.4231 | Accuracy: 40.52%\n",
      "Epoch 5/20 | Loss: 2.4138 | Accuracy: 41.14%\n",
      "Epoch 6/20 | Loss: 2.3086 | Accuracy: 41.77%\n",
      "Epoch 7/20 | Loss: 1.9040 | Accuracy: 41.99%\n",
      "Epoch 8/20 | Loss: 2.2864 | Accuracy: 42.09%\n",
      "Epoch 9/20 | Loss: 2.4905 | Accuracy: 42.48%\n",
      "Epoch 10/20 | Loss: 1.9006 | Accuracy: 42.59%\n",
      "Epoch 11/20 | Loss: 1.9659 | Accuracy: 42.92%\n",
      "Epoch 12/20 | Loss: 1.8754 | Accuracy: 43.26%\n",
      "Epoch 13/20 | Loss: 1.7696 | Accuracy: 43.61%\n",
      "Epoch 14/20 | Loss: 1.5424 | Accuracy: 43.95%\n",
      "Epoch 15/20 | Loss: 1.8606 | Accuracy: 44.06%\n",
      "Epoch 16/20 | Loss: 1.8058 | Accuracy: 44.21%\n",
      "Epoch 17/20 | Loss: 1.8261 | Accuracy: 44.42%\n",
      "Epoch 18/20 | Loss: 2.1716 | Accuracy: 44.46%\n",
      "Epoch 19/20 | Loss: 1.9330 | Accuracy: 44.76%\n",
      "Epoch 20/20 | Loss: 1.7624 | Accuracy: 44.69%\n",
      "Validation accuracy: 46.81\n"
     ]
    }
   ],
   "source": [
    "model1 = Classifier().to(device)\n",
    "\n",
    "batch_size = 64\n",
    "criterion = nn.CrossEntropyLoss()\n",
    "optimizer = torch.optim.SGD(model1.parameters(), lr=0.1)\n",
    "num_epochs = 20\n",
    "\n",
    "model1.train_model(X_train, y_train, batch_size, device, criterion, optimizer, num_epochs)\n",
    "\n",
    "predictions = model1.predict(X_val, batch_size)\n",
    "accuracy = np.mean(predictions == np.array(y_val)) * 100\n",
    "\n",
    "print(f'Validation accuracy: {accuracy:.2f}')"
   ]
  },
  {
   "cell_type": "code",
   "execution_count": 9,
   "metadata": {},
   "outputs": [
    {
     "name": "stdout",
     "output_type": "stream",
     "text": [
      "Epoch 1/20 | Loss: 1.9619 | Accuracy: 38.29%\n",
      "Epoch 2/20 | Loss: 2.1761 | Accuracy: 44.44%\n",
      "Epoch 3/20 | Loss: 1.8516 | Accuracy: 46.08%\n",
      "Epoch 4/20 | Loss: 1.8255 | Accuracy: 47.32%\n",
      "Epoch 5/20 | Loss: 2.3309 | Accuracy: 47.80%\n",
      "Epoch 6/20 | Loss: 2.0937 | Accuracy: 48.39%\n",
      "Epoch 7/20 | Loss: 1.7838 | Accuracy: 48.80%\n",
      "Epoch 8/20 | Loss: 2.0517 | Accuracy: 49.18%\n",
      "Epoch 9/20 | Loss: 2.1222 | Accuracy: 49.39%\n",
      "Epoch 10/20 | Loss: 1.6655 | Accuracy: 49.60%\n",
      "Epoch 11/20 | Loss: 1.4790 | Accuracy: 49.92%\n",
      "Epoch 12/20 | Loss: 1.8687 | Accuracy: 50.25%\n",
      "Epoch 13/20 | Loss: 1.9030 | Accuracy: 50.41%\n",
      "Epoch 14/20 | Loss: 1.5378 | Accuracy: 50.61%\n",
      "Epoch 15/20 | Loss: 2.1077 | Accuracy: 50.64%\n",
      "Epoch 16/20 | Loss: 1.7338 | Accuracy: 50.79%\n",
      "Epoch 17/20 | Loss: 1.9461 | Accuracy: 50.97%\n",
      "Epoch 18/20 | Loss: 1.9397 | Accuracy: 51.02%\n",
      "Epoch 19/20 | Loss: 2.0615 | Accuracy: 50.99%\n",
      "Epoch 20/20 | Loss: 1.6196 | Accuracy: 51.22%\n",
      "Validation accuracy: 51.79\n"
     ]
    }
   ],
   "source": [
    "model2 = Classifier().to(device)\n",
    "\n",
    "batch_size = 64\n",
    "criterion = nn.CrossEntropyLoss()\n",
    "optimizer = torch.optim.SGD(model2.parameters(), lr=0.05)\n",
    "num_epochs = 20\n",
    "\n",
    "model2.train_model(X_train, y_train, batch_size, device, criterion, optimizer, num_epochs)\n",
    "\n",
    "predictions = model2.predict(X_val, batch_size)\n",
    "accuracy = np.mean(predictions == np.array(y_val)) * 100\n",
    "\n",
    "print(f'Validation accuracy: {accuracy:.2f}')"
   ]
  },
  {
   "cell_type": "code",
   "execution_count": 10,
   "metadata": {},
   "outputs": [
    {
     "name": "stdout",
     "output_type": "stream",
     "text": [
      "Epoch 1/50 | Loss: 2.1552 | Accuracy: 34.99%\n",
      "Epoch 2/50 | Loss: 1.8917 | Accuracy: 43.30%\n",
      "Epoch 3/50 | Loss: 1.6838 | Accuracy: 46.05%\n",
      "Epoch 4/50 | Loss: 2.0227 | Accuracy: 47.34%\n",
      "Epoch 5/50 | Loss: 1.8167 | Accuracy: 48.10%\n",
      "Epoch 6/50 | Loss: 1.8681 | Accuracy: 48.74%\n",
      "Epoch 7/50 | Loss: 1.6747 | Accuracy: 49.17%\n",
      "Epoch 8/50 | Loss: 1.6301 | Accuracy: 49.60%\n",
      "Epoch 9/50 | Loss: 2.2906 | Accuracy: 49.89%\n",
      "Epoch 10/50 | Loss: 2.0510 | Accuracy: 50.12%\n",
      "Epoch 11/50 | Loss: 1.8762 | Accuracy: 50.51%\n",
      "Epoch 12/50 | Loss: 2.1187 | Accuracy: 50.56%\n",
      "Epoch 13/50 | Loss: 1.7168 | Accuracy: 50.85%\n",
      "Epoch 14/50 | Loss: 1.5079 | Accuracy: 51.01%\n",
      "Epoch 15/50 | Loss: 1.8556 | Accuracy: 51.06%\n",
      "Epoch 16/50 | Loss: 1.7787 | Accuracy: 51.27%\n",
      "Epoch 17/50 | Loss: 1.7735 | Accuracy: 51.46%\n",
      "Epoch 18/50 | Loss: 1.5691 | Accuracy: 51.43%\n",
      "Epoch 19/50 | Loss: 1.7224 | Accuracy: 51.58%\n",
      "Epoch 20/50 | Loss: 1.4488 | Accuracy: 51.52%\n",
      "Epoch 21/50 | Loss: 1.8425 | Accuracy: 51.78%\n",
      "Epoch 22/50 | Loss: 1.7218 | Accuracy: 51.79%\n",
      "Epoch 23/50 | Loss: 2.0126 | Accuracy: 51.86%\n",
      "Epoch 24/50 | Loss: 1.5013 | Accuracy: 51.92%\n",
      "Epoch 25/50 | Loss: 1.2404 | Accuracy: 52.07%\n",
      "Epoch 26/50 | Loss: 1.9897 | Accuracy: 51.99%\n",
      "Epoch 27/50 | Loss: 1.9860 | Accuracy: 52.20%\n",
      "Epoch 28/50 | Loss: 1.6410 | Accuracy: 52.27%\n",
      "Epoch 29/50 | Loss: 1.8673 | Accuracy: 52.19%\n",
      "Epoch 30/50 | Loss: 1.5864 | Accuracy: 52.23%\n",
      "Epoch 31/50 | Loss: 1.5629 | Accuracy: 52.33%\n",
      "Epoch 32/50 | Loss: 1.7685 | Accuracy: 52.35%\n",
      "Epoch 33/50 | Loss: 1.8191 | Accuracy: 52.38%\n",
      "Epoch 34/50 | Loss: 1.7293 | Accuracy: 52.48%\n",
      "Epoch 35/50 | Loss: 1.5029 | Accuracy: 52.62%\n",
      "Epoch 36/50 | Loss: 2.0400 | Accuracy: 52.51%\n",
      "Epoch 37/50 | Loss: 1.8072 | Accuracy: 52.48%\n",
      "Epoch 38/50 | Loss: 2.3332 | Accuracy: 52.79%\n",
      "Epoch 39/50 | Loss: 1.5910 | Accuracy: 52.68%\n",
      "Epoch 40/50 | Loss: 1.6906 | Accuracy: 52.74%\n",
      "Epoch 41/50 | Loss: 2.2828 | Accuracy: 52.79%\n",
      "Epoch 42/50 | Loss: 1.8426 | Accuracy: 52.80%\n",
      "Epoch 43/50 | Loss: 1.9149 | Accuracy: 52.90%\n",
      "Epoch 44/50 | Loss: 1.7821 | Accuracy: 52.85%\n",
      "Epoch 45/50 | Loss: 1.9090 | Accuracy: 52.96%\n",
      "Epoch 46/50 | Loss: 2.1901 | Accuracy: 53.00%\n",
      "Epoch 47/50 | Loss: 1.9844 | Accuracy: 52.96%\n",
      "Epoch 48/50 | Loss: 1.8764 | Accuracy: 53.01%\n",
      "Epoch 49/50 | Loss: 1.9070 | Accuracy: 53.05%\n",
      "Epoch 50/50 | Loss: 1.3947 | Accuracy: 53.08%\n",
      "Validation accuracy: 53.12\n"
     ]
    }
   ],
   "source": [
    "model3 = Classifier().to(device)\n",
    "\n",
    "batch_size = 64\n",
    "criterion = nn.CrossEntropyLoss()\n",
    "optimizer = torch.optim.SGD(model3.parameters(), lr=0.01)\n",
    "num_epochs = 50\n",
    "\n",
    "model3.train_model(X_train, y_train, batch_size, device, criterion, optimizer, num_epochs)\n",
    "\n",
    "predictions = model3.predict(X_val, batch_size)\n",
    "accuracy = np.mean(predictions == np.array(y_val)) * 100\n",
    "\n",
    "print(f'Validation accuracy: {accuracy:.2f}')"
   ]
  },
  {
   "cell_type": "code",
   "execution_count": 11,
   "metadata": {},
   "outputs": [
    {
     "name": "stdout",
     "output_type": "stream",
     "text": [
      "Test accuracy: 52.20\n"
     ]
    }
   ],
   "source": [
    "predictions = model2.predict(X_test, batch_size)\n",
    "accuracy = np.mean(predictions == np.array(y_test)) * 100\n",
    "\n",
    "print(f'Test accuracy: {accuracy:.2f}')"
   ]
  },
  {
   "cell_type": "code",
   "execution_count": 12,
   "metadata": {},
   "outputs": [],
   "source": [
    "torch.save(model2.state_dict(), 'twitter_dash/model.pt')"
   ]
  }
 ],
 "metadata": {
  "kernelspec": {
   "display_name": "venv",
   "language": "python",
   "name": "python3"
  },
  "language_info": {
   "codemirror_mode": {
    "name": "ipython",
    "version": 3
   },
   "file_extension": ".py",
   "mimetype": "text/x-python",
   "name": "python",
   "nbconvert_exporter": "python",
   "pygments_lexer": "ipython3",
   "version": "3.10.7"
  },
  "orig_nbformat": 4
 },
 "nbformat": 4,
 "nbformat_minor": 2
}
