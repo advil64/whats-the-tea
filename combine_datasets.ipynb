{
 "cells": [
  {
   "cell_type": "code",
   "execution_count": 1,
   "metadata": {},
   "outputs": [],
   "source": [
    "from pyspark.sql.functions import coalesce"
   ]
  },
  {
   "cell_type": "code",
   "execution_count": 2,
   "metadata": {},
   "outputs": [],
   "source": [
    "ROOT = '/common/users/shared/cs543_fall22_group3'"
   ]
  },
  {
   "cell_type": "code",
   "execution_count": 3,
   "metadata": {},
   "outputs": [
    {
     "name": "stdout",
     "output_type": "stream",
     "text": [
      "+--------------------+------------------+------------+-----+---------------+--------------------+--------------------+--------------------+--------------------+--------------------+--------------+\n",
      "|             authors|            domain|publish_date|split|         status|             summary|                text|               title|                 url|            url_used|     warc_date|\n",
      "+--------------------+------------------+------------+-----+---------------+--------------------+--------------------+--------------------+--------------------+--------------------+--------------+\n",
      "|       [Dairy Queen]|      mashable.com|  09-21-2016|train|success_wayback|Pretzel sticks, p...|You never really ...|Here's what happe...|http://mashable.c...|https://web.archi...|    2016092119|\n",
      "|[Jessica Stahl, A...|washingtonpost.com|  12-09-2013|train|success_wayback|We Catholics have...|The message of th...|In Pope Francis e...|http://www.washin...|https://web.archi...|    2013121219|\n",
      "|   [Tobias Salinger]|   nydailynews.com|  07-22-2015|train|success_wayback|A woman who alleg...|Sheila Paras/Gett...|Aussie who killed...|http://www.nydail...|https://web.archi...|    2015072219|\n",
      "|        [Gary Myers]|   nydailynews.com|  10-04-2015|train|success_wayback|It’s a huge bonus...|Bill Wippert/AP R...|Myers: Jets, Gian...|http://www.nydail...|https://web.archi...|    2015100519|\n",
      "|       [Felix Allen]|      thesun.co.uk|  07-12-2016|train|success_wayback|                null|Oscar Clare's mum...|Little lad, two, ...|https://www.thesu...|https://web.archi...|    2016071219|\n",
      "|    [Louis Columbus]|        forbes.com|  01-18-2014|train|success_wayback|The five highest ...|The five highest ...|Best- And Worst-P...|http://www.forbes...|https://web.archi...|    2014011919|\n",
      "|      [Chris Powers]|   nydailynews.com|  03-30-2016|train|success_wayback|If Vegas had hand...|Score one for the...|Volvo station wag...|http://www.nydail...|https://web.archi...|    2016033019|\n",
      "|    [Chris Cillizza]|washingtonpost.com|  01-16-2014|train|success_wayback|Ed Gillespie is t...|Ed Gillespie's de...|How Senate Republ...|http://www.washin...|https://web.archi...|    2014011619|\n",
      "|  [Patrick Kingsley]|   theguardian.com|  01-03-2015|train|success_wayback|Migrants fleeing ...|The two “ghost sh...|Arab spring promp...|http://www.thegua...|https://web.archi...|    2015010319|\n",
      "|    [Andy Greenberg]|        forbes.com|  01-31-2014|train|success_wayback|Somewhere in the ...|Somewhere in the ...|Silk Road Vendor ...|http://www.forbes...|https://web.archi...|    2014013119|\n",
      "|   [Jacob Steinberg]|   theguardian.com|  08-17-2014|train|success_wayback|Minute-by-minute ...|3.00pm BST\\nWho’s...|Newcastle United ...|http://www.thegua...|https://web.archi...|    2014081719|\n",
      "|                  []|        nypost.com|  01-29-2016|train|success_wayback|                null|With Donald Trump...|GOP candidates ba...|http://nypost.com...|https://web.archi...|    2016012919|\n",
      "|                  []|       foxnews.com|  08-23-2014|train|success_wayback|Moussa Abu Marzou...|Hamas has signed ...|Hamas chief backs...|http://www.foxnew...|https://web.archi...|    2014082319|\n",
      "|     [Tricia Duryee]|      geekwire.com|  09-16-2015|train|success_wayback|Los Angeles-based...|Los Angeles-based...|HelloTech raises ...|http://www.geekwi...|https://web.archi...|20160809083330|\n",
      "|        [Owen Jarus]|       foxnews.com|  02-21-2014|train|success_wayback|A jug containing ...|The jug with trea...|Silver hoop earri...|http://www.foxnew...|https://web.archi...|    2014022119|\n",
      "|[Lauren Franklin,...|      thesun.co.uk|  12-17-2016|train|success_wayback|                null|The singer surpri...|Pregnant Cheryl g...|https://www.thesu...|https://web.archi...|    2016121719|\n",
      "|                  []|        people.com|  11-06-2016|train|success_wayback|Nicole Richie is ...|Nicole Richie is ...|Nicole Richie: My...|http://people.com...|https://web.archi...|    2016110619|\n",
      "|                  []|       foxnews.com|  01-27-2014|train|success_wayback|Colorado's Denver...|Jan. 27, 2014: Da...|Denver County Fai...|http://www.foxnew...|https://web.archi...|    2014012819|\n",
      "|[Shaun Walker, Sa...|   theguardian.com|  10-18-2013|train|success_wayback|Brition Alexandra...|Locals call Radis...|Greenpeace activi...|http://www.thegua...|https://web.archi...|    2013101819|\n",
      "|       [Tim Chester]|      mashable.com|  03-19-2015|train|success_wayback|The number of wet...|LONDON — Next tim...|The UK's beaches ...|http://mashable.c...|https://web.archi...|    2015031919|\n",
      "+--------------------+------------------+------------+-----+---------------+--------------------+--------------------+--------------------+--------------------+--------------------+--------------+\n",
      "only showing top 20 rows\n",
      "\n"
     ]
    }
   ],
   "source": [
    "realnews_df = spark.read.json(f'{ROOT}/realnews/realnews.jsonl')\n",
    "realnews_df.show()"
   ]
  },
  {
   "cell_type": "code",
   "execution_count": 4,
   "metadata": {},
   "outputs": [
    {
     "name": "stdout",
     "output_type": "stream",
     "text": [
      "+--------------------+\n",
      "|             article|\n",
      "+--------------------+\n",
      "|Pretzel sticks, p...|\n",
      "|We Catholics have...|\n",
      "|A woman who alleg...|\n",
      "|It’s a huge bonus...|\n",
      "|Little lad, two, ...|\n",
      "|The five highest ...|\n",
      "|If Vegas had hand...|\n",
      "|Ed Gillespie is t...|\n",
      "|Migrants fleeing ...|\n",
      "|Somewhere in the ...|\n",
      "|Minute-by-minute ...|\n",
      "|GOP candidates ba...|\n",
      "|Moussa Abu Marzou...|\n",
      "|Los Angeles-based...|\n",
      "|A jug containing ...|\n",
      "|Pregnant Cheryl g...|\n",
      "|Nicole Richie is ...|\n",
      "|Colorado's Denver...|\n",
      "|Brition Alexandra...|\n",
      "|The number of wet...|\n",
      "+--------------------+\n",
      "only showing top 20 rows\n",
      "\n"
     ]
    }
   ],
   "source": [
    "realnews_df = realnews_df.select(coalesce(realnews_df['summary'], realnews_df['title']).alias('article'))\n",
    "realnews_df = realnews_df.select('article').na.drop()\n",
    "realnews_df.show()"
   ]
  },
  {
   "cell_type": "code",
   "execution_count": 5,
   "metadata": {},
   "outputs": [
    {
     "name": "stdout",
     "output_type": "stream",
     "text": [
      "+---+--------------------+--------------------+--------------------+--------+--------------------+--------------------+-------------+\n",
      "| ID|               TITLE|                 URL|           PUBLISHER|CATEGORY|               STORY|            HOSTNAME|    TIMESTAMP|\n",
      "+---+--------------------+--------------------+--------------------+--------+--------------------+--------------------+-------------+\n",
      "|  1|Fed official says...|http://www.latime...|   Los Angeles Times|       b|ddUyU0VZz0BRneMio...|     www.latimes.com|1394470370698|\n",
      "|  2|Fed's Charles Plo...|http://www.livemi...|            Livemint|       b|ddUyU0VZz0BRneMio...|    www.livemint.com|1394470371207|\n",
      "|  3|US open: Stocks f...|http://www.ifamag...|        IFA Magazine|       b|ddUyU0VZz0BRneMio...| www.ifamagazine.com|1394470371550|\n",
      "|  4|Fed risks falling...|http://www.ifamag...|        IFA Magazine|       b|ddUyU0VZz0BRneMio...| www.ifamagazine.com|1394470371793|\n",
      "|  5|Fed's Plosser: Na...|http://www.moneyn...|           Moneynews|       b|ddUyU0VZz0BRneMio...|   www.moneynews.com|1394470372027|\n",
      "|  6|Plosser: Fed May ...|http://www.nasdaq...|              NASDAQ|       b|ddUyU0VZz0BRneMio...|      www.nasdaq.com|1394470372212|\n",
      "|  7|Fed's Plosser: Ta...|http://www.market...|         MarketWatch|       b|ddUyU0VZz0BRneMio...| www.marketwatch.com|1394470372405|\n",
      "|  8|Fed's Plosser exp...|http://www.fxstre...|        FXstreet.com|       b|ddUyU0VZz0BRneMio...|    www.fxstreet.com|1394470372615|\n",
      "|  9|US jobs growth la...|http://economicti...|      Economic Times|       b|ddUyU0VZz0BRneMio...|economictimes.ind...|1394470372792|\n",
      "| 10|ECB unlikely to e...|http://www.iii.co...|Interactive Investor|       b|dPhGU51DcrolUIMxb...|       www.iii.co.uk|1394470501265|\n",
      "| 11|ECB unlikely to e...|http://in.reuters...|       Reuters India|       b|dPhGU51DcrolUIMxb...|      in.reuters.com|1394470501410|\n",
      "| 12|EU's half-baked b...|http://blogs.reut...| Reuters UK \\(blog\\)|       b|dPhGU51DcrolUIMxb...|   blogs.reuters.com|1394470501587|\n",
      "| 13|Europe reaches cr...|http://in.reuters...|             Reuters|       b|dPhGU51DcrolUIMxb...|      in.reuters.com|1394470501755|\n",
      "| 14|ECB FOCUS-Stronge...|http://in.reuters...|             Reuters|       b|dPhGU51DcrolUIMxb...|      in.reuters.com|1394470501948|\n",
      "| 15|EU aims for deal ...|http://main.omano...| Oman Daily Observer|       b|dPhGU51DcrolUIMxb...|main.omanobserver.om|1394470502141|\n",
      "| 16|Forex - Pound dro...|http://www.nasdaq...|              NASDAQ|       b|dPhGU51DcrolUIMxb...|      www.nasdaq.com|1394470502316|\n",
      "| 17|Noyer Says Strong...|http://www.sfgate...|San Francisco Chr...|       b|dPhGU51DcrolUIMxb...|      www.sfgate.com|1394470502543|\n",
      "| 18|EU Week Ahead Mar...|http://blogs.wsj....|Wall Street Journ...|       b|dPhGU51DcrolUIMxb...|       blogs.wsj.com|1394470502744|\n",
      "| 19|ECB member Noyer ...|http://www.ifamag...|        IFA Magazine|       b|dPhGU51DcrolUIMxb...| www.ifamagazine.com|1394470502946|\n",
      "| 20|Euro Anxieties Wa...|http://www.busine...|        Businessweek|       b|dPhGU51DcrolUIMxb...|www.businessweek.com|1394470503148|\n",
      "+---+--------------------+--------------------+--------------------+--------+--------------------+--------------------+-------------+\n",
      "only showing top 20 rows\n",
      "\n"
     ]
    }
   ],
   "source": [
    "uci_df = spark.read.csv(f'{ROOT}/news-aggregator-dataset/uci-news-aggregator.csv', header=True)\n",
    "uci_df.show()"
   ]
  },
  {
   "cell_type": "code",
   "execution_count": 6,
   "metadata": {},
   "outputs": [
    {
     "name": "stdout",
     "output_type": "stream",
     "text": [
      "+--------------------+\n",
      "|             article|\n",
      "+--------------------+\n",
      "|Fed official says...|\n",
      "|Fed's Charles Plo...|\n",
      "|US open: Stocks f...|\n",
      "|Fed risks falling...|\n",
      "|Fed's Plosser: Na...|\n",
      "|Plosser: Fed May ...|\n",
      "|Fed's Plosser: Ta...|\n",
      "|Fed's Plosser exp...|\n",
      "|US jobs growth la...|\n",
      "|ECB unlikely to e...|\n",
      "|ECB unlikely to e...|\n",
      "|EU's half-baked b...|\n",
      "|Europe reaches cr...|\n",
      "|ECB FOCUS-Stronge...|\n",
      "|EU aims for deal ...|\n",
      "|Forex - Pound dro...|\n",
      "|Noyer Says Strong...|\n",
      "|EU Week Ahead Mar...|\n",
      "|ECB member Noyer ...|\n",
      "|Euro Anxieties Wa...|\n",
      "+--------------------+\n",
      "only showing top 20 rows\n",
      "\n"
     ]
    }
   ],
   "source": [
    "uci_df = uci_df.select('TITLE').na.drop().withColumnRenamed('TITLE', 'article')\n",
    "uci_df.show()"
   ]
  },
  {
   "cell_type": "code",
   "execution_count": 7,
   "metadata": {},
   "outputs": [
    {
     "name": "stdout",
     "output_type": "stream",
     "text": [
      "+------------+--------------------+\n",
      "|publish_date|       headline_text|\n",
      "+------------+--------------------+\n",
      "|    20030219|aba decides again...|\n",
      "|    20030219|act fire witnesse...|\n",
      "|    20030219|a g calls for inf...|\n",
      "|    20030219|air nz staff in a...|\n",
      "|    20030219|air nz strike to ...|\n",
      "|    20030219|ambitious olsson ...|\n",
      "|    20030219|antic delighted w...|\n",
      "|    20030219|aussie qualifier ...|\n",
      "|    20030219|aust addresses un...|\n",
      "|    20030219|australia is lock...|\n",
      "|    20030219|australia to cont...|\n",
      "|    20030219|barca take record...|\n",
      "|    20030219|bathhouse plans m...|\n",
      "|    20030219|big hopes for lau...|\n",
      "|    20030219|big plan to boost...|\n",
      "|    20030219|blizzard buries u...|\n",
      "|    20030219|brigadier dismiss...|\n",
      "|    20030219|british combat tr...|\n",
      "|    20030219|bryant leads lake...|\n",
      "|    20030219|bushfire victims ...|\n",
      "+------------+--------------------+\n",
      "only showing top 20 rows\n",
      "\n"
     ]
    }
   ],
   "source": [
    "abc_news_df = spark.read.csv(f'{ROOT}/a-million-news-headlines/abcnews-date-text.csv', header=True)\n",
    "abc_news_df.show()"
   ]
  },
  {
   "cell_type": "code",
   "execution_count": 8,
   "metadata": {},
   "outputs": [
    {
     "name": "stdout",
     "output_type": "stream",
     "text": [
      "+--------------------+\n",
      "|             article|\n",
      "+--------------------+\n",
      "|aba decides again...|\n",
      "|act fire witnesse...|\n",
      "|a g calls for inf...|\n",
      "|air nz staff in a...|\n",
      "|air nz strike to ...|\n",
      "|ambitious olsson ...|\n",
      "|antic delighted w...|\n",
      "|aussie qualifier ...|\n",
      "|aust addresses un...|\n",
      "|australia is lock...|\n",
      "|australia to cont...|\n",
      "|barca take record...|\n",
      "|bathhouse plans m...|\n",
      "|big hopes for lau...|\n",
      "|big plan to boost...|\n",
      "|blizzard buries u...|\n",
      "|brigadier dismiss...|\n",
      "|british combat tr...|\n",
      "|bryant leads lake...|\n",
      "|bushfire victims ...|\n",
      "+--------------------+\n",
      "only showing top 20 rows\n",
      "\n"
     ]
    }
   ],
   "source": [
    "abc_news_df = abc_news_df.select('headline_text').na.drop().withColumnRenamed('headline_text', 'article')\n",
    "abc_news_df.show()"
   ]
  },
  {
   "cell_type": "code",
   "execution_count": 9,
   "metadata": {},
   "outputs": [
    {
     "name": "stdout",
     "output_type": "stream",
     "text": [
      "+--------------------+--------------------+----------+----------------+--------------------+--------------------+--------------------+--------------------+--------------------+--------------------+\n",
      "|                date|                year|     month|             day|              author|               title|             article|                 url|             section|         publication|\n",
      "+--------------------+--------------------+----------+----------------+--------------------+--------------------+--------------------+--------------------+--------------------+--------------------+\n",
      "| 2016-12-09 18:31:00|                2016|      12.0|               9|         Lee Drutman|We should take co...|\"This post is par...|             however| several critics ...|         for example|\n",
      "| 2016-10-07 21:26:46|                2016|      10.0|               7|         Scott Davis|Colts GM Ryan Gri...| The Indianapolis...|                null|                null|                null|\n",
      "|The highest-paid ...|https://www.busin...|      null|Business Insider|                null|                null|                null|                null|                null|                null|\n",
      "| 2018-01-26 00:00:00|                2018|       1.0|              26|                null|Trump denies repo...|DAVOS, Switzerlan...|https://www.reute...|               Davos|             Reuters|\n",
      "| 2019-06-27 00:00:00|                2019|       6.0|              27|                null|France's Sarkozy ...|PARIS (Reuters) -...|https://www.reute...|          World News|             Reuters|\n",
      "| 2016-01-27 00:00:00|                2016|       1.0|              27|                null|Paris Hilton: Wom...|\"Paris Hilton arr...|https://www.tmz.c...|                null|                 TMZ|\n",
      "| 2019-06-17 00:00:00|                2019|       6.0|              17|                null|ECB's Coeure: If ...|BERLIN, June 17 (...|                null|                null|                null|\n",
      "|Editing by Tassil...|https://www.reute...|Financials|         Reuters|                null|                null|                null|                null|                null|                null|\n",
      "| 2019-06-23 00:00:00|                2019|       6.0|              23|                null|Venezuela detains...|CARACAS (Reuters)...|https://www.reute...|          World News|             Reuters|\n",
      "| 2018-05-02 17:09:00|                2018|       5.0|               2|   Caroline Williams|You Can Trick You...|\"If only every da...|\"\" DeGutis says. ...| paying attention...| it makes it easi...|\n",
      "| 2016-05-18 13:00:06|                2016|       5.0|              18|         Mark Bergen|How to watch the ...|Google I/O, the c...|https://www.vox.c...|                null|                 Vox|\n",
      "| 2017-03-02 00:00:00|                2017|       3.0|               2|            Tim Hume|China is dismissi...|China is dismissi...|https://news.vice...|                null|           Vice News|\n",
      "| 2019-05-22 20:10:00|                2019|       5.0|              22|       Emily Stewart|“Elizabeth Warren...|Elizabeth Warren ...|https://www.vox.c...|                null|                 Vox|\n",
      "| 2019-06-23 00:00:00|                2019|       6.0|              23|Jessica DiNapoli,...|Hudson's Bay's ch...|(Reuters) - The s...|https://www.reute...|       Business News|             Reuters|\n",
      "| 2018-11-05 00:00:00|                2018|      11.0|               5|                null|Joakim Noah's Vic...|Joakim Noah's ﻿mo...|https://www.tmz.c...|                null|                 TMZ|\n",
      "| 2019-05-10 00:00:00|                2019|       5.0|              10|                null|Jermaine Jackson ...|\"Jermaine Jackson...|\"\" \"\"Thriller\"\" a...| and the 2 will f...| Quincy isn't say...|\n",
      "| 2019-03-28 00:00:00|                2019|       3.0|              28|                null|UK PM May presses...|LONDON (Reuters) ...|https://www.reute...|          World News|             Reuters|\n",
      "| 2016-09-08 15:40:02|                2016|       9.0|               8|          Jeff Stein|Nancy Pelosi says...|\"Nancy Pelosi is ...|\"\" Skelley says. ...|           of course| but it begins lo...|\n",
      "| 2017-01-11 23:10:01|                2017|       1.0|              11|        Libby Nelson|The government of...|The nonpartisan d...|https://www.vox.c...|                null|                 Vox|\n",
      "| 2019-01-26 17:30:00|                2019|       1.0|              26|         Kurt Wagner|Mark Zuckerberg’s...|The threat of gov...|https://www.vox.c...|                null|                 Vox|\n",
      "+--------------------+--------------------+----------+----------------+--------------------+--------------------+--------------------+--------------------+--------------------+--------------------+\n",
      "only showing top 20 rows\n",
      "\n"
     ]
    }
   ],
   "source": [
    "all_the_news_df = spark.read.csv(f'{ROOT}/all-the-news-2/all-the-news-2-1.csv', header=True)\n",
    "all_the_news_df.show()"
   ]
  },
  {
   "cell_type": "code",
   "execution_count": 10,
   "metadata": {},
   "outputs": [
    {
     "name": "stdout",
     "output_type": "stream",
     "text": [
      "+--------------------+\n",
      "|             article|\n",
      "+--------------------+\n",
      "|We should take co...|\n",
      "|Colts GM Ryan Gri...|\n",
      "|Trump denies repo...|\n",
      "|France's Sarkozy ...|\n",
      "|Paris Hilton: Wom...|\n",
      "|ECB's Coeure: If ...|\n",
      "|Venezuela detains...|\n",
      "|You Can Trick You...|\n",
      "|How to watch the ...|\n",
      "|China is dismissi...|\n",
      "|“Elizabeth Warren...|\n",
      "|Hudson's Bay's ch...|\n",
      "|Joakim Noah's Vic...|\n",
      "|Jermaine Jackson ...|\n",
      "|UK PM May presses...|\n",
      "|Nancy Pelosi says...|\n",
      "|The government of...|\n",
      "|Mark Zuckerberg’s...|\n",
      "|Girl Scouts Are T...|\n",
      "|An Animated Maste...|\n",
      "+--------------------+\n",
      "only showing top 20 rows\n",
      "\n"
     ]
    }
   ],
   "source": [
    "all_the_news_df = all_the_news_df.select('title').na.drop().withColumnRenamed('title', 'article')\n",
    "all_the_news_df.show()"
   ]
  },
  {
   "cell_type": "code",
   "execution_count": 11,
   "metadata": {},
   "outputs": [
    {
     "name": "stdout",
     "output_type": "stream",
     "text": [
      "+------------+-----------------+--------------------+\n",
      "|publish_date|headline_category|       headline_text|\n",
      "+------------+-----------------+--------------------+\n",
      "|    20010102|          unknown|Status quo will n...|\n",
      "|    20010102|          unknown|Fissures in Hurri...|\n",
      "|    20010102|          unknown|America's unwante...|\n",
      "|    20010102|          unknown|For bigwigs; it i...|\n",
      "|    20010102|          unknown|Extra buses to cl...|\n",
      "|    20010102|          unknown|Dilute the power ...|\n",
      "|    20010102|          unknown|Focus shifts to t...|\n",
      "|    20010102|          unknown|IT will become co...|\n",
      "|    20010102|          unknown|Move to stop free...|\n",
      "|    20010102|          unknown|Gilani claims he ...|\n",
      "|    20010102|          unknown|Parivar dismisses...|\n",
      "|    20010102|          unknown|India; Pak exchan...|\n",
      "|    20010102|          unknown|Will Qureshi's re...|\n",
      "|    20010102|          unknown|PM's tacit messag...|\n",
      "|    20010102|          unknown|Text of the Prime...|\n",
      "|    20010102|          unknown|NCW to focus on v...|\n",
      "|    20010102|          unknown|BBC's reality TV ...|\n",
      "|    20010102|          unknown|Jaitley firm on l...|\n",
      "|    20010102|          unknown|Hoshangabad farme...|\n",
      "|    20010102|          unknown|BJP jumps into ra...|\n",
      "+------------+-----------------+--------------------+\n",
      "only showing top 20 rows\n",
      "\n"
     ]
    }
   ],
   "source": [
    "india_df = spark.read.csv(f'{ROOT}/india-headlines-news-dataset/india-news-headlines.csv', header=True)\n",
    "india_df.show()"
   ]
  },
  {
   "cell_type": "code",
   "execution_count": 12,
   "metadata": {},
   "outputs": [
    {
     "name": "stdout",
     "output_type": "stream",
     "text": [
      "+--------------------+\n",
      "|             article|\n",
      "+--------------------+\n",
      "|Status quo will n...|\n",
      "|Fissures in Hurri...|\n",
      "|America's unwante...|\n",
      "|For bigwigs; it i...|\n",
      "|Extra buses to cl...|\n",
      "|Dilute the power ...|\n",
      "|Focus shifts to t...|\n",
      "|IT will become co...|\n",
      "|Move to stop free...|\n",
      "|Gilani claims he ...|\n",
      "|Parivar dismisses...|\n",
      "|India; Pak exchan...|\n",
      "|Will Qureshi's re...|\n",
      "|PM's tacit messag...|\n",
      "|Text of the Prime...|\n",
      "|NCW to focus on v...|\n",
      "|BBC's reality TV ...|\n",
      "|Jaitley firm on l...|\n",
      "|Hoshangabad farme...|\n",
      "|BJP jumps into ra...|\n",
      "+--------------------+\n",
      "only showing top 20 rows\n",
      "\n"
     ]
    }
   ],
   "source": [
    "india_df = india_df.select('headline_text').na.drop().withColumnRenamed('headline_text', 'article')\n",
    "india_df.show()"
   ]
  },
  {
   "cell_type": "code",
   "execution_count": 13,
   "metadata": {},
   "outputs": [
    {
     "name": "stdout",
     "output_type": "stream",
     "text": [
      "+--------------------+\n",
      "|             article|\n",
      "+--------------------+\n",
      "|Pretzel sticks, p...|\n",
      "|We Catholics have...|\n",
      "|A woman who alleg...|\n",
      "|It’s a huge bonus...|\n",
      "|Little lad, two, ...|\n",
      "|The five highest ...|\n",
      "|If Vegas had hand...|\n",
      "|Ed Gillespie is t...|\n",
      "|Migrants fleeing ...|\n",
      "|Somewhere in the ...|\n",
      "|Minute-by-minute ...|\n",
      "|GOP candidates ba...|\n",
      "|Moussa Abu Marzou...|\n",
      "|Los Angeles-based...|\n",
      "|A jug containing ...|\n",
      "|Pregnant Cheryl g...|\n",
      "|Nicole Richie is ...|\n",
      "|Colorado's Denver...|\n",
      "|Brition Alexandra...|\n",
      "|The number of wet...|\n",
      "+--------------------+\n",
      "only showing top 20 rows\n",
      "\n"
     ]
    }
   ],
   "source": [
    "combined_df = realnews_df.unionByName(uci_df).unionByName(abc_news_df).unionByName(all_the_news_df).unionByName(india_df)\n",
    "combined_df.show()"
   ]
  },
  {
   "cell_type": "code",
   "execution_count": 14,
   "metadata": {},
   "outputs": [
    {
     "data": {
      "text/plain": [
       "40954102"
      ]
     },
     "execution_count": 14,
     "metadata": {},
     "output_type": "execute_result"
    }
   ],
   "source": [
    "combined_df.count()"
   ]
  },
  {
   "cell_type": "code",
   "execution_count": 15,
   "metadata": {},
   "outputs": [],
   "source": [
    "combined_df.write.mode('Overwrite').json(f'{ROOT}/combined/combined_raw')"
   ]
  }
 ],
 "metadata": {
  "kernelspec": {
   "display_name": "Spark 3 in Python 3",
   "language": "python",
   "name": "pyspark3"
  },
  "language_info": {
   "codemirror_mode": {
    "name": "ipython",
    "version": 3
   },
   "file_extension": ".py",
   "mimetype": "text/x-python",
   "name": "python",
   "nbconvert_exporter": "python",
   "pygments_lexer": "ipython3",
   "version": "3.9.5"
  }
 },
 "nbformat": 4,
 "nbformat_minor": 4
}
