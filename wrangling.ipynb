{
 "cells": [
  {
   "cell_type": "code",
   "execution_count": 3,
   "metadata": {},
   "outputs": [],
   "source": [
    "from pyspark.sql.functions import coalesce"
   ]
  },
  {
   "cell_type": "code",
   "execution_count": 4,
   "metadata": {},
   "outputs": [],
   "source": [
    "from pyspark.sql import SparkSession\n",
    "spark = SparkSession.builder \\\n",
    "    .master(\"local[*]\") \\\n",
    "    .appName(\"wrangling\") \\\n",
    "    .getOrCreate()"
   ]
  },
  {
   "cell_type": "code",
   "execution_count": 23,
   "metadata": {},
   "outputs": [],
   "source": [
    "realnews_df = spark.read.json(\"/common/users/ac1771/realnews/realnews.jsonl\")"
   ]
  },
  {
   "cell_type": "code",
   "execution_count": 16,
   "metadata": {},
   "outputs": [],
   "source": [
    "uci_df = spark.read.csv(\"/common/users/shared/cs543_fall22_group3/news-aggregator-dataset/uci-news-aggregator.csv\", header=True)\n",
    "abc_news_df = spark.read.csv(\"/common/users/shared/cs543_fall22_group3/a-million-news-headlines/abcnews-date-text.csv\", header=True)\n",
    "all_the_news_df = spark.read.csv(\"/common/users/shared/cs543_fall22_group3/all-the-news-2/all-the-news-2-1.csv\", header=True)\n",
    "india_df = spark.read.csv(\"/common/users/shared/cs543_fall22_group3/india-headlines-news-dataset/india-news-headlines.csv\", header=True)"
   ]
  },
  {
   "cell_type": "code",
   "execution_count": 18,
   "metadata": {},
   "outputs": [
    {
     "name": "stdout",
     "output_type": "stream",
     "text": [
      "41974093\n"
     ]
    }
   ],
   "source": [
    "print(realnews_df.count() + uci_df.count() + abc_news_df.count() + all_the_news_df.count() + india_df.count())"
   ]
  },
  {
   "cell_type": "code",
   "execution_count": 24,
   "metadata": {},
   "outputs": [],
   "source": [
    "realnews_df = realnews_df.select(\"*\", coalesce(realnews_df[\"summary\"], realnews_df[\"title\"]).alias(\"selected_text\"))\n",
    "realnews_df = realnews_df.drop(\"split\", \"status\", \"text\", \"url\", \"url_used\", \"warc_date\", \"authors\", \"domain\", \"summary\", \"title\")"
   ]
  },
  {
   "cell_type": "code",
   "execution_count": 33,
   "metadata": {},
   "outputs": [],
   "source": [
    "uci_df = uci_df.select(\"TIMESTAMP\", \"TITLE\").withColumnRenamed(\"TIMESTAMP\",\"publish_date\").withColumnRenamed(\"TITLE\", \"selected_text\")\n",
    "abc_news_df = abc_news_df.withColumnRenamed(\"headline_text\", \"selected_text\")\n",
    "india_df = india_df.drop(\"headline_category\").withColumnRenamed(\"headline_text\", \"selected_text\")\n",
    "all_the_news_df = all_the_news_df.select(\"date\", \"title\").withColumnRenamed(\"date\", \"publish_date\").withColumnRenamed(\"title\", \"selected_text\")"
   ]
  },
  {
   "cell_type": "code",
   "execution_count": 34,
   "metadata": {},
   "outputs": [],
   "source": [
    "combined_df = realnews_df.unionByName(uci_df).unionByName(abc_news_df).unionByName(india_df).unionByName(all_the_news_df)"
   ]
  },
  {
   "cell_type": "code",
   "execution_count": 36,
   "metadata": {},
   "outputs": [
    {
     "data": {
      "text/plain": [
       "41974093"
      ]
     },
     "execution_count": 36,
     "metadata": {},
     "output_type": "execute_result"
    }
   ],
   "source": [
    "combined_df.count()"
   ]
  },
  {
   "cell_type": "code",
   "execution_count": 37,
   "metadata": {},
   "outputs": [],
   "source": [
    "combined_df.write.mode(\"Overwrite\").json('/common/users/shared/cs543_fall22_group3/combined/combined_raw')"
   ]
  }
 ],
 "metadata": {
  "kernelspec": {
   "display_name": "Spark 3 in Python 3",
   "language": "python",
   "name": "pyspark3"
  },
  "language_info": {
   "codemirror_mode": {
    "name": "ipython",
    "version": 3
   },
   "file_extension": ".py",
   "mimetype": "text/x-python",
   "name": "python",
   "nbconvert_exporter": "python",
   "pygments_lexer": "ipython3",
   "version": "3.9.5"
  }
 },
 "nbformat": 4,
 "nbformat_minor": 4
}
