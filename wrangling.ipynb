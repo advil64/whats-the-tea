{
 "cells": [
  {
   "cell_type": "code",
   "execution_count": 1,
   "metadata": {},
   "outputs": [],
   "source": [
    "from pyspark.sql import SparkSession\n",
    "spark = SparkSession.builder \\\n",
    "    .master(\"local[*]\") \\\n",
    "    .appName(\"wrangling\") \\\n",
    "    .getOrCreate()"
   ]
  },
  {
   "cell_type": "code",
   "execution_count": 2,
   "metadata": {},
   "outputs": [],
   "source": [
    "df = spark.read.json(\"/common/users/ac1771/realnews/realnews.jsonl\")"
   ]
  },
  {
   "cell_type": "code",
   "execution_count": 3,
   "metadata": {},
   "outputs": [
    {
     "name": "stdout",
     "output_type": "stream",
     "text": [
      "+--------------------+------------------+------------+-----+---------------+--------------------+--------------------+--------------------+--------------------+--------------------+--------------+\n",
      "|             authors|            domain|publish_date|split|         status|             summary|                text|               title|                 url|            url_used|     warc_date|\n",
      "+--------------------+------------------+------------+-----+---------------+--------------------+--------------------+--------------------+--------------------+--------------------+--------------+\n",
      "|       [Dairy Queen]|      mashable.com|  09-21-2016|train|success_wayback|Pretzel sticks, p...|You never really ...|Here's what happe...|http://mashable.c...|https://web.archi...|    2016092119|\n",
      "|[Jessica Stahl, A...|washingtonpost.com|  12-09-2013|train|success_wayback|We Catholics have...|The message of th...|In Pope Francis e...|http://www.washin...|https://web.archi...|    2013121219|\n",
      "|   [Tobias Salinger]|   nydailynews.com|  07-22-2015|train|success_wayback|A woman who alleg...|Sheila Paras/Gett...|Aussie who killed...|http://www.nydail...|https://web.archi...|    2015072219|\n",
      "|        [Gary Myers]|   nydailynews.com|  10-04-2015|train|success_wayback|It’s a huge bonus...|Bill Wippert/AP R...|Myers: Jets, Gian...|http://www.nydail...|https://web.archi...|    2015100519|\n",
      "|       [Felix Allen]|      thesun.co.uk|  07-12-2016|train|success_wayback|                null|Oscar Clare's mum...|Little lad, two, ...|https://www.thesu...|https://web.archi...|    2016071219|\n",
      "|    [Louis Columbus]|        forbes.com|  01-18-2014|train|success_wayback|The five highest ...|The five highest ...|Best- And Worst-P...|http://www.forbes...|https://web.archi...|    2014011919|\n",
      "|      [Chris Powers]|   nydailynews.com|  03-30-2016|train|success_wayback|If Vegas had hand...|Score one for the...|Volvo station wag...|http://www.nydail...|https://web.archi...|    2016033019|\n",
      "|    [Chris Cillizza]|washingtonpost.com|  01-16-2014|train|success_wayback|Ed Gillespie is t...|Ed Gillespie's de...|How Senate Republ...|http://www.washin...|https://web.archi...|    2014011619|\n",
      "|  [Patrick Kingsley]|   theguardian.com|  01-03-2015|train|success_wayback|Migrants fleeing ...|The two “ghost sh...|Arab spring promp...|http://www.thegua...|https://web.archi...|    2015010319|\n",
      "|    [Andy Greenberg]|        forbes.com|  01-31-2014|train|success_wayback|Somewhere in the ...|Somewhere in the ...|Silk Road Vendor ...|http://www.forbes...|https://web.archi...|    2014013119|\n",
      "|   [Jacob Steinberg]|   theguardian.com|  08-17-2014|train|success_wayback|Minute-by-minute ...|3.00pm BST\\nWho’s...|Newcastle United ...|http://www.thegua...|https://web.archi...|    2014081719|\n",
      "|                  []|        nypost.com|  01-29-2016|train|success_wayback|                null|With Donald Trump...|GOP candidates ba...|http://nypost.com...|https://web.archi...|    2016012919|\n",
      "|                  []|       foxnews.com|  08-23-2014|train|success_wayback|Moussa Abu Marzou...|Hamas has signed ...|Hamas chief backs...|http://www.foxnew...|https://web.archi...|    2014082319|\n",
      "|     [Tricia Duryee]|      geekwire.com|  09-16-2015|train|success_wayback|Los Angeles-based...|Los Angeles-based...|HelloTech raises ...|http://www.geekwi...|https://web.archi...|20160809083330|\n",
      "|        [Owen Jarus]|       foxnews.com|  02-21-2014|train|success_wayback|A jug containing ...|The jug with trea...|Silver hoop earri...|http://www.foxnew...|https://web.archi...|    2014022119|\n",
      "|[Lauren Franklin,...|      thesun.co.uk|  12-17-2016|train|success_wayback|                null|The singer surpri...|Pregnant Cheryl g...|https://www.thesu...|https://web.archi...|    2016121719|\n",
      "|                  []|        people.com|  11-06-2016|train|success_wayback|Nicole Richie is ...|Nicole Richie is ...|Nicole Richie: My...|http://people.com...|https://web.archi...|    2016110619|\n",
      "|                  []|       foxnews.com|  01-27-2014|train|success_wayback|Colorado's Denver...|Jan. 27, 2014: Da...|Denver County Fai...|http://www.foxnew...|https://web.archi...|    2014012819|\n",
      "|[Shaun Walker, Sa...|   theguardian.com|  10-18-2013|train|success_wayback|Brition Alexandra...|Locals call Radis...|Greenpeace activi...|http://www.thegua...|https://web.archi...|    2013101819|\n",
      "|       [Tim Chester]|      mashable.com|  03-19-2015|train|success_wayback|The number of wet...|LONDON — Next tim...|The UK's beaches ...|http://mashable.c...|https://web.archi...|    2015031919|\n",
      "+--------------------+------------------+------------+-----+---------------+--------------------+--------------------+--------------------+--------------------+--------------------+--------------+\n",
      "only showing top 20 rows\n",
      "\n"
     ]
    }
   ],
   "source": [
    "df.show()"
   ]
  },
  {
   "cell_type": "code",
   "execution_count": 10,
   "metadata": {},
   "outputs": [
    {
     "name": "stdout",
     "output_type": "stream",
     "text": [
      "+--------------------+------------------+------------+--------------------+--------------------+\n",
      "|             authors|            domain|publish_date|             summary|               title|\n",
      "+--------------------+------------------+------------+--------------------+--------------------+\n",
      "|       [Dairy Queen]|      mashable.com|  09-21-2016|Pretzel sticks, p...|Here's what happe...|\n",
      "|[Jessica Stahl, A...|washingtonpost.com|  12-09-2013|We Catholics have...|In Pope Francis e...|\n",
      "|   [Tobias Salinger]|   nydailynews.com|  07-22-2015|A woman who alleg...|Aussie who killed...|\n",
      "|        [Gary Myers]|   nydailynews.com|  10-04-2015|It’s a huge bonus...|Myers: Jets, Gian...|\n",
      "|    [Louis Columbus]|        forbes.com|  01-18-2014|The five highest ...|Best- And Worst-P...|\n",
      "|      [Chris Powers]|   nydailynews.com|  03-30-2016|If Vegas had hand...|Volvo station wag...|\n",
      "|    [Chris Cillizza]|washingtonpost.com|  01-16-2014|Ed Gillespie is t...|How Senate Republ...|\n",
      "|  [Patrick Kingsley]|   theguardian.com|  01-03-2015|Migrants fleeing ...|Arab spring promp...|\n",
      "|    [Andy Greenberg]|        forbes.com|  01-31-2014|Somewhere in the ...|Silk Road Vendor ...|\n",
      "|   [Jacob Steinberg]|   theguardian.com|  08-17-2014|Minute-by-minute ...|Newcastle United ...|\n",
      "|                  []|       foxnews.com|  08-23-2014|Moussa Abu Marzou...|Hamas chief backs...|\n",
      "|     [Tricia Duryee]|      geekwire.com|  09-16-2015|Los Angeles-based...|HelloTech raises ...|\n",
      "|        [Owen Jarus]|       foxnews.com|  02-21-2014|A jug containing ...|Silver hoop earri...|\n",
      "|                  []|        people.com|  11-06-2016|Nicole Richie is ...|Nicole Richie: My...|\n",
      "|                  []|       foxnews.com|  01-27-2014|Colorado's Denver...|Denver County Fai...|\n",
      "|[Shaun Walker, Sa...|   theguardian.com|  10-18-2013|Brition Alexandra...|Greenpeace activi...|\n",
      "|       [Tim Chester]|      mashable.com|  03-19-2015|The number of wet...|The UK's beaches ...|\n",
      "|        [Peter High]|        forbes.com|  10-14-2013|Gartner just conc...|Gartner: Top 10 S...|\n",
      "| [Kathy Ehrich Dowd]|        people.com|  12-26-2016|Approximately 54,...|54,000 Germans Ev...|\n",
      "|     [Todd Spangler]|       foxnews.com|  10-27-2015|Yahoo has flunked...|Why Yahoo’s foray...|\n",
      "+--------------------+------------------+------------+--------------------+--------------------+\n",
      "only showing top 20 rows\n",
      "\n"
     ]
    }
   ],
   "source": [
    "df = df.drop(\"split\", \"status\", \"text\", \"url\", \"url_used\", \"warc_date\")\n",
    "df = df.na.drop(subset=[\"summary\"])"
   ]
  },
  {
   "cell_type": "code",
   "execution_count": 14,
   "metadata": {},
   "outputs": [
    {
     "name": "stdout",
     "output_type": "stream",
     "text": [
      "root\n",
      " |-- authors: array (nullable = true)\n",
      " |    |-- element: string (containsNull = true)\n",
      " |-- domain: string (nullable = true)\n",
      " |-- publish_date: string (nullable = true)\n",
      " |-- summary: string (nullable = true)\n",
      " |-- title: string (nullable = true)\n",
      "\n"
     ]
    }
   ],
   "source": [
    "df.printSchema()"
   ]
  },
  {
   "cell_type": "code",
   "execution_count": 17,
   "metadata": {},
   "outputs": [],
   "source": [
    "df.write.mode(\"Overwrite\").json('/common/users/shared/cs543_fall22_group3/realnews/realnews_truncated')"
   ]
  }
 ],
 "metadata": {
  "kernelspec": {
   "display_name": "Spark 3 in Python 3",
   "language": "python",
   "name": "pyspark3"
  },
  "language_info": {
   "codemirror_mode": {
    "name": "ipython",
    "version": 3
   },
   "file_extension": ".py",
   "mimetype": "text/x-python",
   "name": "python",
   "nbconvert_exporter": "python",
   "pygments_lexer": "ipython3",
   "version": "3.9.5"
  }
 },
 "nbformat": 4,
 "nbformat_minor": 4
}
