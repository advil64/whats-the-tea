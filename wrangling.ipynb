{
 "cells": [
  {
   "cell_type": "code",
   "execution_count": 1,
   "metadata": {},
   "outputs": [],
   "source": [
    "from pyspark.sql import SparkSession\n",
    "spark = SparkSession.builder \\\n",
    "    .master(\"local[*]\") \\\n",
    "    .appName(\"wrangling\") \\\n",
    "    .getOrCreate()"
   ]
  },
  {
   "cell_type": "code",
   "execution_count": 9,
   "metadata": {},
   "outputs": [],
   "source": [
    "df = spark.read.json(\"/common/users/ac1771/realnews/realnews.jsonl\")"
   ]
  },
  {
   "cell_type": "code",
   "execution_count": 3,
   "metadata": {},
   "outputs": [
    {
     "name": "stdout",
     "output_type": "stream",
     "text": [
      "+--------------------+------------------+------------+-----+---------------+--------------------+--------------------+--------------------+--------------------+--------------------+--------------+\n",
      "|             authors|            domain|publish_date|split|         status|             summary|                text|               title|                 url|            url_used|     warc_date|\n",
      "+--------------------+------------------+------------+-----+---------------+--------------------+--------------------+--------------------+--------------------+--------------------+--------------+\n",
      "|       [Dairy Queen]|      mashable.com|  09-21-2016|train|success_wayback|Pretzel sticks, p...|You never really ...|Here's what happe...|http://mashable.c...|https://web.archi...|    2016092119|\n",
      "|[Jessica Stahl, A...|washingtonpost.com|  12-09-2013|train|success_wayback|We Catholics have...|The message of th...|In Pope Francis e...|http://www.washin...|https://web.archi...|    2013121219|\n",
      "|   [Tobias Salinger]|   nydailynews.com|  07-22-2015|train|success_wayback|A woman who alleg...|Sheila Paras/Gett...|Aussie who killed...|http://www.nydail...|https://web.archi...|    2015072219|\n",
      "|        [Gary Myers]|   nydailynews.com|  10-04-2015|train|success_wayback|It’s a huge bonus...|Bill Wippert/AP R...|Myers: Jets, Gian...|http://www.nydail...|https://web.archi...|    2015100519|\n",
      "|       [Felix Allen]|      thesun.co.uk|  07-12-2016|train|success_wayback|                null|Oscar Clare's mum...|Little lad, two, ...|https://www.thesu...|https://web.archi...|    2016071219|\n",
      "|    [Louis Columbus]|        forbes.com|  01-18-2014|train|success_wayback|The five highest ...|The five highest ...|Best- And Worst-P...|http://www.forbes...|https://web.archi...|    2014011919|\n",
      "|      [Chris Powers]|   nydailynews.com|  03-30-2016|train|success_wayback|If Vegas had hand...|Score one for the...|Volvo station wag...|http://www.nydail...|https://web.archi...|    2016033019|\n",
      "|    [Chris Cillizza]|washingtonpost.com|  01-16-2014|train|success_wayback|Ed Gillespie is t...|Ed Gillespie's de...|How Senate Republ...|http://www.washin...|https://web.archi...|    2014011619|\n",
      "|  [Patrick Kingsley]|   theguardian.com|  01-03-2015|train|success_wayback|Migrants fleeing ...|The two “ghost sh...|Arab spring promp...|http://www.thegua...|https://web.archi...|    2015010319|\n",
      "|    [Andy Greenberg]|        forbes.com|  01-31-2014|train|success_wayback|Somewhere in the ...|Somewhere in the ...|Silk Road Vendor ...|http://www.forbes...|https://web.archi...|    2014013119|\n",
      "|   [Jacob Steinberg]|   theguardian.com|  08-17-2014|train|success_wayback|Minute-by-minute ...|3.00pm BST\\nWho’s...|Newcastle United ...|http://www.thegua...|https://web.archi...|    2014081719|\n",
      "|                  []|        nypost.com|  01-29-2016|train|success_wayback|                null|With Donald Trump...|GOP candidates ba...|http://nypost.com...|https://web.archi...|    2016012919|\n",
      "|                  []|       foxnews.com|  08-23-2014|train|success_wayback|Moussa Abu Marzou...|Hamas has signed ...|Hamas chief backs...|http://www.foxnew...|https://web.archi...|    2014082319|\n",
      "|     [Tricia Duryee]|      geekwire.com|  09-16-2015|train|success_wayback|Los Angeles-based...|Los Angeles-based...|HelloTech raises ...|http://www.geekwi...|https://web.archi...|20160809083330|\n",
      "|        [Owen Jarus]|       foxnews.com|  02-21-2014|train|success_wayback|A jug containing ...|The jug with trea...|Silver hoop earri...|http://www.foxnew...|https://web.archi...|    2014022119|\n",
      "|[Lauren Franklin,...|      thesun.co.uk|  12-17-2016|train|success_wayback|                null|The singer surpri...|Pregnant Cheryl g...|https://www.thesu...|https://web.archi...|    2016121719|\n",
      "|                  []|        people.com|  11-06-2016|train|success_wayback|Nicole Richie is ...|Nicole Richie is ...|Nicole Richie: My...|http://people.com...|https://web.archi...|    2016110619|\n",
      "|                  []|       foxnews.com|  01-27-2014|train|success_wayback|Colorado's Denver...|Jan. 27, 2014: Da...|Denver County Fai...|http://www.foxnew...|https://web.archi...|    2014012819|\n",
      "|[Shaun Walker, Sa...|   theguardian.com|  10-18-2013|train|success_wayback|Brition Alexandra...|Locals call Radis...|Greenpeace activi...|http://www.thegua...|https://web.archi...|    2013101819|\n",
      "|       [Tim Chester]|      mashable.com|  03-19-2015|train|success_wayback|The number of wet...|LONDON — Next tim...|The UK's beaches ...|http://mashable.c...|https://web.archi...|    2015031919|\n",
      "+--------------------+------------------+------------+-----+---------------+--------------------+--------------------+--------------------+--------------------+--------------------+--------------+\n",
      "only showing top 20 rows\n",
      "\n"
     ]
    }
   ],
   "source": [
    "df.show()"
   ]
  },
  {
   "cell_type": "code",
   "execution_count": 3,
   "metadata": {},
   "outputs": [],
   "source": [
    "# df = df.drop(\"split\", \"status\", \"text\", \"url\", \"url_used\", \"warc_date\")\n",
    "# df = df.na.drop(subset=[\"summary\"])"
   ]
  },
  {
   "cell_type": "code",
   "execution_count": 4,
   "metadata": {},
   "outputs": [
    {
     "name": "stdout",
     "output_type": "stream",
     "text": [
      "root\n",
      " |-- authors: array (nullable = true)\n",
      " |    |-- element: string (containsNull = true)\n",
      " |-- domain: string (nullable = true)\n",
      " |-- publish_date: string (nullable = true)\n",
      " |-- summary: string (nullable = true)\n",
      " |-- title: string (nullable = true)\n",
      "\n"
     ]
    }
   ],
   "source": [
    "df.printSchema()"
   ]
  },
  {
   "cell_type": "code",
   "execution_count": 17,
   "metadata": {},
   "outputs": [],
   "source": [
    "df.write.mode(\"Overwrite\").json('/common/users/shared/cs543_fall22_group3/realnews/realnews_truncated')"
   ]
  },
  {
   "cell_type": "code",
   "execution_count": 5,
   "metadata": {},
   "outputs": [
    {
     "name": "stdout",
     "output_type": "stream",
     "text": [
      "+--------------------+-------------------+------------+--------------------+--------------------+\n",
      "|             authors|             domain|publish_date|             summary|               title|\n",
      "+--------------------+-------------------+------------+--------------------+--------------------+\n",
      "| [Reuters Editorial]|        reuters.com|  04-11-2013|U.S. investment b...|DEALTALK-Banks fi...|\n",
      "|[Reuters Editoria...|        reuters.com|  04-11-2011|Mexican coffee pr...|Mexico coffee far...|\n",
      "| [Reuters Editorial]|        reuters.com|  03-27-2013|Oil companies are...|Oil industry to s...|\n",
      "|                  []|     sportsgrid.com|  07-23-2014|Adam Dunn … you a...|Fantasy Baseball:...|\n",
      "|                  []|    staugustine.com|  01-01-2014|» County’s annual...|Teacher of the ye...|\n",
      "|          [Sam Colt]|businessinsider.com|  06-20-2014|Dropcam will prob...|Google's Nest Is ...|\n",
      "|     [Robert Ferris]|businessinsider.com|  02-28-2013|Wild Insects need...|Insects Are Disap...|\n",
      "|[Fiona Macrae Sci...|    dailymail.co.uk|  12-17-2015|British scientist...|Allantoin in many...|\n",
      "|[Mail Today Repor...|    dailymail.co.uk|  05-23-2014|The Big Bang Theo...|BLOGS OF THE DAY:...|\n",
      "|[Daily Mail Repor...|    dailymail.co.uk|  12-22-2010|A nurse made the ...|An ear-ie discove...|\n",
      "|[Stephanie Linnin...|    dailymail.co.uk|  10-20-2014|Mother-of-three D...|Grandmother with ...|\n",
      "|[Anthony Joseph F...|    dailymail.co.uk|  09-08-2015|The Scots were ki...|14 men thrown off...|\n",
      "|[Daniel Peters Fo...|    dailymail.co.uk|  11-01-2015|He may not be com...|Australian rugby'...|\n",
      "|[Leith Huffadine,...|    dailymail.co.uk|  07-12-2016|The wreckage of t...|Photos show wreck...|\n",
      "|       [Pa Reporter]|    dailymail.co.uk|  10-24-2015|Inter Milan were ...|Palermo 1-1 Inter...|\n",
      "|[Press Associatio...|    dailymail.co.uk|  11-13-2016|18-year-old Aditi...|Aditi Ashok claim...|\n",
      "|[Ben Nagle For Ma...|    dailymail.co.uk|  05-16-2016|Tiger Woods grima...|Tiger Woods endur...|\n",
      "|[Daily Mail Repor...|    dailymail.co.uk|  10-14-2010|Danny Cipriani to...|Morning after the...|\n",
      "| [Press Association]|    dailymail.co.uk|  05-12-2017|Both sides edged ...|Manchester United...|\n",
      "|                  []|      heraldnet.com|  04-19-2014|DENVER — A colleg...|Deaths stoke worr...|\n",
      "+--------------------+-------------------+------------+--------------------+--------------------+\n",
      "only showing top 20 rows\n",
      "\n"
     ]
    }
   ],
   "source": [
    "# see if we can read the truncated file\n",
    "df_truncated = spark.read.json('/common/users/shared/cs543_fall22_group3/realnews/realnews_truncated')\n",
    "df_truncated.show()"
   ]
  },
  {
   "cell_type": "code",
   "execution_count": 7,
   "metadata": {},
   "outputs": [
    {
     "name": "stdout",
     "output_type": "stream",
     "text": [
      "23108661\n"
     ]
    }
   ],
   "source": [
    "print(df_truncated.count())"
   ]
  },
  {
   "cell_type": "code",
   "execution_count": 10,
   "metadata": {},
   "outputs": [
    {
     "name": "stdout",
     "output_type": "stream",
     "text": [
      "32797763\n"
     ]
    }
   ],
   "source": [
    "# we need to add some more articles to this dataframe\n",
    "print(df.count())"
   ]
  }
 ],
 "metadata": {
  "kernelspec": {
   "display_name": "Spark 3 in Python 3",
   "language": "python",
   "name": "pyspark3"
  },
  "language_info": {
   "codemirror_mode": {
    "name": "ipython",
    "version": 3
   },
   "file_extension": ".py",
   "mimetype": "text/x-python",
   "name": "python",
   "nbconvert_exporter": "python",
   "pygments_lexer": "ipython3",
   "version": "3.9.5"
  }
 },
 "nbformat": 4,
 "nbformat_minor": 4
}
