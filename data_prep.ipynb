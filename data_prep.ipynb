{
 "cells": [
  {
   "cell_type": "code",
   "execution_count": 1,
   "id": "905904d7-94d2-4222-bfa3-23bebb67909a",
   "metadata": {},
   "outputs": [
    {
     "name": "stderr",
     "output_type": "stream",
     "text": [
      "[nltk_data] Downloading package wordnet to\n",
      "[nltk_data]     /common/home/ac1771/nltk_data...\n",
      "[nltk_data]   Package wordnet is already up-to-date!\n",
      "[nltk_data] Downloading package omw-1.4 to\n",
      "[nltk_data]     /common/home/ac1771/nltk_data...\n",
      "[nltk_data]   Package omw-1.4 is already up-to-date!\n"
     ]
    },
    {
     "data": {
      "text/plain": [
       "True"
      ]
     },
     "execution_count": 1,
     "metadata": {},
     "output_type": "execute_result"
    }
   ],
   "source": [
    "import gensim\n",
    "import string\n",
    "import nltk\n",
    "import sparknlp\n",
    "import numpy as np\n",
    "\n",
    "from pyspark.ml.feature import HashingTF, IDF, Tokenizer\n",
    "from pyspark.ml import Pipeline\n",
    "from pyspark.sql import functions as F\n",
    "from gensim.parsing.preprocessing import STOPWORDS\n",
    "from nltk.stem import WordNetLemmatizer, SnowballStemmer\n",
    "from nltk.stem.porter import *\n",
    "from nltk.tokenize import word_tokenize\n",
    "\n",
    "nltk.download('wordnet')\n",
    "nltk.download('omw-1.4')"
   ]
  },
  {
   "cell_type": "code",
   "execution_count": 2,
   "id": "dec2c1d3-3754-4512-97a4-5fcf16bcd704",
   "metadata": {},
   "outputs": [],
   "source": [
    "df_raw = spark.read.json('/common/users/shared/cs543_fall22_group3/combined/combined_raw')"
   ]
  },
  {
   "cell_type": "code",
   "execution_count": 3,
   "id": "d788129b-3ea9-499f-91ca-d13c125b2528",
   "metadata": {},
   "outputs": [],
   "source": [
    "df_raw = df_raw.na.drop(subset=[\"selected_text\"]).drop(\"publish_date\")"
   ]
  },
  {
   "cell_type": "code",
   "execution_count": 4,
   "id": "83673d88-bb81-40db-a00e-aea329a2b9d6",
   "metadata": {},
   "outputs": [],
   "source": [
    "def lemmatize_stemming(text):\n",
    "    return WordNetLemmatizer().lemmatize(text, pos='v')\n",
    "\n",
    "# Remove punctuation, stop words, and lower case the letters\n",
    "def remove_stopwords(line):\n",
    "    tokens = word_tokenize(line)\n",
    "    remove_stopwords = [lemmatize_stemming(t.lower()) for t in tokens if not t in STOPWORDS and not t in string.punctuation and len(t) > 2]\n",
    "    return \",\".join(remove_stopwords)\n",
    "\n",
    "remove_stopwords_udf = F.udf(lambda z: remove_stopwords(z))\n",
    "processed_df = df_raw.withColumn(\"cleaned_text\", remove_stopwords_udf(F.col(\"selected_text\")))"
   ]
  },
  {
   "cell_type": "code",
   "execution_count": 5,
   "id": "d8f99d33-ed5a-4585-b332-981985de58ee",
   "metadata": {},
   "outputs": [
    {
     "name": "stdout",
     "output_type": "stream",
     "text": [
      "root\n",
      " |-- selected_text: string (nullable = true)\n",
      " |-- cleaned_text: string (nullable = true)\n",
      "\n"
     ]
    }
   ],
   "source": [
    "processed_df.printSchema()"
   ]
  },
  {
   "cell_type": "code",
   "execution_count": 6,
   "id": "72f9886e-6a4d-4f42-872b-d5e43f7b764b",
   "metadata": {},
   "outputs": [],
   "source": [
    "processed_df.write.mode(\"Overwrite\").json('/common/users/shared/cs543_fall22_group3/combined/combined_processed')"
   ]
  },
  {
   "cell_type": "code",
   "execution_count": 2,
   "id": "15b81f40-729b-4c0b-9379-c69f741b1bca",
   "metadata": {},
   "outputs": [
    {
     "data": {
      "text/plain": [
       "[Row(cleaned_text=['contract', 'archaeology', 'deep', 'slump'], selected_text='UK Contract Archaeology in Deep Slump'),\n",
       " Row(cleaned_text=['moscow', 'probably', 'interruptions', 'latvia', 'mobile', 'communications', 'network', 'russia', 'war', 'game', 'month', 'apparent', 'test', 'cyber', 'attack', 'tool', 'baltic', 'nato', 'officials', 'say', 'base', 'early', 'intelligence', 'drill'], selected_text=\"Moscow was probably behind interruptions in Latvia's mobile communications network before Russia's war games last month, in an apparent test of its cyber attack tools, Baltic and NATO officials said, based on early intelligence of the drills.\"),\n",
       " Row(cleaned_text=['energy', 'network', 'infrastructure', 'investment', 'prison', 'plan', 'sell', 'townsville', 'port', 'new', 'announcements', 'north', 'queensland', '2014', '2015', 'state', 'budget'], selected_text='Energy network infrastructure, investment in the prison and plans to sell the Townsville Port were new announcements for north Queensland in the 2014 - 2015 state budget.'),\n",
       " Row(cleaned_text=['football', 'federation', 'australia', 'say', 'rush', 'decision', 'future', 'trouble', 'a-league', 'club', 'gold', 'coast', 'unite', 'wake', 'owner', 'clive', 'palmer', 'extraordinary', 'outburst'], selected_text=\"Football Federation Australia says it will not rush any decision over the future of troubled A-League club Gold Coast United in the wake of owner Clive Palmer's extraordinary outburst.\"),\n",
       " Row(cleaned_text=['vassar', 'school', 'join', 'mid-michigan', 'district', 'recent', 'closure', 'illness', 'include', 'ashley', 'school', 'gratiot', 'county', 'close', 'doors', 'feb.', '16-17', 'student', 'staff', 'illness'], selected_text='Vassar schools joins several other mid-Michigan districts in recent closures due to illness, including Ashley schools in Gratiot County that closed its doors Feb. 16-17 due to student and staff illness.'),\n",
       " Row(cleaned_text=['saddleback', 'valley', 'pop', 'warner', 'team', 'win', 'orange', 'bowl', 'title'], selected_text='Saddleback Valley Pop Warner team wins Orange Bowl title'),\n",
       " Row(cleaned_text=['israel', 'police', 'kill', 'tel', 'aviv', 'shoot', 'near', 'open-air', 'market'], selected_text='Israel police say 3 killed in Tel Aviv shooting near open-air market'),\n",
       " Row(cleaned_text=['dec', 'fitch', 'rat', 'affirm', \"'ccc\", 'rat', 'followingpontiac', 'tax', 'increment', 'finance', 'authority', 'michigan', 'tifa', 'bond', '2.3', 'millio'], selected_text=\"Dec 21 - Fitch Ratings has affirmed the 'CCC' rating for the followingPontiac Tax Increment Finance Authority, Michigan (TIFA) bonds:--$2.3 millio\"),\n",
       " Row(cleaned_text=['aref', 'mohammedbasra', 'iraq', 'reuters', '-iraqi', 'security', 'force', 'water', 'cannon', 'batons', 'disperse', 'protesters', 'southern', 'oil', 'hub', 'basra'], selected_text='By Aref MohammedBASRA, Iraq (Reuters) -Iraqi security forces used water cannon and batons to disperse protesters in the southern oil hub of Basra on'),\n",
       " Row(cleaned_text=['the', 'price', 'bread', 'year', 'grain', 'price', 'rise', 'say', 'australia', 'biggest', 'baker', 'goodman', 'fielder'], selected_text=\"THE price of bread will have to go up this year as grain prices rise, says Australia's biggest baker, Goodman Fielder.\")]"
      ]
     },
     "execution_count": 2,
     "metadata": {},
     "output_type": "execute_result"
    }
   ],
   "source": [
    "processed_df = spark.read.json('/common/users/shared/cs543_fall22_group3/combined/combined_processed')\n",
    "processed_df.tail(10)"
   ]
  }
 ],
 "metadata": {
  "kernelspec": {
   "display_name": "Spark 3 in Python 3",
   "language": "python",
   "name": "pyspark3"
  },
  "language_info": {
   "codemirror_mode": {
    "name": "ipython",
    "version": 3
   },
   "file_extension": ".py",
   "mimetype": "text/x-python",
   "name": "python",
   "nbconvert_exporter": "python",
   "pygments_lexer": "ipython3",
   "version": "3.9.5"
  }
 },
 "nbformat": 4,
 "nbformat_minor": 5
}
