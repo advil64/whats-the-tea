{
 "cells": [
  {
   "cell_type": "code",
   "execution_count": 38,
   "id": "905904d7-94d2-4222-bfa3-23bebb67909a",
   "metadata": {},
   "outputs": [],
   "source": [
    "import gensim\n",
    "import string\n",
    "import nltk\n",
    "\n",
    "from pyspark.sql.functions import col,lit, udf\n",
    "from gensim.parsing.preprocessing import STOPWORDS\n",
    "from nltk.stem import WordNetLemmatizer, SnowballStemmer\n",
    "from nltk.stem.porter import *\n",
    "from nltk.tokenize import word_tokenize"
   ]
  },
  {
   "cell_type": "code",
   "execution_count": 17,
   "id": "dec2c1d3-3754-4512-97a4-5fcf16bcd704",
   "metadata": {},
   "outputs": [
    {
     "name": "stdout",
     "output_type": "stream",
     "text": [
      "+--------------------+-------------------+------------+--------------------+--------------------+\n",
      "|             authors|             domain|publish_date|             summary|               title|\n",
      "+--------------------+-------------------+------------+--------------------+--------------------+\n",
      "| [Reuters Editorial]|        reuters.com|  04-11-2013|U.S. investment b...|DEALTALK-Banks fi...|\n",
      "|[Reuters Editoria...|        reuters.com|  04-11-2011|Mexican coffee pr...|Mexico coffee far...|\n",
      "| [Reuters Editorial]|        reuters.com|  03-27-2013|Oil companies are...|Oil industry to s...|\n",
      "|                  []|     sportsgrid.com|  07-23-2014|Adam Dunn … you a...|Fantasy Baseball:...|\n",
      "|                  []|    staugustine.com|  01-01-2014|» County’s annual...|Teacher of the ye...|\n",
      "|          [Sam Colt]|businessinsider.com|  06-20-2014|Dropcam will prob...|Google's Nest Is ...|\n",
      "|     [Robert Ferris]|businessinsider.com|  02-28-2013|Wild Insects need...|Insects Are Disap...|\n",
      "|[Fiona Macrae Sci...|    dailymail.co.uk|  12-17-2015|British scientist...|Allantoin in many...|\n",
      "|[Mail Today Repor...|    dailymail.co.uk|  05-23-2014|The Big Bang Theo...|BLOGS OF THE DAY:...|\n",
      "|[Daily Mail Repor...|    dailymail.co.uk|  12-22-2010|A nurse made the ...|An ear-ie discove...|\n",
      "|[Stephanie Linnin...|    dailymail.co.uk|  10-20-2014|Mother-of-three D...|Grandmother with ...|\n",
      "|[Anthony Joseph F...|    dailymail.co.uk|  09-08-2015|The Scots were ki...|14 men thrown off...|\n",
      "|[Daniel Peters Fo...|    dailymail.co.uk|  11-01-2015|He may not be com...|Australian rugby'...|\n",
      "|[Leith Huffadine,...|    dailymail.co.uk|  07-12-2016|The wreckage of t...|Photos show wreck...|\n",
      "|       [Pa Reporter]|    dailymail.co.uk|  10-24-2015|Inter Milan were ...|Palermo 1-1 Inter...|\n",
      "|[Press Associatio...|    dailymail.co.uk|  11-13-2016|18-year-old Aditi...|Aditi Ashok claim...|\n",
      "|[Ben Nagle For Ma...|    dailymail.co.uk|  05-16-2016|Tiger Woods grima...|Tiger Woods endur...|\n",
      "|[Daily Mail Repor...|    dailymail.co.uk|  10-14-2010|Danny Cipriani to...|Morning after the...|\n",
      "| [Press Association]|    dailymail.co.uk|  05-12-2017|Both sides edged ...|Manchester United...|\n",
      "|                  []|      heraldnet.com|  04-19-2014|DENVER — A colleg...|Deaths stoke worr...|\n",
      "+--------------------+-------------------+------------+--------------------+--------------------+\n",
      "only showing top 20 rows\n",
      "\n"
     ]
    }
   ],
   "source": [
    "df_truncated = spark.read.json('/common/users/shared/cs543_fall22_group3/realnews/realnews_truncated')\n",
    "df_truncated.show()"
   ]
  },
  {
   "cell_type": "code",
   "execution_count": 42,
   "id": "83673d88-bb81-40db-a00e-aea329a2b9d6",
   "metadata": {},
   "outputs": [
    {
     "name": "stdout",
     "output_type": "stream",
     "text": [
      "+--------------------+-------------------+------------+--------------------+--------------------+--------------------+\n",
      "|             authors|             domain|publish_date|             summary|               title|     cleaned_summary|\n",
      "+--------------------+-------------------+------------+--------------------+--------------------+--------------------+\n",
      "| [Reuters Editorial]|        reuters.com|  04-11-2013|U.S. investment b...|DEALTALK-Banks fi...|u.s. investment b...|\n",
      "|[Reuters Editoria...|        reuters.com|  04-11-2011|Mexican coffee pr...|Mexico coffee far...|mexican coffee pr...|\n",
      "| [Reuters Editorial]|        reuters.com|  03-27-2013|Oil companies are...|Oil industry to s...|oil companies are...|\n",
      "|                  []|     sportsgrid.com|  07-23-2014|Adam Dunn … you a...|Fantasy Baseball:...|adam dunn … you a...|\n",
      "|                  []|    staugustine.com|  01-01-2014|» County’s annual...|Teacher of the ye...|» county ’ s annu...|\n",
      "|          [Sam Colt]|businessinsider.com|  06-20-2014|Dropcam will prob...|Google's Nest Is ...|dropcam will prob...|\n",
      "|     [Robert Ferris]|businessinsider.com|  02-28-2013|Wild Insects need...|Insects Are Disap...|wild insects need...|\n",
      "|[Fiona Macrae Sci...|    dailymail.co.uk|  12-17-2015|British scientist...|Allantoin in many...|british scientist...|\n",
      "|[Mail Today Repor...|    dailymail.co.uk|  05-23-2014|The Big Bang Theo...|BLOGS OF THE DAY:...|the big bang theo...|\n",
      "|[Daily Mail Repor...|    dailymail.co.uk|  12-22-2010|A nurse made the ...|An ear-ie discove...|a nurse made the ...|\n",
      "|[Stephanie Linnin...|    dailymail.co.uk|  10-20-2014|Mother-of-three D...|Grandmother with ...|mother-of-three d...|\n",
      "|[Anthony Joseph F...|    dailymail.co.uk|  09-08-2015|The Scots were ki...|14 men thrown off...|the scots were ki...|\n",
      "|[Daniel Peters Fo...|    dailymail.co.uk|  11-01-2015|He may not be com...|Australian rugby'...|he may not be com...|\n",
      "|[Leith Huffadine,...|    dailymail.co.uk|  07-12-2016|The wreckage of t...|Photos show wreck...|the wreckage of t...|\n",
      "|       [Pa Reporter]|    dailymail.co.uk|  10-24-2015|Inter Milan were ...|Palermo 1-1 Inter...|inter milan were ...|\n",
      "|[Press Associatio...|    dailymail.co.uk|  11-13-2016|18-year-old Aditi...|Aditi Ashok claim...|18-year-old aditi...|\n",
      "|[Ben Nagle For Ma...|    dailymail.co.uk|  05-16-2016|Tiger Woods grima...|Tiger Woods endur...|tiger woods grima...|\n",
      "|[Daily Mail Repor...|    dailymail.co.uk|  10-14-2010|Danny Cipriani to...|Morning after the...|danny cipriani to...|\n",
      "| [Press Association]|    dailymail.co.uk|  05-12-2017|Both sides edged ...|Manchester United...|both sides edged ...|\n",
      "|                  []|      heraldnet.com|  04-19-2014|DENVER — A colleg...|Deaths stoke worr...|denver — a colleg...|\n",
      "+--------------------+-------------------+------------+--------------------+--------------------+--------------------+\n",
      "only showing top 20 rows\n",
      "\n"
     ]
    }
   ],
   "source": [
    "# Remove punctuation, stop words, and lower case the letters\n",
    "def remove_stopwords(line):\n",
    "    tokens = word_tokenize(line)\n",
    "    remove_stopwords = [t.lower() for t in tokens if not t in STOPWORDS or not t in string.punctuation]\n",
    "    return ' '.join(remove_stopwords).strip(' ')\n",
    "\n",
    "remove_stopwords_udf = udf(lambda z: remove_stopwords(z))\n",
    "df_truncated.withColumn(\"cleaned_summary\", remove_stopwords_udf(col(\"summary\"))).show()"
   ]
  }
 ],
 "metadata": {
  "kernelspec": {
   "display_name": "Spark 3 in Python 3",
   "language": "python",
   "name": "pyspark3"
  },
  "language_info": {
   "codemirror_mode": {
    "name": "ipython",
    "version": 3
   },
   "file_extension": ".py",
   "mimetype": "text/x-python",
   "name": "python",
   "nbconvert_exporter": "python",
   "pygments_lexer": "ipython3",
   "version": "3.9.5"
  }
 },
 "nbformat": 4,
 "nbformat_minor": 5
}
