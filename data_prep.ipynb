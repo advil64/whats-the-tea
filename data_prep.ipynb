{
 "cells": [
  {
   "cell_type": "code",
   "execution_count": 1,
   "id": "905904d7-94d2-4222-bfa3-23bebb67909a",
   "metadata": {},
   "outputs": [
    {
     "name": "stderr",
     "output_type": "stream",
     "text": [
      "[nltk_data] Downloading package wordnet to\n",
      "[nltk_data]     /common/home/ac1771/nltk_data...\n",
      "[nltk_data]   Package wordnet is already up-to-date!\n",
      "[nltk_data] Downloading package omw-1.4 to\n",
      "[nltk_data]     /common/home/ac1771/nltk_data...\n",
      "[nltk_data]   Package omw-1.4 is already up-to-date!\n"
     ]
    },
    {
     "data": {
      "text/plain": [
       "True"
      ]
     },
     "execution_count": 1,
     "metadata": {},
     "output_type": "execute_result"
    }
   ],
   "source": [
    "import gensim\n",
    "import string\n",
    "import nltk\n",
    "import sparknlp\n",
    "import numpy as np\n",
    "\n",
    "from pyspark.ml.feature import HashingTF, IDF, Tokenizer\n",
    "from pyspark.ml import Pipeline\n",
    "from pyspark.sql import functions as F\n",
    "from gensim.parsing.preprocessing import STOPWORDS\n",
    "from nltk.stem import WordNetLemmatizer, SnowballStemmer\n",
    "from nltk.stem.porter import *\n",
    "from nltk.tokenize import word_tokenize\n",
    "\n",
    "nltk.download('wordnet')\n",
    "nltk.download('omw-1.4')"
   ]
  },
  {
   "cell_type": "code",
   "execution_count": 2,
   "id": "dec2c1d3-3754-4512-97a4-5fcf16bcd704",
   "metadata": {},
   "outputs": [],
   "source": [
    "df_raw = spark.read.json('/common/users/shared/cs543_fall22_group3/combined/combined_raw')"
   ]
  },
  {
   "cell_type": "code",
   "execution_count": 3,
   "id": "d788129b-3ea9-499f-91ca-d13c125b2528",
   "metadata": {},
   "outputs": [],
   "source": [
    "df_raw = df_raw.na.drop(subset=[\"selected_text\"]).drop(\"publish_date\")"
   ]
  },
  {
   "cell_type": "code",
   "execution_count": 4,
   "id": "83673d88-bb81-40db-a00e-aea329a2b9d6",
   "metadata": {},
   "outputs": [],
   "source": [
    "def lemmatize_stemming(text):\n",
    "    return WordNetLemmatizer().lemmatize(text, pos='v')\n",
    "\n",
    "# Remove punctuation, stop words, and lower case the letters\n",
    "def remove_stopwords(line):\n",
    "    tokens = word_tokenize(line)\n",
    "    remove_stopwords = [lemmatize_stemming(t.lower()) for t in tokens if not t in STOPWORDS and not t in string.punctuation and len(t) > 2]\n",
    "    return \",\".join(remove_stopwords)\n",
    "\n",
    "remove_stopwords_udf = F.udf(lambda z: remove_stopwords(z))\n",
    "processed_df = df_raw.withColumn(\"cleaned_text\", remove_stopwords_udf(F.col(\"selected_text\")))"
   ]
  },
  {
   "cell_type": "code",
   "execution_count": 5,
   "id": "d8f99d33-ed5a-4585-b332-981985de58ee",
   "metadata": {},
   "outputs": [
    {
     "name": "stdout",
     "output_type": "stream",
     "text": [
      "root\n",
      " |-- selected_text: string (nullable = true)\n",
      " |-- cleaned_text: string (nullable = true)\n",
      "\n"
     ]
    }
   ],
   "source": [
    "processed_df.printSchema()"
   ]
  },
  {
   "cell_type": "code",
   "execution_count": 6,
   "id": "72f9886e-6a4d-4f42-872b-d5e43f7b764b",
   "metadata": {},
   "outputs": [],
   "source": [
    "processed_df.write.mode(\"Overwrite\").json('/common/users/shared/cs543_fall22_group3/combined/combined_processed')"
   ]
  },
  {
   "cell_type": "code",
   "execution_count": 12,
   "id": "15b81f40-729b-4c0b-9379-c69f741b1bca",
   "metadata": {},
   "outputs": [
    {
     "name": "stdout",
     "output_type": "stream",
     "text": [
      "Raw text: House approves bill to ensure 9/11 victims fund never runs out\n",
      "Cleaned text: house,approve,ensure,9/11,victims,fund,run\n",
      "\n",
      "Raw text: Ben & Jerry's created a deep-fried Phish and Chips ice cream\n",
      "Cleaned text: ben,jerry,create,deep-fry,phish,chip,ice,cream\n",
      "\n",
      "Raw text: \"\" Simmons added. \"\"It's definitely sparking a lot of curiosities!\"\"It was first reported in 2009 that the ice cream giant was considering a fish and chips flavor\n",
      "Cleaned text: simmons,add,definitely,spark,lot,curiosities,report,2009,ice,cream,giant,consider,fish,chip,flavor\n",
      "\n",
      "Raw text:  sweet and salty – reels in a treat that will have ice cream lovers hooked!\"\"This isn't the first time Ben & Jerry's has tested out-of-the-box treats in London. Last year the company launched ice cream bagel sandwiches\n",
      "Cleaned text: sweet,salty,reel,treat,ice,cream,lovers,hook,this,n't,time,ben,jerry,test,out-of-the-box,treat,london,last,year,company,launch,ice,cream,bagel,sandwich\n",
      "\n",
      "Raw text: Nike keeps plans for Arizona factory despite controversial shoe\n",
      "Cleaned text: nike,keep,plan,arizona,factory,despite,controversial,shoe\n",
      "\n"
     ]
    }
   ],
   "source": [
    "for i in range(1000, 1005):\n",
    "    print('Raw text: {}'.format(processed_df.take(2000)[i].selected_text))\n",
    "    print('Cleaned text: {}'.format(processed_df.take(2000)[i].cleaned_text))\n",
    "    print()"
   ]
  }
 ],
 "metadata": {
  "kernelspec": {
   "display_name": "Spark 3 in Python 3",
   "language": "python",
   "name": "pyspark3"
  },
  "language_info": {
   "codemirror_mode": {
    "name": "ipython",
    "version": 3
   },
   "file_extension": ".py",
   "mimetype": "text/x-python",
   "name": "python",
   "nbconvert_exporter": "python",
   "pygments_lexer": "ipython3",
   "version": "3.9.5"
  }
 },
 "nbformat": 4,
 "nbformat_minor": 5
}
