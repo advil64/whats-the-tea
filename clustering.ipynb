{
 "cells": [
  {
   "cell_type": "code",
   "execution_count": 19,
   "id": "041a8ff6-8ca7-4552-9ff1-b8ee65d9ab8e",
   "metadata": {},
   "outputs": [],
   "source": [
    "from pyspark.sql import functions as F\n",
    "import plotly.express as px\n",
    "from pyspark.ml.clustering import KMeans\n",
    "from pyspark.sql.types import *"
   ]
  },
  {
   "cell_type": "code",
   "execution_count": 21,
   "id": "57114f27-8a48-4406-a775-3bf8eab2ae9f",
   "metadata": {},
   "outputs": [],
   "source": [
    "vectors = spark.read.json('/common/users/shared/cs543_fall22_group3/combined/combined_vectors_result')"
   ]
  },
  {
   "cell_type": "code",
   "execution_count": 23,
   "id": "2c48d562-5230-4be1-a975-c9d1b2e55e3b",
   "metadata": {},
   "outputs": [
    {
     "data": {
      "text/plain": [
       "40954102"
      ]
     },
     "execution_count": 23,
     "metadata": {},
     "output_type": "execute_result"
    }
   ],
   "source": [
    "vectors.count()"
   ]
  },
  {
   "cell_type": "code",
   "execution_count": 14,
   "id": "0d601b60-347f-41fd-b3d1-a4c0544ed5ff",
   "metadata": {},
   "outputs": [],
   "source": [
    "# # Remove punctuation, stop words, and lower case the letters\n",
    "# def stats(line):\n",
    "    \n",
    "#     average = sum(line[1])/len(line[1])\n",
    "#     max_val = max(line[1])\n",
    "#     min_val = min(line[1])\n",
    "    \n",
    "#     return [average, max_val, min_val]\n",
    "\n",
    "# stats_udf = F.udf(lambda z: stats(z), ArrayType(FloatType(), containsNull=False))\n",
    "# processed_df = vectors.withColumn(\"features\", stats_udf(F.col(\"features\")))"
   ]
  },
  {
   "cell_type": "code",
   "execution_count": 24,
   "id": "a78402a2-e0b1-4d48-bdb1-6bb4ff94fe19",
   "metadata": {},
   "outputs": [
    {
     "name": "stdout",
     "output_type": "stream",
     "text": [
      "root\n",
      " |-- cleaned_text: array (nullable = true)\n",
      " |    |-- element: string (containsNull = true)\n",
      " |-- output_vectors: struct (nullable = true)\n",
      " |    |-- type: long (nullable = true)\n",
      " |    |-- values: array (nullable = true)\n",
      " |    |    |-- element: double (containsNull = true)\n",
      "\n"
     ]
    }
   ],
   "source": [
    "vectors.printSchema()"
   ]
  },
  {
   "cell_type": "code",
   "execution_count": 25,
   "id": "1fb97cb2-23f1-426e-97e1-0d13941a8bb9",
   "metadata": {},
   "outputs": [
    {
     "name": "stdout",
     "output_type": "stream",
     "text": [
      "+--------------------+--------------------+\n",
      "|        cleaned_text|      output_vectors|\n",
      "+--------------------+--------------------+\n",
      "|[one, dead, hurt,...|{1, [0.0361029098...|\n",
      "|[shelf, silver, s...|{1, [-0.445606872...|\n",
      "|[year, satyam, fr...|{1, [-0.469876835...|\n",
      "|       [sonic, boom]|{1, [-0.352170139...|\n",
      "|          [cat, men]|{1, [0.0791339576...|\n",
      "|[rebuild, holmes,...|{1, [0.0957412049...|\n",
      "|[be, mahindras, s...|{1, [-0.161969950...|\n",
      "|   [form, substance]|{1, [-0.278256021...|\n",
      "|[medical, insuran...|{1, [-0.438288903...|\n",
      "|[shah, rukh, twee...|{1, [-0.008773446...|\n",
      "|[trouble, snow, a...|{1, [-0.124195749...|\n",
      "|[next, bill, gate...|{1, [-0.377679947...|\n",
      "|[indian, villages...|{1, [-0.317798322...|\n",
      "|[indian, youth, s...|{1, [-0.178084619...|\n",
      "|[temple, sao, jos...|{1, [-0.015021715...|\n",
      "|[govt, ease, educ...|{1, [-0.677946190...|\n",
      "|[india, beat, tur...|{1, [-0.386804085...|\n",
      "|[musharraf, meet,...|{1, [-0.375249467...|\n",
      "|[india, war, mong...|{1, [-0.132766443...|\n",
      "|[us-pakistan, bic...|{1, [-0.157507781...|\n",
      "+--------------------+--------------------+\n",
      "only showing top 20 rows\n",
      "\n"
     ]
    }
   ],
   "source": [
    "vectors.show()"
   ]
  },
  {
   "cell_type": "code",
   "execution_count": 17,
   "id": "abaa9dfc-73ba-49de-be49-53a66bc619fd",
   "metadata": {},
   "outputs": [],
   "source": [
    "kmeans = KMeans(k=5)\n",
    "kmeans.setSeed(1)\n",
    "kmeans.setWeightCol(\"weighCol\")\n",
    "kmeans.setMaxIter(10)\n",
    "model = kmeans.fit(processed_df)"
   ]
  },
  {
   "cell_type": "code",
   "execution_count": 18,
   "id": "099f4fec-2cd7-4df4-a2ca-2a7ec808af3c",
   "metadata": {},
   "outputs": [
    {
     "name": "stdout",
     "output_type": "stream",
     "text": [
      "[array([-0.4042186 ,  0.05086916, -0.92345153]), array([-0.67591357,  0.26159427, -6.74898863]), array([ 0.16861255,  0.76447216, -0.32973419]), array([-0.09461035,  0.28119146, -0.46025592]), array([-0.10190278,  0.58812955, -0.87756608])]\n"
     ]
    }
   ],
   "source": [
    "centers = model.clusterCenters()\n",
    "print(centers)"
   ]
  }
 ],
 "metadata": {
  "kernelspec": {
   "display_name": "Spark 3 in Python 3",
   "language": "python",
   "name": "pyspark3"
  },
  "language_info": {
   "codemirror_mode": {
    "name": "ipython",
    "version": 3
   },
   "file_extension": ".py",
   "mimetype": "text/x-python",
   "name": "python",
   "nbconvert_exporter": "python",
   "pygments_lexer": "ipython3",
   "version": "3.9.5"
  }
 },
 "nbformat": 4,
 "nbformat_minor": 5
}
