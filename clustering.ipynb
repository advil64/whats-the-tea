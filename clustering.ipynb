{
 "cells": [
  {
   "cell_type": "code",
   "execution_count": 1,
   "id": "041a8ff6-8ca7-4552-9ff1-b8ee65d9ab8e",
   "metadata": {},
   "outputs": [],
   "source": [
    "from pyspark.sql import functions as F\n",
    "import plotly.express as px\n",
    "from pyspark.ml.clustering import KMeans\n",
    "from pyspark.sql.types import *"
   ]
  },
  {
   "cell_type": "code",
   "execution_count": 2,
   "id": "57114f27-8a48-4406-a775-3bf8eab2ae9f",
   "metadata": {},
   "outputs": [],
   "source": [
    "vectors = spark.read.json('/common/users/shared/cs543_fall22_group3/combined/combined_vectors')"
   ]
  },
  {
   "cell_type": "code",
   "execution_count": 17,
   "id": "2c48d562-5230-4be1-a975-c9d1b2e55e3b",
   "metadata": {},
   "outputs": [
    {
     "data": {
      "text/plain": [
       "1001"
      ]
     },
     "execution_count": 17,
     "metadata": {},
     "output_type": "execute_result"
    }
   ],
   "source": [
    "vectors.count()"
   ]
  },
  {
   "cell_type": "code",
   "execution_count": 14,
   "id": "0d601b60-347f-41fd-b3d1-a4c0544ed5ff",
   "metadata": {},
   "outputs": [],
   "source": [
    "# Remove punctuation, stop words, and lower case the letters\n",
    "def stats(line):\n",
    "    \n",
    "    average = sum(line[1])/len(line[1])\n",
    "    max_val = max(line[1])\n",
    "    min_val = min(line[1])\n",
    "    \n",
    "    return [average, max_val, min_val]\n",
    "\n",
    "stats_udf = F.udf(lambda z: stats(z), ArrayType(FloatType(), containsNull=False))\n",
    "processed_df = vectors.withColumn(\"features\", stats_udf(F.col(\"features\")))"
   ]
  },
  {
   "cell_type": "code",
   "execution_count": 15,
   "id": "a78402a2-e0b1-4d48-bdb1-6bb4ff94fe19",
   "metadata": {},
   "outputs": [
    {
     "name": "stdout",
     "output_type": "stream",
     "text": [
      "root\n",
      " |-- features: array (nullable = true)\n",
      " |    |-- element: float (containsNull = false)\n",
      " |-- weighCol: double (nullable = true)\n",
      "\n"
     ]
    }
   ],
   "source": [
    "processed_df.printSchema()"
   ]
  },
  {
   "cell_type": "code",
   "execution_count": 16,
   "id": "1fb97cb2-23f1-426e-97e1-0d13941a8bb9",
   "metadata": {},
   "outputs": [
    {
     "name": "stdout",
     "output_type": "stream",
     "text": [
      "+--------------------+--------+\n",
      "|            features|weighCol|\n",
      "+--------------------+--------+\n",
      "|[-0.5102026, 0.73...|     1.0|\n",
      "|[-0.30525059, 0.5...|     1.0|\n",
      "|[-0.1497361, 0.80...|     1.0|\n",
      "|[-0.4475176, 0.26...|     1.0|\n",
      "|[0.002356287, 1.0...|     1.0|\n",
      "|[0.067357205, 0.6...|     1.0|\n",
      "|[-0.12473157, 0.6...|     1.0|\n",
      "|[-0.051773936, 0....|     1.0|\n",
      "|[-0.3069521, 0.35...|     1.0|\n",
      "|[-0.16905668, 0.4...|     1.0|\n",
      "|[-0.22439532, 0.5...|     1.0|\n",
      "|[0.07051405, 0.80...|     1.0|\n",
      "|[-0.31240213, 0.6...|     1.0|\n",
      "|[0.039188497, 0.6...|     1.0|\n",
      "|[-0.047275685, 0....|     1.0|\n",
      "|[0.003494953, 0.7...|     1.0|\n",
      "|[0.35350364, 1.04...|     1.0|\n",
      "|[-0.05593809, 0.8...|     1.0|\n",
      "|[-0.24546224, 0.5...|     1.0|\n",
      "|[0.12138077, 0.71...|     1.0|\n",
      "+--------------------+--------+\n",
      "only showing top 20 rows\n",
      "\n"
     ]
    }
   ],
   "source": [
    "processed_df.show()"
   ]
  },
  {
   "cell_type": "code",
   "execution_count": 17,
   "id": "abaa9dfc-73ba-49de-be49-53a66bc619fd",
   "metadata": {},
   "outputs": [],
   "source": [
    "kmeans = KMeans(k=5)\n",
    "kmeans.setSeed(1)\n",
    "kmeans.setWeightCol(\"weighCol\")\n",
    "kmeans.setMaxIter(10)\n",
    "model = kmeans.fit(processed_df)"
   ]
  },
  {
   "cell_type": "code",
   "execution_count": 18,
   "id": "099f4fec-2cd7-4df4-a2ca-2a7ec808af3c",
   "metadata": {},
   "outputs": [
    {
     "name": "stdout",
     "output_type": "stream",
     "text": [
      "[array([-0.4042186 ,  0.05086916, -0.92345153]), array([-0.67591357,  0.26159427, -6.74898863]), array([ 0.16861255,  0.76447216, -0.32973419]), array([-0.09461035,  0.28119146, -0.46025592]), array([-0.10190278,  0.58812955, -0.87756608])]\n"
     ]
    }
   ],
   "source": [
    "centers = model.clusterCenters()\n",
    "print(centers)"
   ]
  }
 ],
 "metadata": {
  "kernelspec": {
   "display_name": "Spark 3 in Python 3",
   "language": "python",
   "name": "pyspark3"
  },
  "language_info": {
   "codemirror_mode": {
    "name": "ipython",
    "version": 3
   },
   "file_extension": ".py",
   "mimetype": "text/x-python",
   "name": "python",
   "nbconvert_exporter": "python",
   "pygments_lexer": "ipython3",
   "version": "3.9.5"
  }
 },
 "nbformat": 4,
 "nbformat_minor": 5
}
