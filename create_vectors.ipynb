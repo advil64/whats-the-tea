{
 "cells": [
  {
   "cell_type": "code",
   "execution_count": 20,
   "metadata": {},
   "outputs": [],
   "source": [
    "from pyspark.ml.feature import Word2Vec, Word2VecModel\n",
    "from pyspark.sql import functions as F\n",
    "import numpy as np\n",
    "from pyspark.ml.linalg import Vectors"
   ]
  },
  {
   "cell_type": "code",
   "execution_count": 2,
   "metadata": {},
   "outputs": [
    {
     "name": "stderr",
     "output_type": "stream",
     "text": [
      "/koko/system/spark-3.2.1-bin-hadoop3.2/python/pyspark/sql/context.py:125: FutureWarning: Deprecated in 3.0.0. Use SparkSession.builder.getOrCreate() instead.\n",
      "  warnings.warn(\n"
     ]
    }
   ],
   "source": [
    "model = Word2VecModel.load('/common/users/shared/cs543_fall22_group3/models/word2vec')\n",
    "vector_table = model.getVectors()"
   ]
  },
  {
   "cell_type": "code",
   "execution_count": 13,
   "metadata": {},
   "outputs": [],
   "source": [
    "processed_df = spark.read.json('/common/users/shared/cs543_fall22_group3/combined/combined_processed')"
   ]
  },
  {
   "cell_type": "code",
   "execution_count": 14,
   "metadata": {},
   "outputs": [],
   "source": [
    "processed_df.drop('selected_text').coalesce(1).write.format('text').option('header', 'false').mode('overwrite').save('/common/users/shared/cs543_fall22_group3/combined/tokens.txt')"
   ]
  },
  {
   "cell_type": "code",
   "execution_count": 31,
   "metadata": {},
   "outputs": [],
   "source": [
    "vectors_df = None\n",
    "\n",
    "for line in open('/common/users/shared/cs543_fall22_group3/combined/tokens.txt/part-00000-9c2229f7-e3bb-4f88-9baa-31962493e3d6-c000.txt'):\n",
    "    \n",
    "    tokens = line.strip().split(',')\n",
    "    vector_list = vector_table.filter(vector_table.word.isin(tokens)).drop('word').collect()\n",
    "    if vectors_df is None:\n",
    "        vectors_df = spark.createDataFrame([(Vectors.dense([v[0][0] for v in vector_list]), 1.0)], [\"features\", \"weighCol\"])\n",
    "    else:\n",
    "        temp = spark.createDataFrame([(Vectors.dense([v[0][0] for v in vector_list]), 1.0)], [\"features\", \"weighCol\"])\n",
    "        vectors_df = vectors_df.union(temp)"
   ]
  },
  {
   "cell_type": "code",
   "execution_count": 35,
   "metadata": {},
   "outputs": [],
   "source": [
    "vectors_df.write.mode(\"Overwrite\").json('/common/users/shared/cs543_fall22_group3/combined/combined_vectors')"
   ]
  }
 ],
 "metadata": {
  "kernelspec": {
   "display_name": "Spark 3 in Python 3",
   "language": "python",
   "name": "pyspark3"
  },
  "language_info": {
   "codemirror_mode": {
    "name": "ipython",
    "version": 3
   },
   "file_extension": ".py",
   "mimetype": "text/x-python",
   "name": "python",
   "nbconvert_exporter": "python",
   "pygments_lexer": "ipython3",
   "version": "3.9.5"
  },
  "vscode": {
   "interpreter": {
    "hash": "31f2aee4e71d21fbe5cf8b01ff0e069b9275f58929596ceb00d14d90e3e16cd6"
   }
  }
 },
 "nbformat": 4,
 "nbformat_minor": 4
}
