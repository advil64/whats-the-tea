{
 "cells": [
  {
   "cell_type": "code",
   "execution_count": 1,
   "metadata": {},
   "outputs": [],
   "source": [
    "from pyspark.ml.feature import Word2Vec, Word2VecModel\n",
    "from pyspark.sql import functions as F\n",
    "import numpy as np\n",
    "from pyspark.ml.linalg import Vectors\n",
    "\n",
    "from pyspark.sql import functions as F\n",
    "import plotly.express as px\n",
    "from pyspark.ml.clustering import KMeans\n",
    "from pyspark.sql.types import *"
   ]
  },
  {
   "cell_type": "code",
   "execution_count": 2,
   "metadata": {},
   "outputs": [
    {
     "name": "stderr",
     "output_type": "stream",
     "text": [
      "/koko/system/spark-3.2.1-bin-hadoop3.2/python/pyspark/sql/context.py:125: FutureWarning: Deprecated in 3.0.0. Use SparkSession.builder.getOrCreate() instead.\n",
      "  warnings.warn(\n"
     ]
    }
   ],
   "source": [
    "model = Word2VecModel.load('/common/users/shared/cs543_fall22_group3/models/word2vec')\n",
    "vector_table = model.getVectors()\n",
    "processed_df = spark.read.json('/common/users/shared/cs543_fall22_group3/combined/combined_processed')"
   ]
  },
  {
   "cell_type": "code",
   "execution_count": 3,
   "metadata": {},
   "outputs": [],
   "source": [
    "processed_df = processed_df.withColumn(\"cleaned_text\",F.split(F.col(\"cleaned_text\"), \",\"))"
   ]
  },
  {
   "cell_type": "code",
   "execution_count": 4,
   "metadata": {},
   "outputs": [
    {
     "name": "stdout",
     "output_type": "stream",
     "text": [
      "+--------------------+--------------------+\n",
      "|        cleaned_text|       selected_text|\n",
      "+--------------------+--------------------+\n",
      "|[london, financia...|London's financia...|\n",
      "|[the, department,...|The Department of...|\n",
      "|[mayor, gov, plan...|MAYOR: GOV’S PLAN...|\n",
      "|[girardi, yankees...|Girardi on Yankee...|\n",
      "|[the, young, turk...|The Young Turks H...|\n",
      "|[emerge, market, ...|Emerging markets ...|\n",
      "|[fool, try, devel...|A Fool tries to d...|\n",
      "|[the, comedy, wri...|The comedy, writt...|\n",
      "|[another, call, r...|Another Call to R...|\n",
      "|[blake, shelton, ...|Blake Shelton & G...|\n",
      "|[read, nico, bran...|Read Nico Branham...|\n",
      "|[plus, xero, boss...|PLUS: Xero boss r...|\n",
      "|[awka-the, claim,...|AWKA-THE claim by...|\n",
      "|[though, subways,...|Though subways an...|\n",
      "|[forget, not, chr...|‘Forgotten’? Not ...|\n",
      "|[leader, oppositi...|Leader of the opp...|\n",
      "|[natalia, kill, s...|Natalia Kills say...|\n",
      "|[superior, fall, ...|Superior falls to...|\n",
      "|[thom, patterson,...|By Thom Patterson...|\n",
      "|[finance, ministe...|EU finance minist...|\n",
      "+--------------------+--------------------+\n",
      "only showing top 20 rows\n",
      "\n"
     ]
    }
   ],
   "source": [
    "processed_df.show()"
   ]
  },
  {
   "cell_type": "code",
   "execution_count": 5,
   "metadata": {},
   "outputs": [],
   "source": [
    "result = model.transform(processed_df.drop('selected_text'))"
   ]
  },
  {
   "cell_type": "code",
   "execution_count": 6,
   "metadata": {},
   "outputs": [
    {
     "name": "stdout",
     "output_type": "stream",
     "text": [
      "+--------------------+--------------------+\n",
      "|        cleaned_text|      output_vectors|\n",
      "+--------------------+--------------------+\n",
      "|[london, financia...|[-0.5109536331146...|\n",
      "|[the, department,...|[-0.3147776111887...|\n",
      "|[mayor, gov, plan...|[-5.5029392242431...|\n",
      "|[girardi, yankees...|[0.12310679753621...|\n",
      "|[the, young, turk...|[-0.2074893119434...|\n",
      "|[emerge, market, ...|[-0.4438817477361...|\n",
      "|[fool, try, devel...|[-0.2903663915349...|\n",
      "|[the, comedy, wri...|[0.14530817537822...|\n",
      "|[another, call, r...|[-0.0227802122632...|\n",
      "|[blake, shelton, ...|[0.2999736661076895]|\n",
      "|[read, nico, bran...|[0.0738221023763929]|\n",
      "|[plus, xero, boss...|[-0.2142722297992...|\n",
      "|[awka-the, claim,...|[-0.0676146328735...|\n",
      "|[though, subways,...|[-0.0927275374531...|\n",
      "|[forget, not, chr...|[0.20289693609811...|\n",
      "|[leader, oppositi...|[-0.0717920884490...|\n",
      "|[natalia, kill, s...|[0.05694128102105...|\n",
      "|[superior, fall, ...|[-0.0910834123690...|\n",
      "|[thom, patterson,...|[-0.2146621572605...|\n",
      "|[finance, ministe...|[-0.4932757963736...|\n",
      "+--------------------+--------------------+\n",
      "only showing top 20 rows\n",
      "\n"
     ]
    }
   ],
   "source": [
    "result.show()"
   ]
  },
  {
   "cell_type": "code",
   "execution_count": 7,
   "metadata": {},
   "outputs": [],
   "source": [
    "result = result.withColumn('features', F.col(\"output_vectors\"))"
   ]
  },
  {
   "cell_type": "code",
   "execution_count": 62,
   "metadata": {},
   "outputs": [],
   "source": [
    "kmeans = KMeans(k=5)\n",
    "kmeans.setSeed(1)\n",
    "kmeans.setMaxIter(10)\n",
    "k_means_model = kmeans.fit(result)"
   ]
  },
  {
   "cell_type": "code",
   "execution_count": null,
   "metadata": {},
   "outputs": [],
   "source": [
    "k_means_model.write().overwrite().save('/common/users/shared/cs543_fall22_group3/models/k_means')"
   ]
  },
  {
   "cell_type": "code",
   "execution_count": 10,
   "metadata": {},
   "outputs": [
    {
     "data": {
      "text/plain": [
       "[array([0.06283892]),\n",
       " array([-0.31541211]),\n",
       " array([-0.12216592]),\n",
       " array([-0.57509271]),\n",
       " array([0.27676002])]"
      ]
     },
     "execution_count": 10,
     "metadata": {},
     "output_type": "execute_result"
    }
   ],
   "source": [
    "k_means_model.clusterCenters()"
   ]
  },
  {
   "cell_type": "code",
   "execution_count": 63,
   "metadata": {},
   "outputs": [
    {
     "data": {
      "text/plain": [
       "KMeansModel: uid=KMeans_8db78f979b9c, k=5, distanceMeasure=euclidean, numFeatures=1"
      ]
     },
     "execution_count": 63,
     "metadata": {},
     "output_type": "execute_result"
    }
   ],
   "source": [
    "k_means_model.setPredictionCol(\"newPrediction\")"
   ]
  },
  {
   "cell_type": "code",
   "execution_count": 64,
   "metadata": {},
   "outputs": [],
   "source": [
    "transformed = k_means_model.transform(result)"
   ]
  },
  {
   "cell_type": "code",
   "execution_count": 65,
   "metadata": {},
   "outputs": [],
   "source": [
    "view = transformed.take(10000)"
   ]
  },
  {
   "cell_type": "code",
   "execution_count": null,
   "metadata": {},
   "outputs": [],
   "source": [
    "# 0 -> pop culture\n",
    "# 1 -> finance\n",
    "# 2 -> politics\n",
    "# 3 -> breaking news\n",
    "# 4 -> sports/entertainment"
   ]
  },
  {
   "cell_type": "code",
   "execution_count": null,
   "metadata": {},
   "outputs": [],
   "source": [
    "for i in view:\n",
    "    if i[3] == 3:\n",
    "        print(i[0])\n",
    "        print(i[3])\n",
    "        print()"
   ]
  },
  {
   "cell_type": "code",
   "execution_count": null,
   "metadata": {},
   "outputs": [],
   "source": [
    "# 0 -> \n",
    "# 1 -> technology?\n",
    "# 2 -> politics\n",
    "# 3 -> finance\n",
    "# 4 -> sports\n",
    "# 8 -> health"
   ]
  },
  {
   "cell_type": "code",
   "execution_count": 28,
   "metadata": {},
   "outputs": [],
   "source": [
    "result.write.mode(\"Overwrite\").json('/common/users/shared/cs543_fall22_group3/combined/combined_vectors_result')"
   ]
  }
 ],
 "metadata": {
  "kernelspec": {
   "display_name": "Spark 3 in Python 3",
   "language": "python",
   "name": "pyspark3"
  },
  "language_info": {
   "codemirror_mode": {
    "name": "ipython",
    "version": 3
   },
   "file_extension": ".py",
   "mimetype": "text/x-python",
   "name": "python",
   "nbconvert_exporter": "python",
   "pygments_lexer": "ipython3",
   "version": "3.9.5"
  },
  "vscode": {
   "interpreter": {
    "hash": "31f2aee4e71d21fbe5cf8b01ff0e069b9275f58929596ceb00d14d90e3e16cd6"
   }
  }
 },
 "nbformat": 4,
 "nbformat_minor": 4
}
