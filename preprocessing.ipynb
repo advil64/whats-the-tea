{
 "cells": [
  {
   "cell_type": "code",
   "execution_count": 1,
   "id": "a589af87-7815-4ed0-be35-9a2101b36fea",
   "metadata": {},
   "outputs": [
    {
     "name": "stderr",
     "output_type": "stream",
     "text": [
      "[nltk_data] Downloading package wordnet to\n",
      "[nltk_data]     /common/home/vig4/nltk_data...\n",
      "[nltk_data]   Package wordnet is already up-to-date!\n",
      "[nltk_data] Downloading package omw-1.4 to\n",
      "[nltk_data]     /common/home/vig4/nltk_data...\n",
      "[nltk_data]   Package omw-1.4 is already up-to-date!\n"
     ]
    },
    {
     "data": {
      "text/plain": [
       "True"
      ]
     },
     "execution_count": 1,
     "metadata": {},
     "output_type": "execute_result"
    }
   ],
   "source": [
    "from gensim.parsing.preprocessing import STOPWORDS\n",
    "from nltk.stem import WordNetLemmatizer\n",
    "from nltk.tokenize import word_tokenize\n",
    "from pyspark.sql import functions as F\n",
    "import nltk\n",
    "import string\n",
    "\n",
    "nltk.download('wordnet')\n",
    "nltk.download('omw-1.4')"
   ]
  },
  {
   "cell_type": "code",
   "execution_count": 2,
   "id": "dec2c1d3-3754-4512-97a4-5fcf16bcd704",
   "metadata": {},
   "outputs": [
    {
     "name": "stdout",
     "output_type": "stream",
     "text": [
      "+--------------------+--------------------+\n",
      "|        publish_date|       selected_text|\n",
      "+--------------------+--------------------+\n",
      "| 2019-07-09 03:01:00|Jeffrey Epstein h...|\n",
      "| 2019-07-09 14:50:00|7 outdoor brands ...|\n",
      "|            Columbia|                null|\n",
      "|Shop Columbia out...| Columbia has hel...|\n",
      "|            Cotopaxi|                null|\n",
      "|Shop outdoor gear...| you'll find clea...|\n",
      "|                 REI|                null|\n",
      "|Shop outdoor gear...|000 outdoor space...|\n",
      "|         Hydro Flask|                null|\n",
      "|Shop Hydro Flask ...| ensure drinkable...|\n",
      "|      United by Blue|                null|\n",
      "|Shop outdoor gear...|                null|\n",
      "|           Patagonia|                null|\n",
      "|Shop Patagonia ou...|                null|\n",
      "|      The North Face|                null|\n",
      "|Shop The North Fa...|\"\" which connects...|\n",
      "|Subscribe to our ...|                null|\n",
      "| Find all the bes...|                null|\n",
      "| Disclosure: This...|                null|\n",
      "| 2019-07-09 20:26:37|Joe Manchin intro...|\n",
      "+--------------------+--------------------+\n",
      "only showing top 20 rows\n",
      "\n"
     ]
    }
   ],
   "source": [
    "raw_df = spark.read.json('/common/users/shared/cs543_fall22_group3/combined/combined_raw')\n",
    "raw_df.show()"
   ]
  },
  {
   "cell_type": "code",
   "execution_count": 3,
   "id": "d788129b-3ea9-499f-91ca-d13c125b2528",
   "metadata": {},
   "outputs": [
    {
     "name": "stdout",
     "output_type": "stream",
     "text": [
      "+--------------------+\n",
      "|       selected_text|\n",
      "+--------------------+\n",
      "|Jeffrey Epstein h...|\n",
      "|7 outdoor brands ...|\n",
      "| Columbia has hel...|\n",
      "| you'll find clea...|\n",
      "|000 outdoor space...|\n",
      "| ensure drinkable...|\n",
      "|\"\" which connects...|\n",
      "|Joe Manchin intro...|\n",
      "|Artist creates fu...|\n",
      "|A rare Pokémon ca...|\n",
      "| Aramex told Poke...|\n",
      "|Save on Google sm...|\n",
      "|Lady Gaga launche...|\n",
      "| I was just Born ...|\n",
      "| 2019—Vic ✨ (@Vom...|\n",
      "|How to add your b...|\n",
      "|Lady Gaga to laun...|\n",
      "|Judge ruled DOJ c...|\n",
      "|How to get out of...|\n",
      "|Sales and Deals o...|\n",
      "+--------------------+\n",
      "only showing top 20 rows\n",
      "\n"
     ]
    }
   ],
   "source": [
    "raw_df = raw_df.select('selected_text').na.drop()\n",
    "raw_df.show()"
   ]
  },
  {
   "cell_type": "code",
   "execution_count": 4,
   "id": "83673d88-bb81-40db-a00e-aea329a2b9d6",
   "metadata": {},
   "outputs": [],
   "source": [
    "def lemmatize_stemming(text):\n",
    "    return WordNetLemmatizer().lemmatize(text, pos='v')\n",
    "\n",
    "# Remove punctuation, stopwords, and lowercase the letters\n",
    "def remove_stopwords(line):\n",
    "    tokens = word_tokenize(line)\n",
    "    remove_stopwords = [lemmatize_stemming(t.lower()) for t in tokens if not t in STOPWORDS and t not in string.punctuation and len(t) > 2]\n",
    "    return ','.join(remove_stopwords)"
   ]
  },
  {
   "cell_type": "code",
   "execution_count": 5,
   "id": "0ed4cf68-c150-4693-ac40-5b5955ef14e1",
   "metadata": {},
   "outputs": [],
   "source": [
    "remove_stopwords_udf = F.udf(lambda z: remove_stopwords(z))\n",
    "processed_df = raw_df.withColumn('cleaned_text', remove_stopwords_udf(F.col('selected_text')))"
   ]
  },
  {
   "cell_type": "code",
   "execution_count": 6,
   "id": "d8f99d33-ed5a-4585-b332-981985de58ee",
   "metadata": {},
   "outputs": [
    {
     "name": "stdout",
     "output_type": "stream",
     "text": [
      "root\n",
      " |-- selected_text: string (nullable = true)\n",
      " |-- cleaned_text: string (nullable = true)\n",
      "\n"
     ]
    }
   ],
   "source": [
    "processed_df.printSchema()"
   ]
  },
  {
   "cell_type": "code",
   "execution_count": null,
   "id": "72f9886e-6a4d-4f42-872b-d5e43f7b764b",
   "metadata": {},
   "outputs": [],
   "source": [
    "processed_df.write.mode('Overwrite').json('/common/users/shared/cs543_fall22_group3/combined/combined_processed')"
   ]
  },
  {
   "cell_type": "code",
   "execution_count": null,
   "id": "15b81f40-729b-4c0b-9379-c69f741b1bca",
   "metadata": {},
   "outputs": [],
   "source": [
    "processed_df_2000 = processed_df.take(2000)\n",
    "\n",
    "for i in range(1000, 1005):\n",
    "    print(f'Raw text: {processed_df_2000[i].selected_text}')\n",
    "    print(f'Cleaned text: {processed_df_2000[i].cleaned_text}')\n",
    "    print()"
   ]
  }
 ],
 "metadata": {
  "kernelspec": {
   "display_name": "venv",
   "language": "python",
   "name": "python3"
  },
  "language_info": {
   "codemirror_mode": {
    "name": "ipython",
    "version": 3
   },
   "file_extension": ".py",
   "mimetype": "text/x-python",
   "name": "python",
   "nbconvert_exporter": "python",
   "pygments_lexer": "ipython3",
   "version": "3.10.7"
  }
 },
 "nbformat": 4,
 "nbformat_minor": 5
}
