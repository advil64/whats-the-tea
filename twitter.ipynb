{
 "cells": [
  {
   "cell_type": "code",
   "execution_count": 1,
   "id": "656c8946",
   "metadata": {},
   "outputs": [
    {
     "name": "stderr",
     "output_type": "stream",
     "text": [
      "[nltk_data] Downloading package wordnet to\n",
      "[nltk_data]     /common/home/dw659/nltk_data...\n",
      "[nltk_data]   Package wordnet is already up-to-date!\n"
     ]
    },
    {
     "data": {
      "text/plain": [
       "True"
      ]
     },
     "execution_count": 1,
     "metadata": {},
     "output_type": "execute_result"
    }
   ],
   "source": [
    "from dotenv import load_dotenv\n",
    "import json\n",
    "import os\n",
    "import tweepy\n",
    "from nltk.stem import WordNetLemmatizer, SnowballStemmer\n",
    "from nltk.stem.porter import *\n",
    "from nltk.tokenize import word_tokenize\n",
    "from gensim.parsing.preprocessing import STOPWORDS\n",
    "import gensim\n",
    "import string\n",
    "import nltk\n",
    "import sparknlp\n",
    "nltk.download('wordnet')"
   ]
  },
  {
   "cell_type": "code",
   "execution_count": 2,
   "id": "0accde12",
   "metadata": {},
   "outputs": [
    {
     "data": {
      "text/plain": [
       "True"
      ]
     },
     "execution_count": 2,
     "metadata": {},
     "output_type": "execute_result"
    }
   ],
   "source": [
    "load_dotenv()"
   ]
  },
  {
   "cell_type": "code",
   "execution_count": 3,
   "id": "d9691f7a",
   "metadata": {},
   "outputs": [],
   "source": [
    "bearer_token = os.environ.get('bearer_token')\n",
    "consumer_key = os.environ.get('consumer_key')\n",
    "consumer_secret = os.environ.get('consumer_secret')\n",
    "access_token = os.environ.get('access_token')\n",
    "access_token_secret = os.environ.get('access_token_secret')"
   ]
  },
  {
   "cell_type": "code",
   "execution_count": 4,
   "id": "2d8a8db6",
   "metadata": {},
   "outputs": [],
   "source": [
    "client = tweepy.Client(\n",
    "    bearer_token=bearer_token,\n",
    "    consumer_key=consumer_key,\n",
    "    consumer_secret=consumer_secret,\n",
    "    access_token=access_token,\n",
    "    access_token_secret=access_token_secret,\n",
    ")"
   ]
  },
  {
   "cell_type": "code",
   "execution_count": 5,
   "id": "0cb23f49",
   "metadata": {},
   "outputs": [],
   "source": [
    "# Get Twitter ID from handle from https://tweeterid.com/\n",
    "accounts = [\n",
    "    {\n",
    "        'handle': 'cnnbrk',\n",
    "        'id': 428333\n",
    "    },\n",
    "    {\n",
    "        'handle': 'CNN',\n",
    "        'id': 759251\n",
    "    },\n",
    "    {\n",
    "        'handle': 'nytimes',\n",
    "        'id': 807095\n",
    "    },\n",
    "    {\n",
    "        'handle': 'BBCBreaking',\n",
    "        'id': 5402612\n",
    "    },\n",
    "    {\n",
    "        'handle': 'BBCWorld',\n",
    "        'id': 742143\n",
    "    },\n",
    "    {\n",
    "        'handle': 'TheEconomist',\n",
    "        'id': 5988062\n",
    "    },\n",
    "    {\n",
    "        'handle': 'WSJ',\n",
    "        'id': 3108351\n",
    "    },\n",
    "    {\n",
    "        'handle': 'washingtonpost',\n",
    "        'id': 2467791\n",
    "    },\n",
    "    {\n",
    "        'handle': 'TIME',\n",
    "        'id': 14293310\n",
    "    },\n",
    "    {\n",
    "        'handle': 'ABC',\n",
    "        'id': 28785486\n",
    "    },\n",
    "    {\n",
    "        'handle': 'ndtv',\n",
    "        'id': 37034483\n",
    "    },\n",
    "    {\n",
    "        'handle': 'AP',\n",
    "        'id': 51241574\n",
    "    },\n",
    "    {\n",
    "        'handle': 'XHNews',\n",
    "        'id': 487118986\n",
    "    },\n",
    "    {\n",
    "        'handle': 'HuffPost',\n",
    "        'id': 14511951\n",
    "    },\n",
    "    {\n",
    "        'handle': 'guardian',\n",
    "        'id': 87818409\n",
    "    },\n",
    "    {\n",
    "        'handle': 'BreakingNews',\n",
    "        'id': 6017542\n",
    "    },\n",
    "    {\n",
    "        'handle': 'SkyNews',\n",
    "        'id': 7587032\n",
    "    },\n",
    "    {\n",
    "        'handle': 'AJEnglish',\n",
    "        'id': 4970411\n",
    "    },\n",
    "    {\n",
    "        'handle': 'FT',\n",
    "        'id': 18949452\n",
    "    },\n",
    "    {\n",
    "        'handle': 'SkyNewsBreak',\n",
    "        'id': 87416722\n",
    "    },\n",
    "    {\n",
    "        'handle': 'politico',\n",
    "        'id': 9300262\n",
    "    },\n",
    "    {\n",
    "        'handle': 'CNBC',\n",
    "        'id': 20402945\n",
    "    },\n",
    "    {\n",
    "        'handle': 'FRANCE24',\n",
    "        'id': 1994321\n",
    "    },\n",
    "    {\n",
    "        'handle': 'guardiannews',\n",
    "        'id': 788524\n",
    "    },\n",
    "    {\n",
    "        'handle': 'Independent',\n",
    "        'id': 16973333\n",
    "    },\n",
    "    {\n",
    "        'handle': 'BBCAfrica',\n",
    "        'id': 36670025\n",
    "    },\n",
    "    {\n",
    "        'handle': 'Newsweek',\n",
    "        'id': 2884771\n",
    "    },\n",
    "    {\n",
    "        'handle': 'Telegraph',\n",
    "        'id': 16343974\n",
    "    },\n",
    "    {\n",
    "        'handle': 'RT_com',\n",
    "        'id': 64643056\n",
    "    },\n",
    "    {\n",
    "        'handle': 'CBCNews',\n",
    "        'id': 6433472\n",
    "    },\n",
    "    {\n",
    "        'handle': 'FinancialTimes',\n",
    "        'id': 4898091\n",
    "    },\n",
    "    {\n",
    "        'handle': 'Reuters',\n",
    "        'id': 1652541\n",
    "    },\n",
    "    {\n",
    "        'handle': 'SportsCenter',\n",
    "        'id': 26257166\n",
    "    },\n",
    "    {\n",
    "        'handle': 'espn',\n",
    "        'id': 2557521\n",
    "    }\n",
    "]"
   ]
  },
  {
   "cell_type": "code",
   "execution_count": 6,
   "id": "533d9745",
   "metadata": {},
   "outputs": [],
   "source": [
    "def get_tweets(accounts, n):\n",
    "    tweets = []\n",
    "    for account in accounts:\n",
    "        response = client.get_users_tweets(account['id'], max_results=n)\n",
    "        for tweet in response.data:\n",
    "            tweets.append(tweet.text)\n",
    "    return tweets"
   ]
  },
  {
   "cell_type": "code",
   "execution_count": null,
   "id": "4070bbeb",
   "metadata": {},
   "outputs": [],
   "source": [
    "tweets = get_tweets(accounts, 10)"
   ]
  },
  {
   "cell_type": "code",
   "execution_count": null,
   "id": "8f517649-b52f-4bca-a2fc-c8d981732cb2",
   "metadata": {},
   "outputs": [],
   "source": [
    "tokenized_words = []\n",
    "def lemmatize_stemming(text):\n",
    "    return WordNetLemmatizer().lemmatize(text, pos='v')\n",
    "\n",
    "for tweet in tweets:\n",
    "    new_tweet = tweet[:tweet.index('http')] if 'http' in tweet else tweet\n",
    "    new_tweet = re.sub(r'[^a-zA-Z ]+', '', new_tweet)\n",
    "    tokens = word_tokenize(new_tweet)\n",
    "    remove_stopwords = [lemmatize_stemming(t.lower()) for t in tokens if not t in STOPWORDS and not t in string.punctuation and len(t) > 2]\n",
    "    tokenized_words.append(\",\".join(remove_stopwords))"
   ]
  },
  {
   "cell_type": "code",
   "execution_count": null,
   "id": "dae6ffd6-f1a1-4e0e-bd48-b290cfdd3936",
   "metadata": {},
   "outputs": [],
   "source": [
    "tokenized_words[:10"
   ]
  }
 ],
 "metadata": {
  "kernelspec": {
   "display_name": "Python 3",
   "language": "python",
   "name": "python3"
  },
  "language_info": {
   "codemirror_mode": {
    "name": "ipython",
    "version": 3
   },
   "file_extension": ".py",
   "mimetype": "text/x-python",
   "name": "python",
   "nbconvert_exporter": "python",
   "pygments_lexer": "ipython3",
   "version": "3.9.5"
  }
 },
 "nbformat": 4,
 "nbformat_minor": 5
}
