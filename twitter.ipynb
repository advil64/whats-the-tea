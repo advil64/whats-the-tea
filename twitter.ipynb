{
 "cells": [
  {
   "cell_type": "code",
   "execution_count": null,
   "id": "656c8946",
   "metadata": {},
   "outputs": [],
   "source": [
    "from dotenv import load_dotenv\n",
    "from gensim.parsing.preprocessing import STOPWORDS\n",
    "from nltk.stem import WordNetLemmatizer, SnowballStemmer\n",
    "from nltk.stem.porter import *\n",
    "from nltk.tokenize import word_tokenize\n",
    "from pyspark.ml.clustering import KMeans, KMeansModel\n",
    "from pyspark.ml.feature import Word2Vec, Word2VecModel\n",
    "import gensim\n",
    "import nltk\n",
    "import os\n",
    "import sparknlp\n",
    "import string\n",
    "import tweepy\n",
    "from pyspark.sql.types import *\n",
    "from pyspark.sql import functions as F\n",
    "import plotly.express as px\n",
    "import plotly\n",
    "\n",
    "nltk.download('wordnet')"
   ]
  },
  {
   "cell_type": "code",
   "execution_count": 3,
   "id": "5638b06c-1c5f-4cc6-aaad-a42529c4e1e6",
   "metadata": {},
   "outputs": [
    {
     "name": "stdout",
     "output_type": "stream",
     "text": [
      "Defaulting to user installation because normal site-packages is not writeable\n",
      "Collecting tweepy\n",
      "  Downloading tweepy-4.12.0-py3-none-any.whl (101 kB)\n",
      "\u001b[K     |████████████████████████████████| 101 kB 3.9 MB/s eta 0:00:01\n",
      "\u001b[?25hRequirement already satisfied: requests<3,>=2.27.0 in /usr/lib/anaconda3/lib/python3.9/site-packages (from tweepy) (2.27.1)\n",
      "Collecting requests-oauthlib<2,>=1.2.0\n",
      "  Downloading requests_oauthlib-1.3.1-py2.py3-none-any.whl (23 kB)\n",
      "Requirement already satisfied: oauthlib<4,>=3.2.0 in /usr/lib/anaconda3/lib/python3.9/site-packages (from tweepy) (3.2.0)\n",
      "Requirement already satisfied: urllib3<1.27,>=1.21.1 in /usr/lib/anaconda3/lib/python3.9/site-packages (from requests<3,>=2.27.0->tweepy) (1.26.9)\n",
      "Requirement already satisfied: certifi>=2017.4.17 in /usr/lib/anaconda3/lib/python3.9/site-packages (from requests<3,>=2.27.0->tweepy) (2021.10.8)\n",
      "Requirement already satisfied: idna<4,>=2.5 in /usr/lib/anaconda3/lib/python3.9/site-packages (from requests<3,>=2.27.0->tweepy) (3.3)\n",
      "Requirement already satisfied: charset-normalizer~=2.0.0 in /usr/lib/anaconda3/lib/python3.9/site-packages (from requests<3,>=2.27.0->tweepy) (2.0.4)\n",
      "Installing collected packages: requests-oauthlib, tweepy\n",
      "Successfully installed requests-oauthlib-1.3.1 tweepy-4.12.0\n"
     ]
    }
   ],
   "source": [
    "!pip3 install tweepy"
   ]
  },
  {
   "cell_type": "code",
   "execution_count": 5,
   "id": "0accde12",
   "metadata": {},
   "outputs": [
    {
     "data": {
      "text/plain": [
       "True"
      ]
     },
     "execution_count": 5,
     "metadata": {},
     "output_type": "execute_result"
    }
   ],
   "source": [
    "load_dotenv()"
   ]
  },
  {
   "cell_type": "code",
   "execution_count": 6,
   "id": "d9691f7a",
   "metadata": {},
   "outputs": [],
   "source": [
    "bearer_token = os.environ.get('bearer_token')\n",
    "consumer_key = os.environ.get('consumer_key')\n",
    "consumer_secret = os.environ.get('consumer_secret')\n",
    "access_token = os.environ.get('access_token')\n",
    "access_token_secret = os.environ.get('access_token_secret')"
   ]
  },
  {
   "cell_type": "code",
   "execution_count": 7,
   "id": "2d8a8db6",
   "metadata": {},
   "outputs": [],
   "source": [
    "client = tweepy.Client(\n",
    "    bearer_token=bearer_token,\n",
    "    consumer_key=consumer_key,\n",
    "    consumer_secret=consumer_secret,\n",
    "    access_token=access_token,\n",
    "    access_token_secret=access_token_secret,\n",
    ")"
   ]
  },
  {
   "cell_type": "code",
   "execution_count": 10,
   "id": "0cb23f49",
   "metadata": {},
   "outputs": [],
   "source": [
    "# Get a handles Twitter ID from https://tweeterid.com/\n",
    "accounts = [\n",
    "    {\n",
    "        'handle': 'cnnbrk',\n",
    "        'id': 428333\n",
    "    },\n",
    "    {\n",
    "        'handle': 'CNN',\n",
    "        'id': 759251\n",
    "    },\n",
    "    {\n",
    "        'handle': 'nytimes',\n",
    "        'id': 807095\n",
    "    },\n",
    "    {\n",
    "        'handle': 'BBCBreaking',\n",
    "        'id': 5402612\n",
    "    },\n",
    "    {\n",
    "        'handle': 'BBCWorld',\n",
    "        'id': 742143\n",
    "    },\n",
    "    {\n",
    "        'handle': 'TheEconomist',\n",
    "        'id': 5988062\n",
    "    },\n",
    "    {\n",
    "        'handle': 'WSJ',\n",
    "        'id': 3108351\n",
    "    },\n",
    "    {\n",
    "        'handle': 'washingtonpost',\n",
    "        'id': 2467791\n",
    "    },\n",
    "    {\n",
    "        'handle': 'TIME',\n",
    "        'id': 14293310\n",
    "    },\n",
    "    {\n",
    "        'handle': 'ABC',\n",
    "        'id': 28785486\n",
    "    },\n",
    "    {\n",
    "        'handle': 'ndtv',\n",
    "        'id': 37034483\n",
    "    },\n",
    "    {\n",
    "        'handle': 'AP',\n",
    "        'id': 51241574\n",
    "    },\n",
    "    {\n",
    "        'handle': 'XHNews',\n",
    "        'id': 487118986\n",
    "    },\n",
    "    {\n",
    "        'handle': 'HuffPost',\n",
    "        'id': 14511951\n",
    "    },\n",
    "    {\n",
    "        'handle': 'guardian',\n",
    "        'id': 87818409\n",
    "    },\n",
    "    {\n",
    "        'handle': 'BreakingNews',\n",
    "        'id': 6017542\n",
    "    },\n",
    "    {\n",
    "        'handle': 'SkyNews',\n",
    "        'id': 7587032\n",
    "    },\n",
    "    {\n",
    "        'handle': 'AJEnglish',\n",
    "        'id': 4970411\n",
    "    },\n",
    "    {\n",
    "        'handle': 'FT',\n",
    "        'id': 18949452\n",
    "    },\n",
    "    {\n",
    "        'handle': 'SkyNewsBreak',\n",
    "        'id': 87416722\n",
    "    },\n",
    "    {\n",
    "        'handle': 'politico',\n",
    "        'id': 9300262\n",
    "    },\n",
    "    {\n",
    "        'handle': 'CNBC',\n",
    "        'id': 20402945\n",
    "    },\n",
    "    {\n",
    "        'handle': 'FRANCE24',\n",
    "        'id': 1994321\n",
    "    },\n",
    "    {\n",
    "        'handle': 'guardiannews',\n",
    "        'id': 788524\n",
    "    },\n",
    "    {\n",
    "        'handle': 'Independent',\n",
    "        'id': 16973333\n",
    "    },\n",
    "    {\n",
    "        'handle': 'BBCAfrica',\n",
    "        'id': 36670025\n",
    "    },\n",
    "    {\n",
    "        'handle': 'Newsweek',\n",
    "        'id': 2884771\n",
    "    },\n",
    "    {\n",
    "        'handle': 'Telegraph',\n",
    "        'id': 16343974\n",
    "    },\n",
    "    {\n",
    "        'handle': 'RT_com',\n",
    "        'id': 64643056\n",
    "    },\n",
    "    {\n",
    "        'handle': 'CBCNews',\n",
    "        'id': 6433472\n",
    "    },\n",
    "    {\n",
    "        'handle': 'FinancialTimes',\n",
    "        'id': 4898091\n",
    "    },\n",
    "    {\n",
    "        'handle': 'Reuters',\n",
    "        'id': 1652541\n",
    "    },\n",
    "    {\n",
    "        'handle': 'SportsCenter',\n",
    "        'id': 26257166\n",
    "    },\n",
    "    {\n",
    "        'handle': 'espn',\n",
    "        'id': 2557521\n",
    "    }\n",
    "]"
   ]
  },
  {
   "cell_type": "code",
   "execution_count": 95,
   "id": "533d9745",
   "metadata": {},
   "outputs": [],
   "source": [
    "def get_tweets(accounts, n):\n",
    "    tweets = []\n",
    "    for account in accounts:\n",
    "        response = client.get_users_tweets(account['id'], max_results=n)\n",
    "        for tweet in response.data:\n",
    "            tweets.append(tweet.text)\n",
    "    return tweets"
   ]
  },
  {
   "cell_type": "code",
   "execution_count": 96,
   "id": "4070bbeb",
   "metadata": {},
   "outputs": [],
   "source": [
    "tweets = get_tweets(accounts, 10)"
   ]
  },
  {
   "cell_type": "code",
   "execution_count": 97,
   "id": "a006e171-3186-4abc-980f-757953b1243d",
   "metadata": {},
   "outputs": [
    {
     "data": {
      "text/plain": [
       "340"
      ]
     },
     "execution_count": 97,
     "metadata": {},
     "output_type": "execute_result"
    }
   ],
   "source": [
    "len(tweets)"
   ]
  },
  {
   "cell_type": "code",
   "execution_count": 98,
   "id": "8f517649-b52f-4bca-a2fc-c8d981732cb2",
   "metadata": {},
   "outputs": [],
   "source": [
    "tokenized_words = []\n",
    "def lemmatize_stemming(text):\n",
    "    return WordNetLemmatizer().lemmatize(text, pos='v')\n",
    "\n",
    "for tweet in tweets:\n",
    "    new_tweet = tweet[:tweet.index('http')] if 'http' in tweet else tweet\n",
    "    new_tweet = re.sub(r'[^a-zA-Z ]+', '', new_tweet)\n",
    "    tokens = word_tokenize(new_tweet)\n",
    "    remove_stopwords = [lemmatize_stemming(t.lower()) for t in tokens if not t in STOPWORDS and not t in string.punctuation and len(t) > 2]\n",
    "    tokenized_words.append(\",\".join(remove_stopwords))"
   ]
  },
  {
   "cell_type": "code",
   "execution_count": 100,
   "id": "3d6af5f3-637f-4800-a530-b1b225761e33",
   "metadata": {},
   "outputs": [],
   "source": [
    "schema = StringType()\n",
    "tokenized_words_df = spark.createDataFrame(tokenized_words, schema=schema)"
   ]
  },
  {
   "cell_type": "code",
   "execution_count": 101,
   "id": "4a1dc55f-13a6-4d3f-83e1-02a9f09e0ab3",
   "metadata": {},
   "outputs": [],
   "source": [
    "tokenized_words_df = tokenized_words_df.withColumn(\"cleaned_text\", F.split(F.col(\"value\"), \",\"))"
   ]
  },
  {
   "cell_type": "code",
   "execution_count": 102,
   "id": "d8afc49a-32fd-466b-93ed-013759fb385d",
   "metadata": {},
   "outputs": [
    {
     "name": "stdout",
     "output_type": "stream",
     "text": [
      "+--------------------+--------------------+\n",
      "|               value|        cleaned_text|\n",
      "+--------------------+--------------------+\n",
      "|paul,pelosi,husba...|[paul, pelosi, hu...|\n",
      "|the,fbi,issue,war...|[the, fbi, issue,...|\n",
      "|bank,england,rais...|[bank, england, r...|\n",
      "|pakistans,exprime...|[pakistans, expri...|\n",
      "|judge,formally,se...|[judge, formally,...|\n",
      "|the,feed,make,his...|[the, feed, make,...|\n",
      "|trump,lawyers,saw...|[trump, lawyers, ...|\n",
      "|russia,say,resume...|[russia, say, res...|\n",
      "|cvs,walgreens,wal...|[cvs, walgreens, ...|\n",
      "|man,accuse,attack...|[man, accuse, att...|\n",
      "|turn,people,prono...|[turn, people, pr...|\n",
      "|the,country,star,...|[the, country, st...|\n",
      "|fight,leave,thous...|[fight, leave, th...|\n",
      "|the,end,come,litt...|[the, end, come, ...|\n",
      "|all,allege,member...|[all, allege, mem...|\n",
      "|who,favorite,cnn,...|[who, favorite, c...|\n",
      "|russian,flag,sign...|[russian, flag, s...|\n",
      "|more,cheese,count...|[more, cheese, co...|\n",
      "|elections,officia...|[elections, offic...|\n",
      "|rumor,adele,isnt,...|[rumor, adele, is...|\n",
      "+--------------------+--------------------+\n",
      "only showing top 20 rows\n",
      "\n"
     ]
    }
   ],
   "source": [
    "tokenized_words_df.show()"
   ]
  },
  {
   "cell_type": "code",
   "execution_count": 44,
   "id": "3f5e4773-491f-49f2-95c2-f6efa1bbcdb2",
   "metadata": {},
   "outputs": [],
   "source": [
    "word2vec_model = Word2VecModel.load('/common/users/shared/cs543_fall22_group3/models/word2vec')"
   ]
  },
  {
   "cell_type": "code",
   "execution_count": 103,
   "id": "98892605-0104-44ab-8362-c2711fb84b60",
   "metadata": {},
   "outputs": [],
   "source": [
    "result = word2vec_model.transform(tokenized_words_df.drop('value'))"
   ]
  },
  {
   "cell_type": "code",
   "execution_count": 104,
   "id": "1f99fd77-cb5b-44ae-8e30-f73bcf31b8cb",
   "metadata": {},
   "outputs": [
    {
     "name": "stdout",
     "output_type": "stream",
     "text": [
      "+--------------------+--------------------+\n",
      "|        cleaned_text|      output_vectors|\n",
      "+--------------------+--------------------+\n",
      "|[paul, pelosi, hu...|[-0.0821658222652...|\n",
      "|[the, fbi, issue,...|[-0.1995822859462...|\n",
      "|[bank, england, r...|[-0.4200996284683...|\n",
      "|[pakistans, expri...|[-0.0837285531684...|\n",
      "|[judge, formally,...|[-0.0451845757042...|\n",
      "|[the, feed, make,...|[-0.4107314121133...|\n",
      "|[trump, lawyers, ...|[-0.2577153867931...|\n",
      "|[russia, say, res...|[-0.4622900021763...|\n",
      "|[cvs, walgreens, ...|[-0.4418119501322...|\n",
      "|[man, accuse, att...|[-0.0433448063319...|\n",
      "|[turn, people, pr...|[0.06139186955988...|\n",
      "|[the, country, st...|[-0.0662172051767...|\n",
      "|[fight, leave, th...|[-0.1190094788942...|\n",
      "|[the, end, come, ...|[-0.098559905278186]|\n",
      "|[all, allege, mem...|[-0.0575746349835...|\n",
      "|[who, favorite, c...|[-0.0398816628148...|\n",
      "|[russian, flag, s...|[-0.1780601602402...|\n",
      "|[more, cheese, co...|[-0.0352580488958...|\n",
      "|[elections, offic...|[-0.1379379596222...|\n",
      "|[rumor, adele, is...|[0.1955163978899901]|\n",
      "+--------------------+--------------------+\n",
      "only showing top 20 rows\n",
      "\n"
     ]
    }
   ],
   "source": [
    "result.show()"
   ]
  },
  {
   "cell_type": "code",
   "execution_count": 47,
   "id": "23def4c2-cb46-4c93-b552-4edd83653245",
   "metadata": {},
   "outputs": [],
   "source": [
    "model = KMeansModel.load('/common/users/shared/cs543_fall22_group3/models/k_means')"
   ]
  },
  {
   "cell_type": "code",
   "execution_count": 105,
   "id": "b480a249-7b53-4706-88e2-912caf71adfe",
   "metadata": {},
   "outputs": [
    {
     "data": {
      "text/plain": [
       "KMeansModel: uid=KMeans_8db78f979b9c, k=5, distanceMeasure=euclidean, numFeatures=1"
      ]
     },
     "execution_count": 105,
     "metadata": {},
     "output_type": "execute_result"
    }
   ],
   "source": [
    "model.setPredictionCol(\"newPrediction\")"
   ]
  },
  {
   "cell_type": "code",
   "execution_count": 106,
   "id": "d84df9c7-962b-46a3-b0d3-a3a09d8ca3e4",
   "metadata": {},
   "outputs": [],
   "source": [
    "result = result.withColumn('features', F.col(\"output_vectors\"))"
   ]
  },
  {
   "cell_type": "code",
   "execution_count": 107,
   "id": "6df00b97-0455-4e95-81e5-22bc3c026447",
   "metadata": {},
   "outputs": [],
   "source": [
    "transformed = model.transform(result)"
   ]
  },
  {
   "cell_type": "code",
   "execution_count": 108,
   "id": "f3d13adc-397f-4dc2-a8de-8ed668f57263",
   "metadata": {},
   "outputs": [],
   "source": [
    "all_transformed = transformed.toPandas()"
   ]
  },
  {
   "cell_type": "code",
   "execution_count": 109,
   "id": "ec016624-0880-4938-bfcd-1d4a42f6f441",
   "metadata": {},
   "outputs": [
    {
     "data": {
      "text/html": [
       "<div>\n",
       "<style scoped>\n",
       "    .dataframe tbody tr th:only-of-type {\n",
       "        vertical-align: middle;\n",
       "    }\n",
       "\n",
       "    .dataframe tbody tr th {\n",
       "        vertical-align: top;\n",
       "    }\n",
       "\n",
       "    .dataframe thead th {\n",
       "        text-align: right;\n",
       "    }\n",
       "</style>\n",
       "<table border=\"1\" class=\"dataframe\">\n",
       "  <thead>\n",
       "    <tr style=\"text-align: right;\">\n",
       "      <th></th>\n",
       "      <th>cleaned_text</th>\n",
       "      <th>output_vectors</th>\n",
       "      <th>features</th>\n",
       "      <th>newPrediction</th>\n",
       "    </tr>\n",
       "  </thead>\n",
       "  <tbody>\n",
       "    <tr>\n",
       "      <th>0</th>\n",
       "      <td>[paul, pelosi, husband, house, speaker, nancy,...</td>\n",
       "      <td>[-0.08216582226526478]</td>\n",
       "      <td>[-0.08216582226526478]</td>\n",
       "      <td>2</td>\n",
       "    </tr>\n",
       "    <tr>\n",
       "      <th>1</th>\n",
       "      <td>[the, fbi, issue, warn, receive, credible, inf...</td>\n",
       "      <td>[-0.19958228594623506]</td>\n",
       "      <td>[-0.19958228594623506]</td>\n",
       "      <td>2</td>\n",
       "    </tr>\n",
       "    <tr>\n",
       "      <th>2</th>\n",
       "      <td>[bank, england, raise, rat, percentage, point,...</td>\n",
       "      <td>[-0.4200996284683545]</td>\n",
       "      <td>[-0.4200996284683545]</td>\n",
       "      <td>1</td>\n",
       "    </tr>\n",
       "    <tr>\n",
       "      <th>3</th>\n",
       "      <td>[pakistans, exprime, minister, imran, khan, in...</td>\n",
       "      <td>[-0.08372855316847563]</td>\n",
       "      <td>[-0.08372855316847563]</td>\n",
       "      <td>2</td>\n",
       "    </tr>\n",
       "    <tr>\n",
       "      <th>4</th>\n",
       "      <td>[judge, formally, sentence, parkland, school, ...</td>\n",
       "      <td>[-0.045184575704236826]</td>\n",
       "      <td>[-0.045184575704236826]</td>\n",
       "      <td>2</td>\n",
       "    </tr>\n",
       "  </tbody>\n",
       "</table>\n",
       "</div>"
      ],
      "text/plain": [
       "                                        cleaned_text           output_vectors  \\\n",
       "0  [paul, pelosi, husband, house, speaker, nancy,...   [-0.08216582226526478]   \n",
       "1  [the, fbi, issue, warn, receive, credible, inf...   [-0.19958228594623506]   \n",
       "2  [bank, england, raise, rat, percentage, point,...    [-0.4200996284683545]   \n",
       "3  [pakistans, exprime, minister, imran, khan, in...   [-0.08372855316847563]   \n",
       "4  [judge, formally, sentence, parkland, school, ...  [-0.045184575704236826]   \n",
       "\n",
       "                  features  newPrediction  \n",
       "0   [-0.08216582226526478]              2  \n",
       "1   [-0.19958228594623506]              2  \n",
       "2    [-0.4200996284683545]              1  \n",
       "3   [-0.08372855316847563]              2  \n",
       "4  [-0.045184575704236826]              2  "
      ]
     },
     "execution_count": 109,
     "metadata": {},
     "output_type": "execute_result"
    }
   ],
   "source": [
    "all_transformed.head()"
   ]
  },
  {
   "cell_type": "code",
   "execution_count": 67,
   "id": "b118ebbc-a116-4e95-87d6-47c790eec4ad",
   "metadata": {},
   "outputs": [],
   "source": [
    "mappings = { \n",
    "0:'pop culture',\n",
    "1:'finance',\n",
    "2:'politics',\n",
    "3:'breaking news',\n",
    "4:'sports/entertainment'}"
   ]
  },
  {
   "cell_type": "code",
   "execution_count": 110,
   "id": "a124a616-feaa-44ff-a4d6-5a41f21ed9d9",
   "metadata": {},
   "outputs": [],
   "source": [
    "prediction_topics = all_transformed.apply(lambda x: mappings[x[3]], axis=1)"
   ]
  },
  {
   "cell_type": "code",
   "execution_count": 111,
   "id": "7e729359-4b03-4281-9fea-57f66828dd07",
   "metadata": {},
   "outputs": [
    {
     "data": {
      "text/plain": [
       "0                  politics\n",
       "1                  politics\n",
       "2                   finance\n",
       "3                  politics\n",
       "4                  politics\n",
       "               ...         \n",
       "335                politics\n",
       "336             pop culture\n",
       "337    sports/entertainment\n",
       "338                politics\n",
       "339             pop culture\n",
       "Length: 340, dtype: object"
      ]
     },
     "execution_count": 111,
     "metadata": {},
     "output_type": "execute_result"
    }
   ],
   "source": [
    "prediction_topics"
   ]
  },
  {
   "cell_type": "code",
   "execution_count": 112,
   "id": "eee4468a-413e-4b5b-90c5-a967f3716f4f",
   "metadata": {},
   "outputs": [],
   "source": [
    "all_transformed['prediction_topics'] = prediction_topics"
   ]
  },
  {
   "cell_type": "code",
   "execution_count": 117,
   "id": "6f6b946d-9e89-4fe2-818e-222dd954f466",
   "metadata": {},
   "outputs": [],
   "source": [
    "all_transformed = all_transformed.drop('output_vectors', axis=1)"
   ]
  },
  {
   "cell_type": "code",
   "execution_count": 118,
   "id": "5c509455-5c08-402b-8e7c-13b05c4a3006",
   "metadata": {},
   "outputs": [
    {
     "data": {
      "text/html": [
       "<div>\n",
       "<style scoped>\n",
       "    .dataframe tbody tr th:only-of-type {\n",
       "        vertical-align: middle;\n",
       "    }\n",
       "\n",
       "    .dataframe tbody tr th {\n",
       "        vertical-align: top;\n",
       "    }\n",
       "\n",
       "    .dataframe thead th {\n",
       "        text-align: right;\n",
       "    }\n",
       "</style>\n",
       "<table border=\"1\" class=\"dataframe\">\n",
       "  <thead>\n",
       "    <tr style=\"text-align: right;\">\n",
       "      <th></th>\n",
       "      <th>cleaned_text</th>\n",
       "      <th>features</th>\n",
       "      <th>newPrediction</th>\n",
       "      <th>prediction_topics</th>\n",
       "    </tr>\n",
       "  </thead>\n",
       "  <tbody>\n",
       "    <tr>\n",
       "      <th>0</th>\n",
       "      <td>[paul, pelosi, husband, house, speaker, nancy,...</td>\n",
       "      <td>[-0.08216582226526478]</td>\n",
       "      <td>2</td>\n",
       "      <td>politics</td>\n",
       "    </tr>\n",
       "    <tr>\n",
       "      <th>1</th>\n",
       "      <td>[the, fbi, issue, warn, receive, credible, inf...</td>\n",
       "      <td>[-0.19958228594623506]</td>\n",
       "      <td>2</td>\n",
       "      <td>politics</td>\n",
       "    </tr>\n",
       "    <tr>\n",
       "      <th>2</th>\n",
       "      <td>[bank, england, raise, rat, percentage, point,...</td>\n",
       "      <td>[-0.4200996284683545]</td>\n",
       "      <td>1</td>\n",
       "      <td>finance</td>\n",
       "    </tr>\n",
       "    <tr>\n",
       "      <th>3</th>\n",
       "      <td>[pakistans, exprime, minister, imran, khan, in...</td>\n",
       "      <td>[-0.08372855316847563]</td>\n",
       "      <td>2</td>\n",
       "      <td>politics</td>\n",
       "    </tr>\n",
       "    <tr>\n",
       "      <th>4</th>\n",
       "      <td>[judge, formally, sentence, parkland, school, ...</td>\n",
       "      <td>[-0.045184575704236826]</td>\n",
       "      <td>2</td>\n",
       "      <td>politics</td>\n",
       "    </tr>\n",
       "    <tr>\n",
       "      <th>...</th>\n",
       "      <td>...</td>\n",
       "      <td>...</td>\n",
       "      <td>...</td>\n",
       "      <td>...</td>\n",
       "    </tr>\n",
       "    <tr>\n",
       "      <th>335</th>\n",
       "      <td>[break, jam, harden, suffer, right, foot, tend...</td>\n",
       "      <td>[-0.03340898241315569]</td>\n",
       "      <td>2</td>\n",
       "      <td>politics</td>\n",
       "    </tr>\n",
       "    <tr>\n",
       "      <th>336</th>\n",
       "      <td>[espnfc, alejandro, garnacho, ronaldos, celebr...</td>\n",
       "      <td>[0.09688764677516051]</td>\n",
       "      <td>0</td>\n",
       "      <td>pop culture</td>\n",
       "    </tr>\n",
       "    <tr>\n",
       "      <th>337</th>\n",
       "      <td>[point, game, connor, mcdavid, leon, draisaitl...</td>\n",
       "      <td>[0.40260385908186436]</td>\n",
       "      <td>4</td>\n",
       "      <td>sports/entertainment</td>\n",
       "    </tr>\n",
       "    <tr>\n",
       "      <th>338</th>\n",
       "      <td>[psychologist, spur, file, lawsuit, thursday, ...</td>\n",
       "      <td>[-0.1425443911658866]</td>\n",
       "      <td>2</td>\n",
       "      <td>politics</td>\n",
       "    </tr>\n",
       "    <tr>\n",
       "      <th>339</th>\n",
       "      <td>[commissioner, adam, silver, release, statemen...</td>\n",
       "      <td>[0.02999153733253479]</td>\n",
       "      <td>0</td>\n",
       "      <td>pop culture</td>\n",
       "    </tr>\n",
       "  </tbody>\n",
       "</table>\n",
       "<p>340 rows × 4 columns</p>\n",
       "</div>"
      ],
      "text/plain": [
       "                                          cleaned_text  \\\n",
       "0    [paul, pelosi, husband, house, speaker, nancy,...   \n",
       "1    [the, fbi, issue, warn, receive, credible, inf...   \n",
       "2    [bank, england, raise, rat, percentage, point,...   \n",
       "3    [pakistans, exprime, minister, imran, khan, in...   \n",
       "4    [judge, formally, sentence, parkland, school, ...   \n",
       "..                                                 ...   \n",
       "335  [break, jam, harden, suffer, right, foot, tend...   \n",
       "336  [espnfc, alejandro, garnacho, ronaldos, celebr...   \n",
       "337  [point, game, connor, mcdavid, leon, draisaitl...   \n",
       "338  [psychologist, spur, file, lawsuit, thursday, ...   \n",
       "339  [commissioner, adam, silver, release, statemen...   \n",
       "\n",
       "                    features  newPrediction     prediction_topics  \n",
       "0     [-0.08216582226526478]              2              politics  \n",
       "1     [-0.19958228594623506]              2              politics  \n",
       "2      [-0.4200996284683545]              1               finance  \n",
       "3     [-0.08372855316847563]              2              politics  \n",
       "4    [-0.045184575704236826]              2              politics  \n",
       "..                       ...            ...                   ...  \n",
       "335   [-0.03340898241315569]              2              politics  \n",
       "336    [0.09688764677516051]              0           pop culture  \n",
       "337    [0.40260385908186436]              4  sports/entertainment  \n",
       "338    [-0.1425443911658866]              2              politics  \n",
       "339    [0.02999153733253479]              0           pop culture  \n",
       "\n",
       "[340 rows x 4 columns]"
      ]
     },
     "execution_count": 118,
     "metadata": {},
     "output_type": "execute_result"
    }
   ],
   "source": [
    "all_transformed"
   ]
  },
  {
   "cell_type": "code",
   "execution_count": 115,
   "id": "019ac1d8-2562-4720-8e7b-6af9afb5f3c8",
   "metadata": {},
   "outputs": [
    {
     "data": {
      "application/vnd.plotly.v1+json": {
       "config": {
        "plotlyServerURL": "https://plot.ly"
       },
       "data": [
        {
         "alignmentgroup": "True",
         "bingroup": "x",
         "hovertemplate": "prediction_topics=%{x}<br>count=%{y}<extra></extra>",
         "legendgroup": "",
         "marker": {
          "color": "#636efa"
         },
         "name": "",
         "offsetgroup": "",
         "orientation": "v",
         "showlegend": false,
         "type": "histogram",
         "x": [
          "politics",
          "politics",
          "finance",
          "politics",
          "politics",
          "finance",
          "finance",
          "breaking news",
          "finance",
          "politics",
          "pop culture",
          "politics",
          "politics",
          "politics",
          "politics",
          "politics",
          "politics",
          "politics",
          "politics",
          "sports/entertainment",
          "politics",
          "pop culture",
          "finance",
          "politics",
          "politics",
          "politics",
          "politics",
          "politics",
          "politics",
          "pop culture",
          "politics",
          "politics",
          "breaking news",
          "politics",
          "finance",
          "politics",
          "sports/entertainment",
          "pop culture",
          "breaking news",
          "finance",
          "finance",
          "politics",
          "politics",
          "politics",
          "politics",
          "finance",
          "politics",
          "breaking news",
          "finance",
          "pop culture",
          "politics",
          "pop culture",
          "finance",
          "politics",
          "politics",
          "finance",
          "pop culture",
          "finance",
          "pop culture",
          "politics",
          "pop culture",
          "pop culture",
          "finance",
          "politics",
          "politics",
          "pop culture",
          "finance",
          "finance",
          "finance",
          "sports/entertainment",
          "politics",
          "politics",
          "politics",
          "breaking news",
          "politics",
          "politics",
          "politics",
          "finance",
          "pop culture",
          "pop culture",
          "pop culture",
          "politics",
          "politics",
          "pop culture",
          "politics",
          "finance",
          "finance",
          "politics",
          "politics",
          "pop culture",
          "pop culture",
          "politics",
          "finance",
          "finance",
          "pop culture",
          "pop culture",
          "politics",
          "pop culture",
          "finance",
          "politics",
          "pop culture",
          "sports/entertainment",
          "politics",
          "politics",
          "finance",
          "politics",
          "finance",
          "finance",
          "politics",
          "politics",
          "pop culture",
          "finance",
          "finance",
          "pop culture",
          "politics",
          "politics",
          "finance",
          "sports/entertainment",
          "politics",
          "pop culture",
          "breaking news",
          "politics",
          "finance",
          "finance",
          "breaking news",
          "finance",
          "pop culture",
          "politics",
          "finance",
          "politics",
          "politics",
          "pop culture",
          "sports/entertainment",
          "politics",
          "pop culture",
          "politics",
          "pop culture",
          "pop culture",
          "politics",
          "politics",
          "politics",
          "pop culture",
          "sports/entertainment",
          "sports/entertainment",
          "sports/entertainment",
          "pop culture",
          "finance",
          "politics",
          "pop culture",
          "politics",
          "pop culture",
          "politics",
          "politics",
          "pop culture",
          "breaking news",
          "politics",
          "pop culture",
          "finance",
          "finance",
          "pop culture",
          "politics",
          "finance",
          "sports/entertainment",
          "politics",
          "politics",
          "politics",
          "politics",
          "pop culture",
          "politics",
          "politics",
          "breaking news",
          "sports/entertainment",
          "finance",
          "politics",
          "politics",
          "sports/entertainment",
          "politics",
          "politics",
          "pop culture",
          "politics",
          "breaking news",
          "breaking news",
          "breaking news",
          "finance",
          "politics",
          "politics",
          "finance",
          "breaking news",
          "finance",
          "politics",
          "politics",
          "politics",
          "pop culture",
          "finance",
          "politics",
          "politics",
          "politics",
          "politics",
          "finance",
          "finance",
          "finance",
          "politics",
          "finance",
          "finance",
          "politics",
          "finance",
          "politics",
          "politics",
          "finance",
          "politics",
          "politics",
          "finance",
          "breaking news",
          "finance",
          "finance",
          "sports/entertainment",
          "finance",
          "breaking news",
          "pop culture",
          "finance",
          "finance",
          "finance",
          "politics",
          "finance",
          "politics",
          "politics",
          "politics",
          "pop culture",
          "politics",
          "politics",
          "politics",
          "pop culture",
          "politics",
          "politics",
          "sports/entertainment",
          "pop culture",
          "sports/entertainment",
          "finance",
          "sports/entertainment",
          "finance",
          "politics",
          "politics",
          "pop culture",
          "sports/entertainment",
          "sports/entertainment",
          "sports/entertainment",
          "politics",
          "sports/entertainment",
          "pop culture",
          "pop culture",
          "politics",
          "breaking news",
          "politics",
          "politics",
          "pop culture",
          "politics",
          "politics",
          "pop culture",
          "politics",
          "politics",
          "finance",
          "finance",
          "pop culture",
          "pop culture",
          "finance",
          "politics",
          "politics",
          "finance",
          "politics",
          "politics",
          "politics",
          "pop culture",
          "pop culture",
          "politics",
          "pop culture",
          "politics",
          "politics",
          "politics",
          "politics",
          "politics",
          "finance",
          "politics",
          "politics",
          "finance",
          "politics",
          "politics",
          "finance",
          "breaking news",
          "finance",
          "finance",
          "breaking news",
          "finance",
          "finance",
          "politics",
          "finance",
          "finance",
          "finance",
          "finance",
          "pop culture",
          "politics",
          "politics",
          "politics",
          "finance",
          "politics",
          "finance",
          "finance",
          "finance",
          "finance",
          "finance",
          "finance",
          "breaking news",
          "politics",
          "finance",
          "finance",
          "sports/entertainment",
          "finance",
          "breaking news",
          "finance",
          "finance",
          "breaking news",
          "pop culture",
          "sports/entertainment",
          "pop culture",
          "politics",
          "politics",
          "politics",
          "pop culture",
          "sports/entertainment",
          "sports/entertainment",
          "pop culture",
          "pop culture",
          "pop culture",
          "pop culture",
          "pop culture",
          "pop culture",
          "politics",
          "pop culture",
          "sports/entertainment",
          "politics",
          "pop culture"
         ],
         "xaxis": "x",
         "yaxis": "y"
        }
       ],
       "layout": {
        "autosize": true,
        "barmode": "relative",
        "legend": {
         "tracegroupgap": 0
        },
        "margin": {
         "t": 60
        },
        "template": {
         "data": {
          "bar": [
           {
            "error_x": {
             "color": "#2a3f5f"
            },
            "error_y": {
             "color": "#2a3f5f"
            },
            "marker": {
             "line": {
              "color": "#E5ECF6",
              "width": 0.5
             }
            },
            "type": "bar"
           }
          ],
          "barpolar": [
           {
            "marker": {
             "line": {
              "color": "#E5ECF6",
              "width": 0.5
             }
            },
            "type": "barpolar"
           }
          ],
          "carpet": [
           {
            "aaxis": {
             "endlinecolor": "#2a3f5f",
             "gridcolor": "white",
             "linecolor": "white",
             "minorgridcolor": "white",
             "startlinecolor": "#2a3f5f"
            },
            "baxis": {
             "endlinecolor": "#2a3f5f",
             "gridcolor": "white",
             "linecolor": "white",
             "minorgridcolor": "white",
             "startlinecolor": "#2a3f5f"
            },
            "type": "carpet"
           }
          ],
          "choropleth": [
           {
            "colorbar": {
             "outlinewidth": 0,
             "ticks": ""
            },
            "type": "choropleth"
           }
          ],
          "contour": [
           {
            "colorbar": {
             "outlinewidth": 0,
             "ticks": ""
            },
            "colorscale": [
             [
              0,
              "#0d0887"
             ],
             [
              0.1111111111111111,
              "#46039f"
             ],
             [
              0.2222222222222222,
              "#7201a8"
             ],
             [
              0.3333333333333333,
              "#9c179e"
             ],
             [
              0.4444444444444444,
              "#bd3786"
             ],
             [
              0.5555555555555556,
              "#d8576b"
             ],
             [
              0.6666666666666666,
              "#ed7953"
             ],
             [
              0.7777777777777778,
              "#fb9f3a"
             ],
             [
              0.8888888888888888,
              "#fdca26"
             ],
             [
              1,
              "#f0f921"
             ]
            ],
            "type": "contour"
           }
          ],
          "contourcarpet": [
           {
            "colorbar": {
             "outlinewidth": 0,
             "ticks": ""
            },
            "type": "contourcarpet"
           }
          ],
          "heatmap": [
           {
            "colorbar": {
             "outlinewidth": 0,
             "ticks": ""
            },
            "colorscale": [
             [
              0,
              "#0d0887"
             ],
             [
              0.1111111111111111,
              "#46039f"
             ],
             [
              0.2222222222222222,
              "#7201a8"
             ],
             [
              0.3333333333333333,
              "#9c179e"
             ],
             [
              0.4444444444444444,
              "#bd3786"
             ],
             [
              0.5555555555555556,
              "#d8576b"
             ],
             [
              0.6666666666666666,
              "#ed7953"
             ],
             [
              0.7777777777777778,
              "#fb9f3a"
             ],
             [
              0.8888888888888888,
              "#fdca26"
             ],
             [
              1,
              "#f0f921"
             ]
            ],
            "type": "heatmap"
           }
          ],
          "heatmapgl": [
           {
            "colorbar": {
             "outlinewidth": 0,
             "ticks": ""
            },
            "colorscale": [
             [
              0,
              "#0d0887"
             ],
             [
              0.1111111111111111,
              "#46039f"
             ],
             [
              0.2222222222222222,
              "#7201a8"
             ],
             [
              0.3333333333333333,
              "#9c179e"
             ],
             [
              0.4444444444444444,
              "#bd3786"
             ],
             [
              0.5555555555555556,
              "#d8576b"
             ],
             [
              0.6666666666666666,
              "#ed7953"
             ],
             [
              0.7777777777777778,
              "#fb9f3a"
             ],
             [
              0.8888888888888888,
              "#fdca26"
             ],
             [
              1,
              "#f0f921"
             ]
            ],
            "type": "heatmapgl"
           }
          ],
          "histogram": [
           {
            "marker": {
             "colorbar": {
              "outlinewidth": 0,
              "ticks": ""
             }
            },
            "type": "histogram"
           }
          ],
          "histogram2d": [
           {
            "colorbar": {
             "outlinewidth": 0,
             "ticks": ""
            },
            "colorscale": [
             [
              0,
              "#0d0887"
             ],
             [
              0.1111111111111111,
              "#46039f"
             ],
             [
              0.2222222222222222,
              "#7201a8"
             ],
             [
              0.3333333333333333,
              "#9c179e"
             ],
             [
              0.4444444444444444,
              "#bd3786"
             ],
             [
              0.5555555555555556,
              "#d8576b"
             ],
             [
              0.6666666666666666,
              "#ed7953"
             ],
             [
              0.7777777777777778,
              "#fb9f3a"
             ],
             [
              0.8888888888888888,
              "#fdca26"
             ],
             [
              1,
              "#f0f921"
             ]
            ],
            "type": "histogram2d"
           }
          ],
          "histogram2dcontour": [
           {
            "colorbar": {
             "outlinewidth": 0,
             "ticks": ""
            },
            "colorscale": [
             [
              0,
              "#0d0887"
             ],
             [
              0.1111111111111111,
              "#46039f"
             ],
             [
              0.2222222222222222,
              "#7201a8"
             ],
             [
              0.3333333333333333,
              "#9c179e"
             ],
             [
              0.4444444444444444,
              "#bd3786"
             ],
             [
              0.5555555555555556,
              "#d8576b"
             ],
             [
              0.6666666666666666,
              "#ed7953"
             ],
             [
              0.7777777777777778,
              "#fb9f3a"
             ],
             [
              0.8888888888888888,
              "#fdca26"
             ],
             [
              1,
              "#f0f921"
             ]
            ],
            "type": "histogram2dcontour"
           }
          ],
          "mesh3d": [
           {
            "colorbar": {
             "outlinewidth": 0,
             "ticks": ""
            },
            "type": "mesh3d"
           }
          ],
          "parcoords": [
           {
            "line": {
             "colorbar": {
              "outlinewidth": 0,
              "ticks": ""
             }
            },
            "type": "parcoords"
           }
          ],
          "pie": [
           {
            "automargin": true,
            "type": "pie"
           }
          ],
          "scatter": [
           {
            "marker": {
             "colorbar": {
              "outlinewidth": 0,
              "ticks": ""
             }
            },
            "type": "scatter"
           }
          ],
          "scatter3d": [
           {
            "line": {
             "colorbar": {
              "outlinewidth": 0,
              "ticks": ""
             }
            },
            "marker": {
             "colorbar": {
              "outlinewidth": 0,
              "ticks": ""
             }
            },
            "type": "scatter3d"
           }
          ],
          "scattercarpet": [
           {
            "marker": {
             "colorbar": {
              "outlinewidth": 0,
              "ticks": ""
             }
            },
            "type": "scattercarpet"
           }
          ],
          "scattergeo": [
           {
            "marker": {
             "colorbar": {
              "outlinewidth": 0,
              "ticks": ""
             }
            },
            "type": "scattergeo"
           }
          ],
          "scattergl": [
           {
            "marker": {
             "colorbar": {
              "outlinewidth": 0,
              "ticks": ""
             }
            },
            "type": "scattergl"
           }
          ],
          "scattermapbox": [
           {
            "marker": {
             "colorbar": {
              "outlinewidth": 0,
              "ticks": ""
             }
            },
            "type": "scattermapbox"
           }
          ],
          "scatterpolar": [
           {
            "marker": {
             "colorbar": {
              "outlinewidth": 0,
              "ticks": ""
             }
            },
            "type": "scatterpolar"
           }
          ],
          "scatterpolargl": [
           {
            "marker": {
             "colorbar": {
              "outlinewidth": 0,
              "ticks": ""
             }
            },
            "type": "scatterpolargl"
           }
          ],
          "scatterternary": [
           {
            "marker": {
             "colorbar": {
              "outlinewidth": 0,
              "ticks": ""
             }
            },
            "type": "scatterternary"
           }
          ],
          "surface": [
           {
            "colorbar": {
             "outlinewidth": 0,
             "ticks": ""
            },
            "colorscale": [
             [
              0,
              "#0d0887"
             ],
             [
              0.1111111111111111,
              "#46039f"
             ],
             [
              0.2222222222222222,
              "#7201a8"
             ],
             [
              0.3333333333333333,
              "#9c179e"
             ],
             [
              0.4444444444444444,
              "#bd3786"
             ],
             [
              0.5555555555555556,
              "#d8576b"
             ],
             [
              0.6666666666666666,
              "#ed7953"
             ],
             [
              0.7777777777777778,
              "#fb9f3a"
             ],
             [
              0.8888888888888888,
              "#fdca26"
             ],
             [
              1,
              "#f0f921"
             ]
            ],
            "type": "surface"
           }
          ],
          "table": [
           {
            "cells": {
             "fill": {
              "color": "#EBF0F8"
             },
             "line": {
              "color": "white"
             }
            },
            "header": {
             "fill": {
              "color": "#C8D4E3"
             },
             "line": {
              "color": "white"
             }
            },
            "type": "table"
           }
          ]
         },
         "layout": {
          "annotationdefaults": {
           "arrowcolor": "#2a3f5f",
           "arrowhead": 0,
           "arrowwidth": 1
          },
          "autotypenumbers": "strict",
          "coloraxis": {
           "colorbar": {
            "outlinewidth": 0,
            "ticks": ""
           }
          },
          "colorscale": {
           "diverging": [
            [
             0,
             "#8e0152"
            ],
            [
             0.1,
             "#c51b7d"
            ],
            [
             0.2,
             "#de77ae"
            ],
            [
             0.3,
             "#f1b6da"
            ],
            [
             0.4,
             "#fde0ef"
            ],
            [
             0.5,
             "#f7f7f7"
            ],
            [
             0.6,
             "#e6f5d0"
            ],
            [
             0.7,
             "#b8e186"
            ],
            [
             0.8,
             "#7fbc41"
            ],
            [
             0.9,
             "#4d9221"
            ],
            [
             1,
             "#276419"
            ]
           ],
           "sequential": [
            [
             0,
             "#0d0887"
            ],
            [
             0.1111111111111111,
             "#46039f"
            ],
            [
             0.2222222222222222,
             "#7201a8"
            ],
            [
             0.3333333333333333,
             "#9c179e"
            ],
            [
             0.4444444444444444,
             "#bd3786"
            ],
            [
             0.5555555555555556,
             "#d8576b"
            ],
            [
             0.6666666666666666,
             "#ed7953"
            ],
            [
             0.7777777777777778,
             "#fb9f3a"
            ],
            [
             0.8888888888888888,
             "#fdca26"
            ],
            [
             1,
             "#f0f921"
            ]
           ],
           "sequentialminus": [
            [
             0,
             "#0d0887"
            ],
            [
             0.1111111111111111,
             "#46039f"
            ],
            [
             0.2222222222222222,
             "#7201a8"
            ],
            [
             0.3333333333333333,
             "#9c179e"
            ],
            [
             0.4444444444444444,
             "#bd3786"
            ],
            [
             0.5555555555555556,
             "#d8576b"
            ],
            [
             0.6666666666666666,
             "#ed7953"
            ],
            [
             0.7777777777777778,
             "#fb9f3a"
            ],
            [
             0.8888888888888888,
             "#fdca26"
            ],
            [
             1,
             "#f0f921"
            ]
           ]
          },
          "colorway": [
           "#636efa",
           "#EF553B",
           "#00cc96",
           "#ab63fa",
           "#FFA15A",
           "#19d3f3",
           "#FF6692",
           "#B6E880",
           "#FF97FF",
           "#FECB52"
          ],
          "font": {
           "color": "#2a3f5f"
          },
          "geo": {
           "bgcolor": "white",
           "lakecolor": "white",
           "landcolor": "#E5ECF6",
           "showlakes": true,
           "showland": true,
           "subunitcolor": "white"
          },
          "hoverlabel": {
           "align": "left"
          },
          "hovermode": "closest",
          "mapbox": {
           "style": "light"
          },
          "paper_bgcolor": "white",
          "plot_bgcolor": "#E5ECF6",
          "polar": {
           "angularaxis": {
            "gridcolor": "white",
            "linecolor": "white",
            "ticks": ""
           },
           "bgcolor": "#E5ECF6",
           "radialaxis": {
            "gridcolor": "white",
            "linecolor": "white",
            "ticks": ""
           }
          },
          "scene": {
           "xaxis": {
            "backgroundcolor": "#E5ECF6",
            "gridcolor": "white",
            "gridwidth": 2,
            "linecolor": "white",
            "showbackground": true,
            "ticks": "",
            "zerolinecolor": "white"
           },
           "yaxis": {
            "backgroundcolor": "#E5ECF6",
            "gridcolor": "white",
            "gridwidth": 2,
            "linecolor": "white",
            "showbackground": true,
            "ticks": "",
            "zerolinecolor": "white"
           },
           "zaxis": {
            "backgroundcolor": "#E5ECF6",
            "gridcolor": "white",
            "gridwidth": 2,
            "linecolor": "white",
            "showbackground": true,
            "ticks": "",
            "zerolinecolor": "white"
           }
          },
          "shapedefaults": {
           "line": {
            "color": "#2a3f5f"
           }
          },
          "ternary": {
           "aaxis": {
            "gridcolor": "white",
            "linecolor": "white",
            "ticks": ""
           },
           "baxis": {
            "gridcolor": "white",
            "linecolor": "white",
            "ticks": ""
           },
           "bgcolor": "#E5ECF6",
           "caxis": {
            "gridcolor": "white",
            "linecolor": "white",
            "ticks": ""
           }
          },
          "title": {
           "x": 0.05
          },
          "xaxis": {
           "automargin": true,
           "gridcolor": "white",
           "linecolor": "white",
           "ticks": "",
           "title": {
            "standoff": 15
           },
           "zerolinecolor": "white",
           "zerolinewidth": 2
          },
          "yaxis": {
           "automargin": true,
           "gridcolor": "white",
           "linecolor": "white",
           "ticks": "",
           "title": {
            "standoff": 15
           },
           "zerolinecolor": "white",
           "zerolinewidth": 2
          }
         }
        },
        "xaxis": {
         "anchor": "y",
         "autorange": true,
         "categoryorder": "total descending",
         "domain": [
          0,
          1
         ],
         "range": [
          -0.5,
          4.5
         ],
         "title": {
          "text": "prediction_topics"
         },
         "type": "category"
        },
        "yaxis": {
         "anchor": "x",
         "autorange": true,
         "domain": [
          0,
          1
         ],
         "range": [
          0,
          150.52631578947367
         ],
         "title": {
          "text": "count"
         }
        }
       }
      },
      "image/png": "[encoded data removed]",
      "text/html": [
       "<div>                            <div id=\"f0c6602c-095a-488e-9cc6-2cec60e854ad\" class=\"plotly-graph-div\" style=\"height:525px; width:100%;\"></div>            <script type=\"text/javascript\">                require([\"plotly\"], function(Plotly) {                    window.PLOTLYENV=window.PLOTLYENV || {};                                    if (document.getElementById(\"f0c6602c-095a-488e-9cc6-2cec60e854ad\")) {                    Plotly.newPlot(                        \"f0c6602c-095a-488e-9cc6-2cec60e854ad\",                        [{\"alignmentgroup\": \"True\", \"bingroup\": \"x\", \"hovertemplate\": \"prediction_topics=%{x}<br>count=%{y}<extra></extra>\", \"legendgroup\": \"\", \"marker\": {\"color\": \"#636efa\"}, \"name\": \"\", \"offsetgroup\": \"\", \"orientation\": \"v\", \"showlegend\": false, \"type\": \"histogram\", \"x\": [\"politics\", \"politics\", \"finance\", \"politics\", \"politics\", \"finance\", \"finance\", \"breaking news\", \"finance\", \"politics\", \"pop culture\", \"politics\", \"politics\", \"politics\", \"politics\", \"politics\", \"politics\", \"politics\", \"politics\", \"sports/entertainment\", \"politics\", \"pop culture\", \"finance\", \"politics\", \"politics\", \"politics\", \"politics\", \"politics\", \"politics\", \"pop culture\", \"politics\", \"politics\", \"breaking news\", \"politics\", \"finance\", \"politics\", \"sports/entertainment\", \"pop culture\", \"breaking news\", \"finance\", \"finance\", \"politics\", \"politics\", \"politics\", \"politics\", \"finance\", \"politics\", \"breaking news\", \"finance\", \"pop culture\", \"politics\", \"pop culture\", \"finance\", \"politics\", \"politics\", \"finance\", \"pop culture\", \"finance\", \"pop culture\", \"politics\", \"pop culture\", \"pop culture\", \"finance\", \"politics\", \"politics\", \"pop culture\", \"finance\", \"finance\", \"finance\", \"sports/entertainment\", \"politics\", \"politics\", \"politics\", \"breaking news\", \"politics\", \"politics\", \"politics\", \"finance\", \"pop culture\", \"pop culture\", \"pop culture\", \"politics\", \"politics\", \"pop culture\", \"politics\", \"finance\", \"finance\", \"politics\", \"politics\", \"pop culture\", \"pop culture\", \"politics\", \"finance\", \"finance\", \"pop culture\", \"pop culture\", \"politics\", \"pop culture\", \"finance\", \"politics\", \"pop culture\", \"sports/entertainment\", \"politics\", \"politics\", \"finance\", \"politics\", \"finance\", \"finance\", \"politics\", \"politics\", \"pop culture\", \"finance\", \"finance\", \"pop culture\", \"politics\", \"politics\", \"finance\", \"sports/entertainment\", \"politics\", \"pop culture\", \"breaking news\", \"politics\", \"finance\", \"finance\", \"breaking news\", \"finance\", \"pop culture\", \"politics\", \"finance\", \"politics\", \"politics\", \"pop culture\", \"sports/entertainment\", \"politics\", \"pop culture\", \"politics\", \"pop culture\", \"pop culture\", \"politics\", \"politics\", \"politics\", \"pop culture\", \"sports/entertainment\", \"sports/entertainment\", \"sports/entertainment\", \"pop culture\", \"finance\", \"politics\", \"pop culture\", \"politics\", \"pop culture\", \"politics\", \"politics\", \"pop culture\", \"breaking news\", \"politics\", \"pop culture\", \"finance\", \"finance\", \"pop culture\", \"politics\", \"finance\", \"sports/entertainment\", \"politics\", \"politics\", \"politics\", \"politics\", \"pop culture\", \"politics\", \"politics\", \"breaking news\", \"sports/entertainment\", \"finance\", \"politics\", \"politics\", \"sports/entertainment\", \"politics\", \"politics\", \"pop culture\", \"politics\", \"breaking news\", \"breaking news\", \"breaking news\", \"finance\", \"politics\", \"politics\", \"finance\", \"breaking news\", \"finance\", \"politics\", \"politics\", \"politics\", \"pop culture\", \"finance\", \"politics\", \"politics\", \"politics\", \"politics\", \"finance\", \"finance\", \"finance\", \"politics\", \"finance\", \"finance\", \"politics\", \"finance\", \"politics\", \"politics\", \"finance\", \"politics\", \"politics\", \"finance\", \"breaking news\", \"finance\", \"finance\", \"sports/entertainment\", \"finance\", \"breaking news\", \"pop culture\", \"finance\", \"finance\", \"finance\", \"politics\", \"finance\", \"politics\", \"politics\", \"politics\", \"pop culture\", \"politics\", \"politics\", \"politics\", \"pop culture\", \"politics\", \"politics\", \"sports/entertainment\", \"pop culture\", \"sports/entertainment\", \"finance\", \"sports/entertainment\", \"finance\", \"politics\", \"politics\", \"pop culture\", \"sports/entertainment\", \"sports/entertainment\", \"sports/entertainment\", \"politics\", \"sports/entertainment\", \"pop culture\", \"pop culture\", \"politics\", \"breaking news\", \"politics\", \"politics\", \"pop culture\", \"politics\", \"politics\", \"pop culture\", \"politics\", \"politics\", \"finance\", \"finance\", \"pop culture\", \"pop culture\", \"finance\", \"politics\", \"politics\", \"finance\", \"politics\", \"politics\", \"politics\", \"pop culture\", \"pop culture\", \"politics\", \"pop culture\", \"politics\", \"politics\", \"politics\", \"politics\", \"politics\", \"finance\", \"politics\", \"politics\", \"finance\", \"politics\", \"politics\", \"finance\", \"breaking news\", \"finance\", \"finance\", \"breaking news\", \"finance\", \"finance\", \"politics\", \"finance\", \"finance\", \"finance\", \"finance\", \"pop culture\", \"politics\", \"politics\", \"politics\", \"finance\", \"politics\", \"finance\", \"finance\", \"finance\", \"finance\", \"finance\", \"finance\", \"breaking news\", \"politics\", \"finance\", \"finance\", \"sports/entertainment\", \"finance\", \"breaking news\", \"finance\", \"finance\", \"breaking news\", \"pop culture\", \"sports/entertainment\", \"pop culture\", \"politics\", \"politics\", \"politics\", \"pop culture\", \"sports/entertainment\", \"sports/entertainment\", \"pop culture\", \"pop culture\", \"pop culture\", \"pop culture\", \"pop culture\", \"pop culture\", \"politics\", \"pop culture\", \"sports/entertainment\", \"politics\", \"pop culture\"], \"xaxis\": \"x\", \"yaxis\": \"y\"}],                        {\"barmode\": \"relative\", \"legend\": {\"tracegroupgap\": 0}, \"margin\": {\"t\": 60}, \"template\": {\"data\": {\"bar\": [{\"error_x\": {\"color\": \"#2a3f5f\"}, \"error_y\": {\"color\": \"#2a3f5f\"}, \"marker\": {\"line\": {\"color\": \"#E5ECF6\", \"width\": 0.5}}, \"type\": \"bar\"}], \"barpolar\": [{\"marker\": {\"line\": {\"color\": \"#E5ECF6\", \"width\": 0.5}}, \"type\": \"barpolar\"}], \"carpet\": [{\"aaxis\": {\"endlinecolor\": \"#2a3f5f\", \"gridcolor\": \"white\", \"linecolor\": \"white\", \"minorgridcolor\": \"white\", \"startlinecolor\": \"#2a3f5f\"}, \"baxis\": {\"endlinecolor\": \"#2a3f5f\", \"gridcolor\": \"white\", \"linecolor\": \"white\", \"minorgridcolor\": \"white\", \"startlinecolor\": \"#2a3f5f\"}, \"type\": \"carpet\"}], \"choropleth\": [{\"colorbar\": {\"outlinewidth\": 0, \"ticks\": \"\"}, \"type\": \"choropleth\"}], \"contour\": [{\"colorbar\": {\"outlinewidth\": 0, \"ticks\": \"\"}, \"colorscale\": [[0.0, \"#0d0887\"], [0.1111111111111111, \"#46039f\"], [0.2222222222222222, \"#7201a8\"], [0.3333333333333333, \"#9c179e\"], [0.4444444444444444, \"#bd3786\"], [0.5555555555555556, \"#d8576b\"], [0.6666666666666666, \"#ed7953\"], [0.7777777777777778, \"#fb9f3a\"], [0.8888888888888888, \"#fdca26\"], [1.0, \"#f0f921\"]], \"type\": \"contour\"}], \"contourcarpet\": [{\"colorbar\": {\"outlinewidth\": 0, \"ticks\": \"\"}, \"type\": \"contourcarpet\"}], \"heatmap\": [{\"colorbar\": {\"outlinewidth\": 0, \"ticks\": \"\"}, \"colorscale\": [[0.0, \"#0d0887\"], [0.1111111111111111, \"#46039f\"], [0.2222222222222222, \"#7201a8\"], [0.3333333333333333, \"#9c179e\"], [0.4444444444444444, \"#bd3786\"], [0.5555555555555556, \"#d8576b\"], [0.6666666666666666, \"#ed7953\"], [0.7777777777777778, \"#fb9f3a\"], [0.8888888888888888, \"#fdca26\"], [1.0, \"#f0f921\"]], \"type\": \"heatmap\"}], \"heatmapgl\": [{\"colorbar\": {\"outlinewidth\": 0, \"ticks\": \"\"}, \"colorscale\": [[0.0, \"#0d0887\"], [0.1111111111111111, \"#46039f\"], [0.2222222222222222, \"#7201a8\"], [0.3333333333333333, \"#9c179e\"], [0.4444444444444444, \"#bd3786\"], [0.5555555555555556, \"#d8576b\"], [0.6666666666666666, \"#ed7953\"], [0.7777777777777778, \"#fb9f3a\"], [0.8888888888888888, \"#fdca26\"], [1.0, \"#f0f921\"]], \"type\": \"heatmapgl\"}], \"histogram\": [{\"marker\": {\"colorbar\": {\"outlinewidth\": 0, \"ticks\": \"\"}}, \"type\": \"histogram\"}], \"histogram2d\": [{\"colorbar\": {\"outlinewidth\": 0, \"ticks\": \"\"}, \"colorscale\": [[0.0, \"#0d0887\"], [0.1111111111111111, \"#46039f\"], [0.2222222222222222, \"#7201a8\"], [0.3333333333333333, \"#9c179e\"], [0.4444444444444444, \"#bd3786\"], [0.5555555555555556, \"#d8576b\"], [0.6666666666666666, \"#ed7953\"], [0.7777777777777778, \"#fb9f3a\"], [0.8888888888888888, \"#fdca26\"], [1.0, \"#f0f921\"]], \"type\": \"histogram2d\"}], \"histogram2dcontour\": [{\"colorbar\": {\"outlinewidth\": 0, \"ticks\": \"\"}, \"colorscale\": [[0.0, \"#0d0887\"], [0.1111111111111111, \"#46039f\"], [0.2222222222222222, \"#7201a8\"], [0.3333333333333333, \"#9c179e\"], [0.4444444444444444, \"#bd3786\"], [0.5555555555555556, \"#d8576b\"], [0.6666666666666666, \"#ed7953\"], [0.7777777777777778, \"#fb9f3a\"], [0.8888888888888888, \"#fdca26\"], [1.0, \"#f0f921\"]], \"type\": \"histogram2dcontour\"}], \"mesh3d\": [{\"colorbar\": {\"outlinewidth\": 0, \"ticks\": \"\"}, \"type\": \"mesh3d\"}], \"parcoords\": [{\"line\": {\"colorbar\": {\"outlinewidth\": 0, \"ticks\": \"\"}}, \"type\": \"parcoords\"}], \"pie\": [{\"automargin\": true, \"type\": \"pie\"}], \"scatter\": [{\"marker\": {\"colorbar\": {\"outlinewidth\": 0, \"ticks\": \"\"}}, \"type\": \"scatter\"}], \"scatter3d\": [{\"line\": {\"colorbar\": {\"outlinewidth\": 0, \"ticks\": \"\"}}, \"marker\": {\"colorbar\": {\"outlinewidth\": 0, \"ticks\": \"\"}}, \"type\": \"scatter3d\"}], \"scattercarpet\": [{\"marker\": {\"colorbar\": {\"outlinewidth\": 0, \"ticks\": \"\"}}, \"type\": \"scattercarpet\"}], \"scattergeo\": [{\"marker\": {\"colorbar\": {\"outlinewidth\": 0, \"ticks\": \"\"}}, \"type\": \"scattergeo\"}], \"scattergl\": [{\"marker\": {\"colorbar\": {\"outlinewidth\": 0, \"ticks\": \"\"}}, \"type\": \"scattergl\"}], \"scattermapbox\": [{\"marker\": {\"colorbar\": {\"outlinewidth\": 0, \"ticks\": \"\"}}, \"type\": \"scattermapbox\"}], \"scatterpolar\": [{\"marker\": {\"colorbar\": {\"outlinewidth\": 0, \"ticks\": \"\"}}, \"type\": \"scatterpolar\"}], \"scatterpolargl\": [{\"marker\": {\"colorbar\": {\"outlinewidth\": 0, \"ticks\": \"\"}}, \"type\": \"scatterpolargl\"}], \"scatterternary\": [{\"marker\": {\"colorbar\": {\"outlinewidth\": 0, \"ticks\": \"\"}}, \"type\": \"scatterternary\"}], \"surface\": [{\"colorbar\": {\"outlinewidth\": 0, \"ticks\": \"\"}, \"colorscale\": [[0.0, \"#0d0887\"], [0.1111111111111111, \"#46039f\"], [0.2222222222222222, \"#7201a8\"], [0.3333333333333333, \"#9c179e\"], [0.4444444444444444, \"#bd3786\"], [0.5555555555555556, \"#d8576b\"], [0.6666666666666666, \"#ed7953\"], [0.7777777777777778, \"#fb9f3a\"], [0.8888888888888888, \"#fdca26\"], [1.0, \"#f0f921\"]], \"type\": \"surface\"}], \"table\": [{\"cells\": {\"fill\": {\"color\": \"#EBF0F8\"}, \"line\": {\"color\": \"white\"}}, \"header\": {\"fill\": {\"color\": \"#C8D4E3\"}, \"line\": {\"color\": \"white\"}}, \"type\": \"table\"}]}, \"layout\": {\"annotationdefaults\": {\"arrowcolor\": \"#2a3f5f\", \"arrowhead\": 0, \"arrowwidth\": 1}, \"autotypenumbers\": \"strict\", \"coloraxis\": {\"colorbar\": {\"outlinewidth\": 0, \"ticks\": \"\"}}, \"colorscale\": {\"diverging\": [[0, \"#8e0152\"], [0.1, \"#c51b7d\"], [0.2, \"#de77ae\"], [0.3, \"#f1b6da\"], [0.4, \"#fde0ef\"], [0.5, \"#f7f7f7\"], [0.6, \"#e6f5d0\"], [0.7, \"#b8e186\"], [0.8, \"#7fbc41\"], [0.9, \"#4d9221\"], [1, \"#276419\"]], \"sequential\": [[0.0, \"#0d0887\"], [0.1111111111111111, \"#46039f\"], [0.2222222222222222, \"#7201a8\"], [0.3333333333333333, \"#9c179e\"], [0.4444444444444444, \"#bd3786\"], [0.5555555555555556, \"#d8576b\"], [0.6666666666666666, \"#ed7953\"], [0.7777777777777778, \"#fb9f3a\"], [0.8888888888888888, \"#fdca26\"], [1.0, \"#f0f921\"]], \"sequentialminus\": [[0.0, \"#0d0887\"], [0.1111111111111111, \"#46039f\"], [0.2222222222222222, \"#7201a8\"], [0.3333333333333333, \"#9c179e\"], [0.4444444444444444, \"#bd3786\"], [0.5555555555555556, \"#d8576b\"], [0.6666666666666666, \"#ed7953\"], [0.7777777777777778, \"#fb9f3a\"], [0.8888888888888888, \"#fdca26\"], [1.0, \"#f0f921\"]]}, \"colorway\": [\"#636efa\", \"#EF553B\", \"#00cc96\", \"#ab63fa\", \"#FFA15A\", \"#19d3f3\", \"#FF6692\", \"#B6E880\", \"#FF97FF\", \"#FECB52\"], \"font\": {\"color\": \"#2a3f5f\"}, \"geo\": {\"bgcolor\": \"white\", \"lakecolor\": \"white\", \"landcolor\": \"#E5ECF6\", \"showlakes\": true, \"showland\": true, \"subunitcolor\": \"white\"}, \"hoverlabel\": {\"align\": \"left\"}, \"hovermode\": \"closest\", \"mapbox\": {\"style\": \"light\"}, \"paper_bgcolor\": \"white\", \"plot_bgcolor\": \"#E5ECF6\", \"polar\": {\"angularaxis\": {\"gridcolor\": \"white\", \"linecolor\": \"white\", \"ticks\": \"\"}, \"bgcolor\": \"#E5ECF6\", \"radialaxis\": {\"gridcolor\": \"white\", \"linecolor\": \"white\", \"ticks\": \"\"}}, \"scene\": {\"xaxis\": {\"backgroundcolor\": \"#E5ECF6\", \"gridcolor\": \"white\", \"gridwidth\": 2, \"linecolor\": \"white\", \"showbackground\": true, \"ticks\": \"\", \"zerolinecolor\": \"white\"}, \"yaxis\": {\"backgroundcolor\": \"#E5ECF6\", \"gridcolor\": \"white\", \"gridwidth\": 2, \"linecolor\": \"white\", \"showbackground\": true, \"ticks\": \"\", \"zerolinecolor\": \"white\"}, \"zaxis\": {\"backgroundcolor\": \"#E5ECF6\", \"gridcolor\": \"white\", \"gridwidth\": 2, \"linecolor\": \"white\", \"showbackground\": true, \"ticks\": \"\", \"zerolinecolor\": \"white\"}}, \"shapedefaults\": {\"line\": {\"color\": \"#2a3f5f\"}}, \"ternary\": {\"aaxis\": {\"gridcolor\": \"white\", \"linecolor\": \"white\", \"ticks\": \"\"}, \"baxis\": {\"gridcolor\": \"white\", \"linecolor\": \"white\", \"ticks\": \"\"}, \"bgcolor\": \"#E5ECF6\", \"caxis\": {\"gridcolor\": \"white\", \"linecolor\": \"white\", \"ticks\": \"\"}}, \"title\": {\"x\": 0.05}, \"xaxis\": {\"automargin\": true, \"gridcolor\": \"white\", \"linecolor\": \"white\", \"ticks\": \"\", \"title\": {\"standoff\": 15}, \"zerolinecolor\": \"white\", \"zerolinewidth\": 2}, \"yaxis\": {\"automargin\": true, \"gridcolor\": \"white\", \"linecolor\": \"white\", \"ticks\": \"\", \"title\": {\"standoff\": 15}, \"zerolinecolor\": \"white\", \"zerolinewidth\": 2}}}, \"xaxis\": {\"anchor\": \"y\", \"categoryorder\": \"total descending\", \"domain\": [0.0, 1.0], \"title\": {\"text\": \"prediction_topics\"}}, \"yaxis\": {\"anchor\": \"x\", \"domain\": [0.0, 1.0], \"title\": {\"text\": \"count\"}}},                        {\"responsive\": true}                    ).then(function(){\n",
       "                            \n",
       "var gd = document.getElementById('f0c6602c-095a-488e-9cc6-2cec60e854ad');\n",
       "var x = new MutationObserver(function (mutations, observer) {{\n",
       "        var display = window.getComputedStyle(gd).display;\n",
       "        if (!display || display === 'none') {{\n",
       "            console.log([gd, 'removed!']);\n",
       "            Plotly.purge(gd);\n",
       "            observer.disconnect();\n",
       "        }}\n",
       "}});\n",
       "\n",
       "// Listen for the removal of the full notebook cells\n",
       "var notebookContainer = gd.closest('#notebook-container');\n",
       "if (notebookContainer) {{\n",
       "    x.observe(notebookContainer, {childList: true});\n",
       "}}\n",
       "\n",
       "// Listen for the clearing of the current output cell\n",
       "var outputEl = gd.closest('.output');\n",
       "if (outputEl) {{\n",
       "    x.observe(outputEl, {childList: true});\n",
       "}}\n",
       "\n",
       "                        })                };                });            </script>        </div>"
      ]
     },
     "metadata": {},
     "output_type": "display_data"
    }
   ],
   "source": [
    "fig = px.histogram(all_transformed, x=\"prediction_topics\").update_xaxes(categoryorder='total descending')\n",
    "fig.show()"
   ]
  },
  {
   "cell_type": "code",
   "execution_count": null,
   "id": "76a9fccc-00f3-4660-bb7c-00cf04620a61",
   "metadata": {},
   "outputs": [],
   "source": [
    "plotly.io.write_image(bar_chart, file=\"./images/bar_chart_percent_fail_agent3.png\", scale=5)"
   ]
  }
 ],
 "metadata": {
  "kernelspec": {
   "display_name": "Spark 3 in Python 3",
   "language": "python",
   "name": "pyspark3"
  },
  "language_info": {
   "codemirror_mode": {
    "name": "ipython",
    "version": 3
   },
   "file_extension": ".py",
   "mimetype": "text/x-python",
   "name": "python",
   "nbconvert_exporter": "python",
   "pygments_lexer": "ipython3",
   "version": "3.9.5"
  }
 },
 "nbformat": 4,
 "nbformat_minor": 5
}
