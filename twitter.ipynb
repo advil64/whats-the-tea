{
 "cells": [
  {
   "cell_type": "code",
   "execution_count": 41,
   "id": "656c8946",
   "metadata": {},
   "outputs": [
    {
     "name": "stderr",
     "output_type": "stream",
     "text": [
      "[nltk_data] Downloading package wordnet to\n",
      "[nltk_data]     /common/home/ac1771/nltk_data...\n",
      "[nltk_data]   Package wordnet is already up-to-date!\n"
     ]
    },
    {
     "data": {
      "text/plain": [
       "True"
      ]
     },
     "execution_count": 41,
     "metadata": {},
     "output_type": "execute_result"
    }
   ],
   "source": [
    "from dotenv import load_dotenv\n",
    "from gensim.parsing.preprocessing import STOPWORDS\n",
    "from nltk.stem import WordNetLemmatizer, SnowballStemmer\n",
    "from nltk.stem.porter import *\n",
    "from nltk.tokenize import word_tokenize\n",
    "from pyspark.ml.clustering import KMeans, KMeansModel\n",
    "from pyspark.ml.feature import Word2Vec, Word2VecModel\n",
    "import gensim\n",
    "import nltk\n",
    "import os\n",
    "import sparknlp\n",
    "import string\n",
    "import tweepy\n",
    "from pyspark.sql.types import *\n",
    "from pyspark.sql import functions as F\n",
    "\n",
    "nltk.download('wordnet')"
   ]
  },
  {
   "cell_type": "code",
   "execution_count": 3,
   "id": "5638b06c-1c5f-4cc6-aaad-a42529c4e1e6",
   "metadata": {},
   "outputs": [
    {
     "name": "stdout",
     "output_type": "stream",
     "text": [
      "Defaulting to user installation because normal site-packages is not writeable\n",
      "Collecting tweepy\n",
      "  Downloading tweepy-4.12.0-py3-none-any.whl (101 kB)\n",
      "\u001b[K     |████████████████████████████████| 101 kB 3.9 MB/s eta 0:00:01\n",
      "\u001b[?25hRequirement already satisfied: requests<3,>=2.27.0 in /usr/lib/anaconda3/lib/python3.9/site-packages (from tweepy) (2.27.1)\n",
      "Collecting requests-oauthlib<2,>=1.2.0\n",
      "  Downloading requests_oauthlib-1.3.1-py2.py3-none-any.whl (23 kB)\n",
      "Requirement already satisfied: oauthlib<4,>=3.2.0 in /usr/lib/anaconda3/lib/python3.9/site-packages (from tweepy) (3.2.0)\n",
      "Requirement already satisfied: urllib3<1.27,>=1.21.1 in /usr/lib/anaconda3/lib/python3.9/site-packages (from requests<3,>=2.27.0->tweepy) (1.26.9)\n",
      "Requirement already satisfied: certifi>=2017.4.17 in /usr/lib/anaconda3/lib/python3.9/site-packages (from requests<3,>=2.27.0->tweepy) (2021.10.8)\n",
      "Requirement already satisfied: idna<4,>=2.5 in /usr/lib/anaconda3/lib/python3.9/site-packages (from requests<3,>=2.27.0->tweepy) (3.3)\n",
      "Requirement already satisfied: charset-normalizer~=2.0.0 in /usr/lib/anaconda3/lib/python3.9/site-packages (from requests<3,>=2.27.0->tweepy) (2.0.4)\n",
      "Installing collected packages: requests-oauthlib, tweepy\n",
      "Successfully installed requests-oauthlib-1.3.1 tweepy-4.12.0\n"
     ]
    }
   ],
   "source": [
    "!pip3 install tweepy"
   ]
  },
  {
   "cell_type": "code",
   "execution_count": 5,
   "id": "0accde12",
   "metadata": {},
   "outputs": [
    {
     "data": {
      "text/plain": [
       "True"
      ]
     },
     "execution_count": 5,
     "metadata": {},
     "output_type": "execute_result"
    }
   ],
   "source": [
    "load_dotenv()"
   ]
  },
  {
   "cell_type": "code",
   "execution_count": 6,
   "id": "d9691f7a",
   "metadata": {},
   "outputs": [],
   "source": [
    "bearer_token = os.environ.get('bearer_token')\n",
    "consumer_key = os.environ.get('consumer_key')\n",
    "consumer_secret = os.environ.get('consumer_secret')\n",
    "access_token = os.environ.get('access_token')\n",
    "access_token_secret = os.environ.get('access_token_secret')"
   ]
  },
  {
   "cell_type": "code",
   "execution_count": 7,
   "id": "2d8a8db6",
   "metadata": {},
   "outputs": [],
   "source": [
    "client = tweepy.Client(\n",
    "    bearer_token=bearer_token,\n",
    "    consumer_key=consumer_key,\n",
    "    consumer_secret=consumer_secret,\n",
    "    access_token=access_token,\n",
    "    access_token_secret=access_token_secret,\n",
    ")"
   ]
  },
  {
   "cell_type": "code",
   "execution_count": 10,
   "id": "0cb23f49",
   "metadata": {},
   "outputs": [],
   "source": [
    "# Get a handles Twitter ID from https://tweeterid.com/\n",
    "accounts = [\n",
    "    {\n",
    "        'handle': 'cnnbrk',\n",
    "        'id': 428333\n",
    "    },\n",
    "    {\n",
    "        'handle': 'CNN',\n",
    "        'id': 759251\n",
    "    },Word2VecModel\n",
    "    {\n",
    "        'handle': 'nytimes',\n",
    "        'id': 807095\n",
    "    },\n",
    "    {\n",
    "        'handle': 'BBCBreaking',\n",
    "        'id': 5402612\n",
    "    },\n",
    "    {\n",
    "        'handle': 'BBCWorld',\n",
    "        'id': 742143\n",
    "    },\n",
    "    {\n",
    "        'handle': 'TheEconomist',\n",
    "        'id': 5988062\n",
    "    },\n",
    "    {\n",
    "        'handle': 'WSJ',\n",
    "        'id': 3108351\n",
    "    },\n",
    "    {\n",
    "        'handle': 'washingtonpost',\n",
    "        'id': 2467791\n",
    "    },pd.DataFrame\n",
    "    {\n",
    "        'handle': 'TIME',\n",
    "        'id': 14293310\n",
    "    },\n",
    "    {\n",
    "        'handle': 'ABC',\n",
    "        'id': 28785486\n",
    "    },\n",
    "    {\n",
    "        'handle': 'ndtv',\n",
    "        'id': 37034483\n",
    "    },\n",
    "    {\n",
    "        'handle': 'AP',\n",
    "        'id': 51241574kmeans_path\n",
    "    },\n",
    "    {\n",
    "        'handle': 'XHNews',\n",
    "        'id': 487118986\n",
    "    },\n",
    "    {\n",
    "        'handle': 'HuffPost',\n",
    "        'id': 14511951\n",
    "    },\n",
    "    {\n",
    "        'handle': 'guardian',\n",
    "        'id': 87818409\n",
    "    },\n",
    "    {\n",
    "        'handle': 'BreakingNews',\n",
    "        'id': 6017542\n",
    "    },\n",
    "    {\n",
    "        'handle': 'SkyNews',\n",
    "        'id': 7587032\n",
    "    },\n",
    "    {\n",
    "        'handle': 'AJEnglish',\n",
    "        'id': 4970411\n",
    "    },\n",
    "    {\n",
    "        'handle': 'FT',\n",
    "        'id': 18949452\n",
    "    },\n",
    "    {\n",
    "        'handle': 'SkyNewsBreak',\n",
    "        'id': 87416722\n",
    "    },\n",
    "    {\n",
    "        'handle': 'politico',\n",
    "        'id': 9300262\n",
    "    },\n",
    "    {\n",
    "        'handle': 'CNBC',\n",
    "        'id': 20402945\n",
    "    },\n",
    "    {\n",
    "        'handle': 'FRANCE24',\n",
    "        'id': 1994321\n",
    "    },\n",
    "    {\n",
    "        'handle': 'guardiannews',\n",
    "        'id': 788524\n",
    "    },\n",
    "    {\n",
    "        'handle': 'Independent',\n",
    "        'id': 16973333\n",
    "    },\n",
    "    {\n",
    "        'handle': 'BBCAfrica',\n",
    "        'id': 36670025\n",
    "    },\n",
    "    {\n",
    "        'handle': 'Newsweek',\n",
    "        'id': 2884771\n",
    "    },\n",
    "    {\n",
    "        'handle': 'Telegraph',\n",
    "        'id': 16343974\n",
    "    },\n",
    "    {\n",
    "        'handle': 'RT_com',\n",
    "        'id': 64643056\n",
    "    },\n",
    "    {\n",
    "        'handle': 'CBCNews',\n",
    "        'id': 6433472\n",
    "    },\n",
    "    {\n",
    "        'handle': 'FinancialTimes',\n",
    "        'id': 4898091\n",
    "    },\n",
    "    {\n",
    "        'handle': 'Reuters',\n",
    "        'id': 1652541\n",
    "    },\n",
    "    {\n",
    "        'handle': 'SportsCenter',\n",
    "        'id': 26257166\n",
    "    },\n",
    "    {\n",
    "        'handle': 'espn',\n",
    "        'id': 2557521\n",
    "    }\n",
    "]"
   ]
  },
  {
   "cell_type": "code",
   "execution_count": 11,
   "id": "533d9745",
   "metadata": {},
   "outputs": [],
   "source": [
    "def get_tweets(accounts, n):\n",
    "    tweets = []\n",
    "    for account in accounts:\n",
    "        response = client.get_usepd.DataFramers_tweets(account['id'], max_results=n)\n",
    "        for tweet in response.data:\n",
    "            tweets.append(tweet.text)\n",
    "    return tweets"
   ]
  },
  {
   "cell_type": "code",
   "execution_count": 12,
   "id": "4070bbeb",
   "metadata": {},
   "outputs": [],
   "source": [
    "tweets = get_tweets(accounts, 10)"
   ]
  },
  {
   "cell_type": "code",
   "execution_count": 13,
   "id": "8f517649-b52f-4bca-a2fc-c8d981732cb2",
   "metadata": {},
   "outputs": [],
   "source": [
    "tokenized_words = []\n",
    "def lemmatize_stemming(text):\n",
    "    return WordNetLemmatizer().lemmatize(text, pos='v')\n",
    "\n",
    "for tweet in tweets:\n",
    "    new_tweet = tweet[:tweet.index('http')] if 'http' in tweet else tweet\n",
    "    new_tweet = re.sub(r'[^a-zA-Z ]+', '', new_tweet)\n",
    "    tokens = word_tokenize(new_tweet)\n",
    "    remove_stopwords = [lemmatize_stemming(t.lower()) for t in tokens if not t in STOPWORDS and not t in string.punctuation and len(t) > 2]\n",
    "    tokenized_words.append(\",\".join(remove_stopwords))"
   ]
  },
  {
   "cell_type": "code",
   "execution_count": 33,
   "id": "dae6ffd6-f1a1-4e0e-bd48-b290cfdd3936",
   "metadata": {},
   "outputs": [
    {
     "data": {
      "text/plain": [
       "'paul,pelosi,husband,house,speaker,nancy,pelosi,release,san,francisco,hospital,recover,surgery,repair,skull,fracture,injuries,hand,arm,accord,source,familiar,matter'"
      ]
     },
     "execution_count": 33,
     "metadata": {},
     "output_type": "execute_result"
    }
   ],
   "source": [
    "tokenized_words[0]"
   ]
  },
  {
   "cell_type": "code",
   "execution_count": 38,
   "id": "3d6af5f3-637f-4800-a530-b1b225761e33",
   "metadata": {},
   "outputs": [
    {
     "data": {
      "text/plain": [
       "DataFrame[value: string]"
      ]
     },
     "execution_count": 38,
     "metadata": {},
     "output_type": "execute_result"
    }
   ],
   "source": [
    "schema = StringType()\n",
    "tokenized_words_df = spark.createDataFrame(tokenized_words, schema=schema)"
   ]
  },
  {
   "cell_type": "code",
   "execution_count": 42,
   "id": "4a1dc55f-13a6-4d3f-83e1-02a9f09e0ab3",
   "metadata": {},
   "outputs": [],
   "source": [
    "tokenized_words_df = tokenized_words_df.withColumn(\"cleaned_text\", F.split(F.col(\"value\"), \",\"))"
   ]
  },
  {
   "cell_type": "code",
   "execution_count": 43,
   "id": "d8afc49a-32fd-466b-93ed-013759fb385d",
   "metadata": {},
   "outputs": [
    {
     "name": "stdout",
     "output_type": "stream",
     "text": [
      "+--------------------+--------------------+\n",
      "|               value|        cleaned_text|\n",
      "+--------------------+--------------------+\n",
      "|paul,pelosi,husba...|[paul, pelosi, hu...|\n",
      "|the,fbi,issue,war...|[the, fbi, issue,...|\n",
      "|bank,england,rais...|[bank, england, r...|\n",
      "|pakistans,exprime...|[pakistans, expri...|\n",
      "|judge,formally,se...|[judge, formally,...|\n",
      "|the,feed,make,his...|[the, feed, make,...|\n",
      "|trump,lawyers,saw...|[trump, lawyers, ...|\n",
      "|russia,say,resume...|[russia, say, res...|\n",
      "|cvs,walgreens,wal...|[cvs, walgreens, ...|\n",
      "|man,accuse,attack...|[man, accuse, att...|\n",
      "|who,favorite,cnn,...|[who, favorite, c...|\n",
      "|russian,flag,sign...|[russian, flag, s...|\n",
      "|more,cheese,count...|[more, cheese, co...|\n",
      "|elections,officia...|[elections, offic...|\n",
      "|rumor,adele,isnt,...|[rumor, adele, is...|\n",
      "|grocery,price,soa...|[grocery, price, ...|\n",
      "|elon,musk,say,pla...|[elon, musk, say,...|\n",
      "|new,power,couple,...|[new, power, coup...|\n",
      "|tell,shes,expect,...|[tell, shes, expe...|\n",
      "|compostable,plast...|[compostable, pla...|\n",
      "+--------------------+--------------------+\n",
      "only showing top 20 rows\n",
      "\n"
     ]
    }
   ],
   "source": [
    "tokenized_words_df.show()"
   ]
  },
  {
   "cell_type": "code",
   "execution_count": 44,
   "id": "3f5e4773-491f-49f2-95c2-f6efa1bbcdb2",
   "metadata": {},
   "outputs": [],
   "source": [
    "word2vec_model = Word2VecModel.load('/common/users/shared/cs543_fall22_group3/models/word2vec')"
   ]
  },
  {
   "cell_type": "code",
   "execution_count": 45,
   "id": "98892605-0104-44ab-8362-c2711fb84b60",
   "metadata": {},
   "outputs": [],
   "source": [
    "result = word2vec_model.transform(tokenized_words_df.drop('value'))"
   ]
  },
  {
   "cell_type": "code",
   "execution_count": 46,
   "id": "1f99fd77-cb5b-44ae-8e30-f73bcf31b8cb",
   "metadata": {},
   "outputs": [
    {
     "name": "stdout",
     "output_type": "stream",
     "text": [
      "+--------------------+--------------------+\n",
      "|        cleaned_text|      output_vectors|\n",
      "+--------------------+--------------------+\n",
      "|[paul, pelosi, hu...|[-0.0821658222652...|\n",
      "|[the, fbi, issue,...|[-0.1995822859462...|\n",
      "|[bank, england, r...|[-0.4200996284683...|\n",
      "|[pakistans, expri...|[-0.0837285531684...|\n",
      "|[judge, formally,...|[-0.0451845757042...|\n",
      "|[the, feed, make,...|[-0.4107314121133...|\n",
      "|[trump, lawyers, ...|[-0.2577153867931...|\n",
      "|[russia, say, res...|[-0.4622900021763...|\n",
      "|[cvs, walgreens, ...|[-0.4418119501322...|\n",
      "|[man, accuse, att...|[-0.0433448063319...|\n",
      "|[who, favorite, c...|[-0.0398816628148...|\n",
      "|[russian, flag, s...|[-0.1780601602402...|\n",
      "|[more, cheese, co...|[-0.0352580488958...|\n",
      "|[elections, offic...|[-0.1379379596222...|\n",
      "|[rumor, adele, is...|[0.1955163978899901]|\n",
      "|[grocery, price, ...|[-0.2993410425260...|\n",
      "|[elon, musk, say,...|[-0.0885379875877...|\n",
      "|[new, power, coup...|[-0.0224394341930...|\n",
      "|[tell, shes, expe...|[-0.0606921259313...|\n",
      "|[compostable, pla...|[-0.182426694366667]|\n",
      "+--------------------+--------------------+\n",
      "only showing top 20 rows\n",
      "\n"
     ]
    }
   ],
   "source": [
    "result.show()"
   ]
  },
  {
   "cell_type": "code",
   "execution_count": 47,
   "id": "23def4c2-cb46-4c93-b552-4edd83653245",
   "metadata": {},
   "outputs": [],
   "source": [
    "model = KMeansModel.load('/common/users/shared/cs543_fall22_group3/models/k_means')"
   ]
  },
  {
   "cell_type": "code",
   "execution_count": 49,
   "id": "b480a249-7b53-4706-88e2-912caf71adfe",
   "metadata": {},
   "outputs": [
    {
     "data": {
      "text/plain": [
       "KMeansModel: uid=KMeans_8db78f979b9c, k=5, distanceMeasure=euclidean, numFeatures=1"
      ]
     },
     "execution_count": 49,
     "metadata": {},
     "output_type": "execute_result"
    }
   ],
   "source": [
    "model.setPredictionCol(\"newPrediction\")"
   ]
  },
  {
   "cell_type": "code",
   "execution_count": 52,
   "id": "d84df9c7-962b-46a3-b0d3-a3a09d8ca3e4",
   "metadata": {},
   "outputs": [],
   "source": [
    "result = result.withColumn('features', F.col(\"output_vectors\"))"
   ]
  },
  {
   "cell_type": "code",
   "execution_count": 53,
   "id": "6df00b97-0455-4e95-81e5-22bc3c026447",
   "metadata": {},
   "outputs": [],
   "source": [
    "transformed = model.transform(result)"
   ]
  },
  {
   "cell_type": "code",
   "execution_count": 55,
   "id": "f3d13adc-397f-4dc2-a8de-8ed668f57263",
   "metadata": {},
   "outputs": [],
   "source": [
    "all_transformed = transformed.collect()"
   ]
  },
  {
   "cell_type": "code",
   "execution_count": 61,
   "id": "a124a616-feaa-44ff-a4d6-5a41f21ed9d9",
   "metadata": {},
   "outputs": [
    {
     "name": "stdout",
     "output_type": "stream",
     "text": [
      "['new', 'power', 'couple', 'take', 'stage', 'miss', 'argentina', 'miss', 'puerto', 'rico', 'shock', 'delight', 'fan', 'reveal', 'theyre', 'marry']\n",
      "0\n",
      "\n",
      "['edjsandoval', 'thank', 'anarodr', 'share', 'maites', 'amaze', 'story', 'rest', 'uvalde', 'families', 'allow', 'tamir']\n",
      "0\n",
      "\n",
      "['julie', 'powell', 'die', 'week', 'possess', 'understand', 'start', 'cook', 'universal', 'experience', 'voice', 'recipe', 'sound', 'like', 'adventure', 'juliamoskin', 'write']\n",
      "0\n",
      "\n",
      "['former', 'health', 'secretary', 'matt', 'hancock', 'suspend', 'conservative', 'join', 'cast', 'itvs', 'celebrity']\n",
      "0\n",
      "\n",
      "['you', 'dont', 'know', 'try', 'kill', 'meparkland', 'survivors', 'families', 'address', 'school', 'gunman', 'sentence']\n",
      "0\n",
      "\n",
      "['paintballs', 'shoot', 'dutch', 'wolves', 'bid', 'tame']\n",
      "0\n",
      "\n",
      "['eric', 'adams', 'mayor', 'new', 'york', 'tell', 'host', 'anne', 'mcelvoy', 'plan', 'build', 'city', 'work', 'locals', 'newcomers', 'alike']\n",
      "0\n",
      "\n",
      "['the', 'stories', 'slave', 'illegally', 'bring', 'america', 'clotildathe', 'american', 'slave', 'shipare', 'tell', 'interview', 'descendants']\n",
      "0\n",
      "\n",
      "['be', 'hold', 'live', 'qampa', 'state', 'midterms', 'pennsylvania', 'gov', 'rendell', 'sen', 'pat', 'toomey', 'join']\n",
      "0\n",
      "\n",
      "['egypt', 'host', 'cop', 'famous', 'political', 'prisoner', 'die', 'family', 'warn']\n",
      "0\n",
      "\n",
      "['herschel', 'walker', 'cite', 'redemption', 'story', 'focus', 'white', 'evangelical', 'christians']\n",
      "0\n",
      "\n",
      "['new', 'movies', 'stream', 'week', 'god', 'forbid']\n",
      "0\n",
      "\n",
      "['ahead', 'release', 'virtual', 'savage', 'fenty', 'lingerie', 'runway', 'rihanna', 'face', 'criticism', 'cast', 'johnny', 'depp', 'production']\n",
      "0\n",
      "\n",
      "['the', 'nyc', 'marathonthe', 'worlds', 'largestwill', 'mark', 'years', 'demonstration', 'race', 'help', 'marathon', 'run', 'accessible', 'women', 'heres', 'story', 'the', 'six', 'who', 'sit']\n",
      "0\n",
      "\n",
      "['cheat', 'scandal', 'rock', 'chess', 'worldand', 'kenneth', 'regan', 'case']\n",
      "0\n",
      "\n",
      "['fabiola', 'valentn', 'miss', 'puerto', 'rico', 'mariana', 'varela', 'miss', 'argentina', 'didnt', 'leave', 'pageant', 'crownbut', 'ring']\n",
      "0\n",
      "\n",
      "['just', 'police', 'yearold', 'suspect', 'arrest', 'connection', 'joggers', 'rape', 'the', 'suspect', 'charge', 'march', 'rape', 'different', 'woman', 'nearly', 'identical', 'location']\n",
      "0\n",
      "\n",
      "['paul', 'pelosi', 'release', 'hospital', 'source', 'familiar', 'matter', 'tell', 'abc', 'news', 'days', 'attack', 'home']\n",
      "0\n",
      "\n",
      "['immigration', 'detainer', 'place', 'man', 'accuse', 'violently', 'assault', 'house', 'speaker', 'nancy', 'pelosis', 'husband', 'dhs', 'spokesperson', 'tell', 'abc', 'news']\n",
      "0\n",
      "\n",
      "['apsports', 'psychologist', 'work', 'san', 'antonio', 'spur', 'sue', 'team', 'player', 'josh', 'primo', 'allege']\n",
      "0\n",
      "\n",
      "['officials', 'embassy', 'moscow', 'visit', 'jail', 'wnba', 'star', 'brittney', 'griner', 'week', 'russian', 'court', 'reject', 'appeal', 'nineyear', 'sentence', 'drug', 'possession']\n",
      "0\n",
      "\n",
      "['canines', 'westminster', 'dog', 'head', 'tennis', 'center']\n",
      "0\n",
      "\n",
      "['trump', 'charge', 'attorney', 'general', 'new', 'york', 'letitia', 'jam', 'push', 'war', 'intimidation', 'harassment']\n",
      "0\n",
      "\n",
      "['the', 'georgia', 'republican', 'play', 'basketball', 'president', 'meet']\n",
      "0\n",
      "\n",
      "['the', 'moab', 'police', 'department', 'accuse', 'disregard', 'sign', 'domestic', 'violence', 'yearold', 'boyfriend', 'weeks', 'death']\n",
      "0\n",
      "\n",
      "['just', 'paul', 'pelosi', 'release', 'hospital', 'days', 'assailant', 'break', 'san', 'francisco', 'home', 'strike', 'head', 'hammer', 'accord', 'multiple', 'report']\n",
      "0\n",
      "\n",
      "['when', 'novak', 'get', 'laptop', 'signal', 'kaling', 'let', 'man', 'go', 'deliver', 'advicewatch', 'interview']\n",
      "0\n",
      "\n",
      "['novak', 'confront', 'man', 'passenger', 'demand', 'know', 'take']\n",
      "0\n",
      "\n",
      "['nobody', 'newcastles', 'wild', 'diy', 'music', 'scene', 'thrive', 'odds']\n",
      "0\n",
      "\n",
      "['flightline', 'horse', 'age', 'face', 'date', 'destiny', 'breeders', 'cup']\n",
      "0\n",
      "\n",
      "['lula', 'havent', 'get', 'its', 'time', 'biden', 'change', 'andre', 'pagliarini']\n",
      "0\n",
      "\n",
      "['davis', 'the', 'life', 'time', 'malcolm', 'andrew', 'clementss', 'classical', 'album', 'week']\n",
      "0\n",
      "\n",
      "['for', 'palestinians', 'netanyahus', 'victory', 'merely', 'change', 'prison', 'guard', 'yara', 'hawari']\n",
      "0\n",
      "\n",
      "['paul', 'pelosi', 'release', 'hospital', 'week', 'suffer', 'brutal', 'attack', 'assailant', 'break', 'couple', 'home', 'san', 'francisco', 'source', 'confirm', 'nbcnews']\n",
      "0\n",
      "\n",
      "['parkland', 'school', 'shooter', 'sentence', 'life', 'prison', 'parole', 'campus', 'massacre', 'kill', 'students', 'staff', 'members']\n",
      "0\n",
      "\n",
      "['julie', 'powell', 'food', 'writer', 'best', 'know', 'memoir', 'julie', 'amp', 'julia', 'die', 'age', 'publisher', 'say']\n",
      "0\n",
      "\n",
      "['takeoff', 'hiphop', 'trio', 'migos', 'kill', 'overnight', 'shoot', 'houston', 'bowl', 'alley', 'accord', 'attorney']\n",
      "0\n",
      "\n",
      "['member', 'parliament', 'go', 'run', 'jungle', 'eat', 'kangaroos', 'testicles', 'absolutely', 'notsir', 'lindsay', 'hoyle', 'tell', 'bethrigby', 'matt', 'hancock', 'answer', 'constituents', 'decision', 'celeb']\n",
      "0\n",
      "\n",
      "['go', 'support', 'people', 'work', 'buildingsir', 'lindsay', 'hoyle', 'say', 'clear', 'allegations', 'individual', 'come', 'estaterigby']\n",
      "0\n",
      "\n",
      "['sir', 'lindsay', 'hoyle', 'say', 'time', 'take', 'investigate', 'sexual', 'harassment', 'westminster', 'need', 'shorter', 'want', 'quicker', 'investigations', 'people', 'complaintsrigby', 'listen']\n",
      "0\n",
      "\n",
      "['ajenglish', 'videos', 'young', 'protesters', 'knock', 'turbans', 'mens', 'head', 'go', 'viral', 'iranprotests', 'sweep', 'country', 'rec']\n",
      "0\n",
      "\n",
      "['public', 'inquiry', 'manchester', 'arena', 'bomb', 'people', 'kill', 'victim', 'john', 'atkinson', 'probably', 'survive', 'inadequacies', 'emergency', 'responsefor', 'news', 'visit']\n",
      "0\n",
      "\n",
      "['francefr', 'israel', 'benjamin', 'netanyahu', 'remporte', 'les', 'lgislatives', 'premier', 'ministre', 'sortant', 'yar', 'lapid', 'vient', 'juste', 'dacter']\n",
      "0\n",
      "\n",
      "['francefr', 'natachavesnitch', 'ninamassonfr', 'brigitte', 'giraud', 'obtient', 'goncourt', 'pour', 'vivre', 'vite', 'elle', 'remonte', 'fil', 'des', 'vnement']\n",
      "0\n",
      "\n",
      "['church', 'england', 'allow', 'samesex', 'marriage', 'say', 'bishop', 'oxford']\n",
      "0\n",
      "\n",
      "['wont', 'seek', 'charge', 'lapd', 'shoot', 'man', 'fake', 'gun']\n",
      "0\n",
      "\n",
      "['kane', 'give', 'freedom', 'london', 'pique', 'call', 'time', 'thursdays', 'sport', 'social']\n",
      "0\n",
      "\n",
      "['do', 'know', 'theres', 'area', 'call', 'little', 'senegal', 'new', 'york', 'let', 'frenchsenegalese', 'yoga', 'instructor', 'ngone', 'mbaye', 'tour']\n",
      "0\n",
      "\n",
      "['country', 'proud', 'david', 'rudisha', 'reflect', 'achievements', 'kenyas', 'olympic', 'medallist', 'wilson', 'kiprugut', 'whos', 'die', 'age']\n",
      "0\n",
      "\n",
      "['president', 'joe', 'biden', 'tell', 'democratic', 'representative', 'teresa', 'leger', 'fernandez', 'lack', 'enthusiasm', 'contagious', 'mistakingly', 'think', 'speak', 'district']\n",
      "0\n",
      "\n",
      "['the', 'white', 'house', 'confirm', 'thursday', 'embassy', 'officials', 'meet', 'brittney', 'griner', 'wnba', 'star', 'detain', 'russia', 'sentence', 'years', 'prison', 'attempt', 'bring', 'illegal', 'narcotics', 'country']\n",
      "0\n",
      "\n",
      "['group', 'migrants', 'leave', 'strand', 'britains', 'busiest', 'coach', 'station', 'tell', 'officials', 'home', 'minister', 'insist', 'night']\n",
      "0\n",
      "\n",
      "['didnt', 'like', 'imran', 'khan', 'afshin', 'rattansi', 'assassination', 'attempt', 'pakistandetails']\n",
      "0\n",
      "\n",
      "['former', 'san', 'antonio', 'spur', 'player', 'josh', 'primo', 'accuse', 'expose', 'team', 'psychologist', 'multiple', 'time', 'private', 'sessions']\n",
      "0\n",
      "\n",
      "['luka', 'doncic', 'currently', 'lead', 'nba', 'score', 'ppg']\n",
      "0\n",
      "\n",
      "['espnfc', 'gerard', 'piqu', 'announce', 'leave', 'barcelonahis', 'final', 'match', 'club', 'saturday', 'camp', 'nou', 'htt']\n",
      "0\n",
      "\n",
      "['espnf', 'red', 'bull', 'film', 'las', 'vegas', 'strip', 'nightthis', 'race', 'go', 'look', 'incredible', 'faceig']\n",
      "0\n",
      "\n",
      "['espnringside', 'david', 'benavidez', 'caleb', 'plant', 'sign', 'contract', 'super', 'middleweight', 'fight', 'source', 'tell', 'mikecoppinger']\n",
      "0\n",
      "\n",
      "['hornets', 'restrict', 'free', 'agent', 'miles', 'bridge', 'plead', 'contest', 'felony', 'domestic', 'violence', 'charge', 'thursday', 'morning', 'los', 'angeles', 'superior', 'courthe', 'face', 'years', 'probation', 'jail', 'time', 'deal', 'prosecutors']\n",
      "0\n",
      "\n",
      "['break', 'michael', 'thomas', 'expect', 'miss', 'rest', 'season', 'saint', 'dennis', 'allen', 'announcedallen', 'add', 'thomas', 'toe', 'respond', 'hop', 'rehab', 'need', 'surgery']\n",
      "0\n",
      "\n",
      "['kyrie', 'irving', 'stop', 'short', 'formally', 'apologize', 'thursday', 'way', 'net', 'nba', 'hop', 'hear', 'controversial', 'social', 'media', 'post', 'book', 'movie', 'feature', 'antisemitic', 'tropesmore', 'nickfriedell']\n",
      "0\n",
      "\n",
      "['espnfc', 'alejandro', 'garnacho', 'ronaldos', 'celebration', 'his', 'influence']\n",
      "0\n",
      "\n",
      "['commissioner', 'adam', 'silver', 'release', 'statement', 'kyrie', 'irving', 'say', 'hes', 'disappoint', 'offer', 'unqualified', 'apology', 'post', 'antisemitic', 'book', 'movie']\n",
      "0\n",
      "\n",
      "['will', 'anderson', 'best', 'edge', 'rushers', 'ive', 'scout', 'past', 'decademelkiperespns', 'prospect', 'draft', 'espnplus']\n",
      "0\n",
      "\n"
     ]
    }
   ],
   "source": [
    "for i in all_transformed:\n",
    "    if i[3] == 0:\n",
    "        print(i[0])\n",
    "        print(i[3])\n",
    "        print()"
   ]
  }
 ],
 "metadata": {
  "kernelspec": {
   "display_name": "Spark 3 in Python 3",
   "language": "python",
   "name": "pyspark3"
  },
  "language_info": {
   "codemirror_mode": {
    "name": "ipython",
    "version": 3
   },
   "file_extension": ".py",
   "mimetype": "text/x-python",
   "name": "python",
   "nbconvert_exporter": "python",
   "pygments_lexer": "ipython3",
   "version": "3.9.5"
  }
 },
 "nbformat": 4,
 "nbformat_minor": 5
}
