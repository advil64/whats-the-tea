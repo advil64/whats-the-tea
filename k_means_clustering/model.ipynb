{
 "cells": [
  {
   "cell_type": "code",
   "execution_count": 1,
   "id": "041a8ff6-8ca7-4552-9ff1-b8ee65d9ab8e",
   "metadata": {},
   "outputs": [],
   "source": [
    "from pyspark.ml.clustering import KMeans\n",
    "from pyspark.ml.functions import array_to_vector\n",
    "from pyspark.sql import functions as F"
   ]
  },
  {
   "cell_type": "code",
   "execution_count": null,
   "id": "a01663dd",
   "metadata": {},
   "outputs": [],
   "source": [
    "ROOT = '../'"
   ]
  },
  {
   "cell_type": "code",
   "execution_count": null,
   "id": "d5acea29-9875-4c0d-b94a-d7ff74139bd9",
   "metadata": {},
   "outputs": [
    {
     "name": "stdout",
     "output_type": "stream",
     "text": [
      "+--------------------+--------------------+\n",
      "|        cleaned_text|      output_vectors|\n",
      "+--------------------+--------------------+\n",
      "|[one, dead, hurt,...|[0.03610290982760...|\n",
      "|[shelf, silver, s...|[-0.4456068724393...|\n",
      "|[year, satyam, fr...|[-0.4698768357435...|\n",
      "|       [sonic, boom]|[-0.3521701395511...|\n",
      "|          [cat, men]|[0.07913395762443...|\n",
      "|[rebuild, holmes,...|[0.09574120491743...|\n",
      "|[be, mahindras, s...|[-0.1619699504226...|\n",
      "|   [form, substance]|[-0.2782560214400...|\n",
      "|[medical, insuran...|[-0.4382889032363...|\n",
      "|[shah, rukh, twee...|[-0.0087734460830...|\n",
      "|[trouble, snow, a...|[-0.1241957495609...|\n",
      "|[next, bill, gate...|[-0.3776799477636...|\n",
      "|[indian, villages...|[-0.3177983223771...|\n",
      "|[indian, youth, s...|[-0.1780846191104...|\n",
      "|[temple, sao, jos...|[-0.0150217153131...|\n",
      "|[govt, ease, educ...|[-0.6779461907488...|\n",
      "|[india, beat, tur...|[-0.3868040855973...|\n",
      "|[musharraf, meet,...|[-0.3752494673244...|\n",
      "|[india, war, mong...|[-0.1327664434909...|\n",
      "|[us-pakistan, bic...|[-0.1575077818706...|\n",
      "+--------------------+--------------------+\n",
      "only showing top 20 rows\n",
      "\n"
     ]
    }
   ],
   "source": [
    "vectorized_df = spark.read.json(f'{ROOT}/dataset/combined/combined_vectors')\n",
    "vectorized_df.show()"
   ]
  },
  {
   "cell_type": "code",
   "execution_count": 5,
   "id": "2c48d562-5230-4be1-a975-c9d1b2e55e3b",
   "metadata": {},
   "outputs": [
    {
     "data": {
      "text/plain": [
       "40954102"
      ]
     },
     "execution_count": 5,
     "metadata": {},
     "output_type": "execute_result"
    }
   ],
   "source": [
    "vectorized_df.count()"
   ]
  },
  {
   "cell_type": "code",
   "execution_count": 6,
   "id": "abaa9dfc-73ba-49de-be49-53a66bc619fd",
   "metadata": {},
   "outputs": [],
   "source": [
    "kmeans = KMeans(featuresCol='article_embedding', predictionCol='prediction', k=5, maxIter=10, seed=1)\n",
    "model = kmeans.fit(vectorized_df)"
   ]
  },
  {
   "cell_type": "code",
   "execution_count": 8,
   "id": "099f4fec-2cd7-4df4-a2ca-2a7ec808af3c",
   "metadata": {},
   "outputs": [
    {
     "data": {
      "text/plain": [
       "[array([-0.62283286]),\n",
       " array([0.23639457]),\n",
       " array([-0.36741422]),\n",
       " array([-0.17766151]),\n",
       " array([0.01256126])]"
      ]
     },
     "execution_count": 8,
     "metadata": {},
     "output_type": "execute_result"
    }
   ],
   "source": [
    "model.clusterCenters()"
   ]
  },
  {
   "cell_type": "code",
   "execution_count": 9,
   "id": "dae38f70-2abd-4f04-9280-6e4c40d15b6d",
   "metadata": {},
   "outputs": [],
   "source": [
    "result_df = model.transform(vectorized_df)"
   ]
  },
  {
   "cell_type": "code",
   "execution_count": 10,
   "id": "aeb01ee8-dd45-4b59-9287-16dafaebad5f",
   "metadata": {},
   "outputs": [],
   "source": [
    "# 0 -> pop culture\n",
    "# 1 -> finance\n",
    "# 2 -> politics\n",
    "# 3 -> breaking news\n",
    "# 4 -> sports/entertainment"
   ]
  },
  {
   "cell_type": "code",
   "execution_count": 11,
   "id": "7a64c3d1-ce94-4acf-a8f2-51d3a7a70aa1",
   "metadata": {},
   "outputs": [
    {
     "data": {
      "text/plain": [
       "[Row(cleaned_text=['be', 'mahindras', 'sell', 'lemon'], output_vectors=DenseVector([-0.162]), prediction=3),\n",
       " Row(cleaned_text=['trouble', 'snow', 'afghanistan'], output_vectors=DenseVector([-0.1242]), prediction=3),\n",
       " Row(cleaned_text=['indian', 'youth', 'set', 'australia'], output_vectors=DenseVector([-0.1781]), prediction=3),\n",
       " Row(cleaned_text=['india', 'war', 'monger', 'country', 'antony'], output_vectors=DenseVector([-0.1328]), prediction=3),\n",
       " Row(cleaned_text=['us-pakistan', 'bicker', 'get', 'ugly'], output_vectors=DenseVector([-0.1575]), prediction=3),\n",
       " Row(cleaned_text=['india', 'aim', 'upstage', 'rampage', 'lankans'], output_vectors=DenseVector([-0.1428]), prediction=3),\n",
       " Row(cleaned_text=['india', 'war', 'monger', 'country', 'antony'], output_vectors=DenseVector([-0.1328]), prediction=3),\n",
       " Row(cleaned_text=['ibf', 'float', 'tender', 'exclusive', 'market', 'agent'], output_vectors=DenseVector([-0.1654]), prediction=3),\n",
       " Row(cleaned_text=[\"'re\", 'vigorously', 'follow', 'attack', 'indian', 'govt'], output_vectors=DenseVector([-0.2406]), prediction=3),\n",
       " Row(cleaned_text=['rift', 'zardari', 'say', 'gilani'], output_vectors=DenseVector([-0.2584]), prediction=3)]"
      ]
     },
     "execution_count": 11,
     "metadata": {},
     "output_type": "execute_result"
    }
   ],
   "source": [
    "result_df.filter(result_df['prediction'] == 3).head(10)"
   ]
  },
  {
   "cell_type": "code",
   "execution_count": 12,
   "id": "618429f5-82b7-4f4b-94fe-ed5e4baec098",
   "metadata": {},
   "outputs": [],
   "source": [
    "# 0 -> \n",
    "# 1 -> technology?\n",
    "# 2 -> politics\n",
    "# 3 -> finance\n",
    "# 4 -> sports\n",
    "# 8 -> health"
   ]
  },
  {
   "cell_type": "code",
   "execution_count": null,
   "id": "b2c7af67-0d51-467e-94b1-9ffdb9ede30c",
   "metadata": {},
   "outputs": [],
   "source": [
    "model.write().overwrite().save(f'{ROOT}/models/k_means')"
   ]
  }
 ],
 "metadata": {
  "kernelspec": {
   "display_name": "Python 3",
   "language": "python",
   "name": "python3"
  },
  "language_info": {
   "codemirror_mode": {
    "name": "ipython",
    "version": 3
   },
   "file_extension": ".py",
   "mimetype": "text/x-python",
   "name": "python",
   "nbconvert_exporter": "python",
   "pygments_lexer": "ipython3",
   "version": "3.9.5"
  },
  "vscode": {
   "interpreter": {
    "hash": "916dbcbb3f70747c44a77c7bcd40155683ae19c65e1c03b4aa3499c5328201f1"
   }
  }
 },
 "nbformat": 4,
 "nbformat_minor": 5
}
