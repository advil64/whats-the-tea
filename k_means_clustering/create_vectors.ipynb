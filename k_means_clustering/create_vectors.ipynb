{
 "cells": [
  {
   "cell_type": "code",
   "execution_count": 1,
   "metadata": {},
   "outputs": [],
   "source": [
    "from pyspark.ml.feature import Word2VecModel\n",
    "from pyspark.sql import functions as F"
   ]
  },
  {
   "cell_type": "code",
   "execution_count": null,
   "metadata": {},
   "outputs": [],
   "source": [
    "ROOT = '/common/users/shared/cs543_fall22_group3'"
   ]
  },
  {
   "cell_type": "code",
   "execution_count": 2,
   "metadata": {},
   "outputs": [
    {
     "name": "stdout",
     "output_type": "stream",
     "text": [
      "+--------------------+--------------------+\n",
      "|        cleaned_text|       selected_text|\n",
      "+--------------------+--------------------+\n",
      "|london,financial,...|London's financia...|\n",
      "|the,department,la...|The Department of...|\n",
      "|mayor,gov,plan,sh...|MAYOR: GOV’S PLAN...|\n",
      "|girardi,yankees,c...|Girardi on Yankee...|\n",
      "|the,young,turks,h...|The Young Turks H...|\n",
      "|emerge,market,inc...|Emerging markets ...|\n",
      "|fool,try,develop,...|A Fool tries to d...|\n",
      "|the,comedy,write,...|The comedy, writt...|\n",
      "|another,call,rewr...|Another Call to R...|\n",
      "|blake,shelton,gwe...|Blake Shelton & G...|\n",
      "|read,nico,branham...|Read Nico Branham...|\n",
      "|plus,xero,boss,re...|PLUS: Xero boss r...|\n",
      "|awka-the,claim,go...|AWKA-THE claim by...|\n",
      "|though,subways,bu...|Though subways an...|\n",
      "|forget,not,christ...|‘Forgotten’? Not ...|\n",
      "|leader,opposition...|Leader of the opp...|\n",
      "|natalia,kill,say,...|Natalia Kills say...|\n",
      "|superior,fall,2-1...|Superior falls to...|\n",
      "|thom,patterson,cn...|By Thom Patterson...|\n",
      "|finance,minister,...|EU finance minist...|\n",
      "+--------------------+--------------------+\n",
      "only showing top 20 rows\n",
      "\n"
     ]
    }
   ],
   "source": [
    "processed_df = spark.read.json('{ROOT}/combined/combined_processed')\n",
    "processed_df.show()"
   ]
  },
  {
   "cell_type": "code",
   "execution_count": 3,
   "metadata": {},
   "outputs": [
    {
     "data": {
      "text/plain": [
       "40954102"
      ]
     },
     "execution_count": 3,
     "metadata": {},
     "output_type": "execute_result"
    }
   ],
   "source": [
    "processed_df.count()"
   ]
  },
  {
   "cell_type": "code",
   "execution_count": 4,
   "metadata": {},
   "outputs": [
    {
     "name": "stdout",
     "output_type": "stream",
     "text": [
      "+--------------------+--------------------+\n",
      "|        cleaned_text|       selected_text|\n",
      "+--------------------+--------------------+\n",
      "|[london, financia...|London's financia...|\n",
      "|[the, department,...|The Department of...|\n",
      "|[mayor, gov, plan...|MAYOR: GOV’S PLAN...|\n",
      "|[girardi, yankees...|Girardi on Yankee...|\n",
      "|[the, young, turk...|The Young Turks H...|\n",
      "|[emerge, market, ...|Emerging markets ...|\n",
      "|[fool, try, devel...|A Fool tries to d...|\n",
      "|[the, comedy, wri...|The comedy, writt...|\n",
      "|[another, call, r...|Another Call to R...|\n",
      "|[blake, shelton, ...|Blake Shelton & G...|\n",
      "|[read, nico, bran...|Read Nico Branham...|\n",
      "|[plus, xero, boss...|PLUS: Xero boss r...|\n",
      "|[awka-the, claim,...|AWKA-THE claim by...|\n",
      "|[though, subways,...|Though subways an...|\n",
      "|[forget, not, chr...|‘Forgotten’? Not ...|\n",
      "|[leader, oppositi...|Leader of the opp...|\n",
      "|[natalia, kill, s...|Natalia Kills say...|\n",
      "|[superior, fall, ...|Superior falls to...|\n",
      "|[thom, patterson,...|By Thom Patterson...|\n",
      "|[finance, ministe...|EU finance minist...|\n",
      "+--------------------+--------------------+\n",
      "only showing top 20 rows\n",
      "\n"
     ]
    }
   ],
   "source": [
    "processed_df = processed_df.withColumn('cleaned_text', F.split(F.col('cleaned_text'), ','))\n",
    "processed_df.show()"
   ]
  },
  {
   "cell_type": "code",
   "execution_count": 5,
   "metadata": {},
   "outputs": [],
   "source": [
    "word2vec_model = Word2VecModel.load(f'{ROOT}/models/word2vec')"
   ]
  },
  {
   "cell_type": "code",
   "execution_count": 6,
   "metadata": {},
   "outputs": [
    {
     "name": "stdout",
     "output_type": "stream",
     "text": [
      "+--------------------+--------------------+\n",
      "|        cleaned_text|      output_vectors|\n",
      "+--------------------+--------------------+\n",
      "|[london, financia...|[-0.5109536331146...|\n",
      "|[the, department,...|[-0.3147776111887...|\n",
      "|[mayor, gov, plan...|[-5.5029392242431...|\n",
      "|[girardi, yankees...|[0.12310679753621...|\n",
      "|[the, young, turk...|[-0.2074893119434...|\n",
      "|[emerge, market, ...|[-0.4438817477361...|\n",
      "|[fool, try, devel...|[-0.2903663915349...|\n",
      "|[the, comedy, wri...|[0.14530817537822...|\n",
      "|[another, call, r...|[-0.0227802122632...|\n",
      "|[blake, shelton, ...|[0.2999736661076895]|\n",
      "|[read, nico, bran...|[0.0738221023763929]|\n",
      "|[plus, xero, boss...|[-0.2142722297992...|\n",
      "|[awka-the, claim,...|[-0.0676146328735...|\n",
      "|[though, subways,...|[-0.0927275374531...|\n",
      "|[forget, not, chr...|[0.20289693609811...|\n",
      "|[leader, oppositi...|[-0.0717920884490...|\n",
      "|[natalia, kill, s...|[0.05694128102105...|\n",
      "|[superior, fall, ...|[-0.0910834123690...|\n",
      "|[thom, patterson,...|[-0.2146621572605...|\n",
      "|[finance, ministe...|[-0.4932757963736...|\n",
      "+--------------------+--------------------+\n",
      "only showing top 20 rows\n",
      "\n"
     ]
    }
   ],
   "source": [
    "vectorized_df = word2vec_model.transform(processed_df.select('cleaned_text'))\n",
    "vectorized_df.show()"
   ]
  },
  {
   "cell_type": "code",
   "execution_count": 7,
   "metadata": {},
   "outputs": [
    {
     "name": "stdout",
     "output_type": "stream",
     "text": [
      "root\n",
      " |-- cleaned_text: array (nullable = true)\n",
      " |    |-- element: string (containsNull = true)\n",
      " |-- output_vectors: vector (nullable = true)\n",
      "\n"
     ]
    }
   ],
   "source": [
    "vectorized_df.printSchema()"
   ]
  },
  {
   "cell_type": "code",
   "execution_count": null,
   "metadata": {},
   "outputs": [],
   "source": [
    "vectorized_df.write.mode('Overwrite').json(f'{ROOT}/combined/combined_vectors_result')"
   ]
  }
 ],
 "metadata": {
  "kernelspec": {
   "display_name": "Spark 3 in Python 3",
   "language": "python",
   "name": "pyspark3"
  },
  "language_info": {
   "codemirror_mode": {
    "name": "ipython",
    "version": 3
   },
   "file_extension": ".py",
   "mimetype": "text/x-python",
   "name": "python",
   "nbconvert_exporter": "python",
   "pygments_lexer": "ipython3",
   "version": "3.9.5"
  },
  "vscode": {
   "interpreter": {
    "hash": "31f2aee4e71d21fbe5cf8b01ff0e069b9275f58929596ceb00d14d90e3e16cd6"
   }
  }
 },
 "nbformat": 4,
 "nbformat_minor": 4
}
