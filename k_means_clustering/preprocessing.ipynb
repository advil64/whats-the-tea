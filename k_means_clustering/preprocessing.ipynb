{
 "cells": [
  {
   "cell_type": "code",
   "execution_count": 1,
   "id": "a589af87-7815-4ed0-be35-9a2101b36fea",
   "metadata": {},
   "outputs": [
    {
     "name": "stderr",
     "output_type": "stream",
     "text": [
      "[nltk_data] Downloading package wordnet to\n",
      "[nltk_data]     /common/home/vig4/nltk_data...\n",
      "[nltk_data]   Package wordnet is already up-to-date!\n",
      "[nltk_data] Downloading package omw-1.4 to\n",
      "[nltk_data]     /common/home/vig4/nltk_data...\n",
      "[nltk_data]   Package omw-1.4 is already up-to-date!\n"
     ]
    },
    {
     "data": {
      "text/plain": [
       "True"
      ]
     },
     "execution_count": 1,
     "metadata": {},
     "output_type": "execute_result"
    }
   ],
   "source": [
    "from gensim.parsing.preprocessing import STOPWORDS\n",
    "from nltk.stem import WordNetLemmatizer\n",
    "from nltk.tokenize import word_tokenize\n",
    "from pyspark.sql.functions import udf\n",
    "import nltk\n",
    "import string\n",
    "\n",
    "nltk.download('wordnet')\n",
    "nltk.download('omw-1.4')"
   ]
  },
  {
   "cell_type": "code",
   "execution_count": 2,
   "id": "a0d2ddbf",
   "metadata": {},
   "outputs": [],
   "source": [
    "ROOT = '../dataset/combined'"
   ]
  },
  {
   "cell_type": "code",
   "execution_count": 3,
   "id": "dec2c1d3-3754-4512-97a4-5fcf16bcd704",
   "metadata": {},
   "outputs": [
    {
     "name": "stdout",
     "output_type": "stream",
     "text": [
      "+--------------------+\n",
      "|             article|\n",
      "+--------------------+\n",
      "|U.S. investment b...|\n",
      "|Mexican coffee pr...|\n",
      "|Oil companies are...|\n",
      "|Adam Dunn … you a...|\n",
      "|The surprising re...|\n",
      "|» County’s annual...|\n",
      "|Dropcam will prob...|\n",
      "|Wild Insects need...|\n",
      "|British scientist...|\n",
      "|The Big Bang Theo...|\n",
      "|A nurse made the ...|\n",
      "|Mother-of-three D...|\n",
      "|The Scots were ki...|\n",
      "|He may not be com...|\n",
      "|The wreckage of t...|\n",
      "|Inter Milan were ...|\n",
      "|18-year-old Aditi...|\n",
      "|Tiger Woods grima...|\n",
      "|Danny Cipriani to...|\n",
      "|US jobs numbers a...|\n",
      "+--------------------+\n",
      "only showing top 20 rows\n",
      "\n"
     ]
    }
   ],
   "source": [
    "raw_df = spark.read.json(f'{ROOT}/combined_raw')\n",
    "raw_df.show()"
   ]
  },
  {
   "cell_type": "code",
   "execution_count": 4,
   "id": "d788129b-3ea9-499f-91ca-d13c125b2528",
   "metadata": {},
   "outputs": [
    {
     "data": {
      "text/plain": [
       "40954102"
      ]
     },
     "execution_count": 4,
     "metadata": {},
     "output_type": "execute_result"
    }
   ],
   "source": [
    "raw_df.count()"
   ]
  },
  {
   "cell_type": "code",
   "execution_count": 5,
   "id": "d787949c-2eeb-4eee-8750-4f19b95287be",
   "metadata": {},
   "outputs": [],
   "source": [
    "lemmatizer = WordNetLemmatizer()"
   ]
  },
  {
   "cell_type": "code",
   "execution_count": 6,
   "id": "b556beee-4df6-4f35-9270-66a8d4601cb3",
   "metadata": {},
   "outputs": [],
   "source": [
    "def preprocess_text(text):\n",
    "    tokens = word_tokenize(text)\n",
    "    remove_stopwords = [lemmatizer.lemmatize(t.lower()) for t in tokens if not t in STOPWORDS and t not in string.punctuation and len(t) > 2]\n",
    "\n",
    "    return ','.join(remove_stopwords)"
   ]
  },
  {
   "cell_type": "code",
   "execution_count": 7,
   "id": "0ed4cf68-c150-4693-ac40-5b5955ef14e1",
   "metadata": {},
   "outputs": [
    {
     "name": "stdout",
     "output_type": "stream",
     "text": [
      "+--------------------+\n",
      "|             article|\n",
      "+--------------------+\n",
      "|u.s.,investment,b...|\n",
      "|mexican,coffee,pr...|\n",
      "|oil,company,large...|\n",
      "|adam,dunn,sure,6-...|\n",
      "|the,surprising,re...|\n",
      "|county,annual,eve...|\n",
      "|dropcam,probably,...|\n",
      "|wild,insect,neede...|\n",
      "|british,scientist...|\n",
      "|the,big,bang,theo...|\n",
      "|nurse,discovery,c...|\n",
      "|mother-of-three,d...|\n",
      "|the,scot,kicked,g...|\n",
      "|coming,home,covet...|\n",
      "|the,wreckage,car,...|\n",
      "|inter,milan,held,...|\n",
      "|18-year-old,aditi...|\n",
      "|tiger,wood,grimac...|\n",
      "|danny,cipriani,to...|\n",
      "|job,number,add,is...|\n",
      "+--------------------+\n",
      "only showing top 20 rows\n",
      "\n"
     ]
    }
   ],
   "source": [
    "preprocess_udf = udf(preprocess_text)\n",
    "processed_df = raw_df.withColumn('article', preprocess_udf(raw_df['article']))\n",
    "processed_df.show()"
   ]
  },
  {
   "cell_type": "code",
   "execution_count": 8,
   "id": "15b81f40-729b-4c0b-9379-c69f741b1bca",
   "metadata": {},
   "outputs": [
    {
     "name": "stdout",
     "output_type": "stream",
     "text": [
      "Raw text: When a swinging door takes up too much space, just slip it inside the wall with a pocket door.\n",
      "Cleaned text: when,swinging,door,take,space,slip,inside,wall,pocket,door\n",
      "\n",
      "Raw text: BUENOS AIRES, Puntarenas – As government mediators return to San José and peace slowly returns to the Salitre indigenous reserve in Costa Rica’s southeastern region, the charred skeleton of a makeshift home remains as the only visible vestige of an intense conflict earlier this week.\n",
      "Cleaned text: buenos,aire,puntarenas,government,mediator,return,san,josé,peace,slowly,return,salitre,indigenous,reserve,costa,rica,southeastern,region,charred,skeleton,makeshift,home,remains,visible,vestige,intense,conflict,earlier,week\n",
      "\n",
      "Raw text: Director Luke Scott's Morgan is a very forgettable sci-fi thriller that fails to achieve the highs of last year's Ex-Machina.\n",
      "Cleaned text: director,luke,scott,morgan,forgettable,sci-fi,thriller,fails,achieve,high,year,ex-machina\n",
      "\n",
      "Raw text: HBO announced today that production has been halted on Westworld for two months, so the creators can finish the last four scripts.\n",
      "Cleaned text: hbo,announced,today,production,halted,westworld,month,creator,finish,script\n",
      "\n",
      "Raw text: They will deliver perfectly fitting lingerie directly to your door.\n",
      "Cleaned text: they,deliver,perfectly,fitting,lingerie,directly,door\n",
      "\n"
     ]
    }
   ],
   "source": [
    "raw_df_2000 = raw_df.limit(2000).collect()\n",
    "processed_df_2000 = processed_df.limit(2000).collect()\n",
    "\n",
    "for i in range(1000, 1005):\n",
    "    print(f'Raw text: {raw_df_2000[i][\"article\"]}')\n",
    "    print(f'Cleaned text: {processed_df_2000[i][\"article\"]}')\n",
    "    print()"
   ]
  },
  {
   "cell_type": "code",
   "execution_count": 9,
   "id": "72f9886e-6a4d-4f42-872b-d5e43f7b764b",
   "metadata": {},
   "outputs": [],
   "source": [
    "processed_df.write.mode('overwrite').json(f'{ROOT}/combined_processed')"
   ]
  }
 ],
 "metadata": {
  "kernelspec": {
   "display_name": "Spark 3 in Python 3",
   "language": "python",
   "name": "pyspark3"
  },
  "language_info": {
   "codemirror_mode": {
    "name": "ipython",
    "version": 3
   },
   "file_extension": ".py",
   "mimetype": "text/x-python",
   "name": "python",
   "nbconvert_exporter": "python",
   "pygments_lexer": "ipython3",
   "version": "3.9.5"
  }
 },
 "nbformat": 4,
 "nbformat_minor": 5
}
